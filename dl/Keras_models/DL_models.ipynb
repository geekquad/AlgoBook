{
  "nbformat": 4,
  "nbformat_minor": 0,
  "metadata": {
    "colab": {
      "name": "DL_models.ipynb",
      "provenance": []
    },
    "kernelspec": {
      "name": "python3",
      "display_name": "Python 3"
    },
    "language_info": {
      "name": "python"
    }
  },
  "cells": [
    {
      "cell_type": "code",
      "metadata": {
        "id": "bPwow78WKRKA"
      },
      "source": [
        "from tensorflow.keras.models import Model,Sequential,load_model\n",
        "from tensorflow.keras.layers import Conv3D,MaxPooling3D,ZeroPadding3D,Flatten,Dense,Dropout,Convolution3D\n",
        "from tensorflow.keras.layers import Conv2D,MaxPool2D,Dropout,BatchNormalization,ReLU,MaxPooling2D,Add\n",
        "from tensorflow.keras.layers import GlobalAveragePooling2D,concatenate,AveragePooling2D\n",
        "from tensorflow.keras.optimizers import SGD,RMSprop\n",
        "from tensorflow.keras.losses import categorical_crossentropy,MeanSquaredError,MeanAbsolutePercentageError\n",
        "from tensorflow.keras.losses import MeanAbsoluteError\n",
        "from tensorflow.keras.preprocessing.image import ImageDataGenerator\n",
        "\n",
        "from tensorflow.keras.callbacks import EarlyStopping, ModelCheckpoint, ReduceLROnPlateau\n",
        "from tensorflow.keras.callbacks import CSVLogger, TensorBoard\n",
        "from tensorflow.keras.metrics import TruePositives,FalsePositives,TrueNegatives,FalseNegatives\n",
        "from tensorflow.keras.metrics import AUC,Accuracy,Precision,Recall\n",
        "\n",
        "from sklearn.utils import class_weight\n",
        "import datetime\n",
        "from tensorflow.keras import Input\n",
        "from tensorflow.keras import initializers"
      ],
      "execution_count": null,
      "outputs": []
    },
    {
      "cell_type": "markdown",
      "metadata": {
        "id": "mXf088BsJbtn"
      },
      "source": [
        "# Models from scratch"
      ]
    },
    {
      "cell_type": "markdown",
      "metadata": {
        "id": "KK-mVYR-Fqz5"
      },
      "source": [
        "# VGG16"
      ]
    },
    {
      "cell_type": "code",
      "metadata": {
        "id": "JILMmlo4FsOp"
      },
      "source": [
        "def vgg16_model(summary=False):\n",
        "    model = Sequential()\n",
        "    model.add(Conv2D(input_shape=(256,256,1),filters=64,kernel_size=(3,3), activation=\"relu\"))\n",
        "    model.add(Conv2D(filters=64,kernel_size=(3,3), activation=\"relu\"))\n",
        "    model.add(MaxPool2D(pool_size=(2,2),strides=(2,2)))\n",
        "    model.add(Conv2D(filters=128, kernel_size=(3,3), activation=\"relu\"))\n",
        "    model.add(Conv2D(filters=128, kernel_size=(3,3), activation=\"relu\"))\n",
        "    model.add(MaxPool2D(pool_size=(2,2),strides=(2,2)))\n",
        "    model.add(Conv2D(filters=256, kernel_size=(3,3), activation=\"relu\"))\n",
        "    model.add(Conv2D(filters=256, kernel_size=(3,3), activation=\"relu\"))\n",
        "    model.add(Conv2D(filters=256, kernel_size=(3,3), activation=\"relu\"))\n",
        "    model.add(MaxPool2D(pool_size=(2,2),strides=(2,2)))\n",
        "    model.add(Conv2D(filters=512, kernel_size=(3,3), activation=\"relu\"))\n",
        "    model.add(Conv2D(filters=512, kernel_size=(3,3), activation=\"relu\"))\n",
        "    model.add(Conv2D(filters=512, kernel_size=(3,3), activation=\"relu\"))\n",
        "    model.add(MaxPool2D(pool_size=(2,2),strides=(2,2)))\n",
        "    model.add(Conv2D(filters=512, kernel_size=(3,3), activation=\"relu\"))\n",
        "    model.add(Conv2D(filters=512, kernel_size=(3,3), activation=\"relu\"))\n",
        "    model.add(Conv2D(filters=512, kernel_size=(3,3), activation=\"relu\"))\n",
        "    model.add(MaxPool2D(pool_size=(2,2),strides=(2,2)))\n",
        "    \n",
        "    model.add(Flatten())\n",
        "    model.add(Dense(units=4096,activation=\"relu\"))\n",
        "    model.add(Dropout(0.7,seed = seed_value))\n",
        "    model.add(Dense(units=4096,activation=\"relu\"))\n",
        "    model.add(Dropout(0.7,seed = seed_value))\n",
        "    model.add(Dense(units=2, activation=\"softmax\"))\n",
        "    \n",
        "    if summary:\n",
        "        print(model.summary())\n",
        "    \n",
        "    return model"
      ],
      "execution_count": null,
      "outputs": []
    },
    {
      "cell_type": "markdown",
      "metadata": {
        "id": "IR7KlF7eFWp6"
      },
      "source": [
        "# ResNet Variants"
      ]
    },
    {
      "cell_type": "code",
      "metadata": {
        "id": "OZGCCHmuFVSl"
      },
      "source": [
        "def residual_block(X_start, filters, name, reduce=False, res_conv2d=False):\n",
        "    \"\"\"\n",
        "    Residual building block used by ResNet-50\n",
        "    \"\"\"\n",
        "    nb_filters_1, nb_filters_2, nb_filters_3 = filters\n",
        "    strides_1 = [2,2] if reduce else [1,1]\n",
        "        \n",
        "    X = Conv2D(filters=nb_filters_1, kernel_size=[1,1], strides=strides_1, padding='same', name=name)(X_start)\n",
        "    X = BatchNormalization()(X)      # default axis-1 is ok\n",
        "    X = ReLU()(X)\n",
        "    \n",
        "    X = Conv2D(filters=nb_filters_2, kernel_size=[3,3], strides=[1,1], padding='same')(X)\n",
        "    X = BatchNormalization()(X)\n",
        "    X = ReLU()(X)\n",
        "    \n",
        "    X = Conv2D(filters=nb_filters_3, kernel_size=[1,1], strides=[1,1], padding='same')(X)\n",
        "    X = BatchNormalization()(X)\n",
        "    \n",
        "    if res_conv2d:\n",
        "        X_res = Conv2D(filters=nb_filters_3, kernel_size=[1,1], strides=strides_1, padding='same')(X_start)\n",
        "        X_res = BatchNormalization()(X_res)\n",
        "    else:\n",
        "        X_res = X_start\n",
        "        \n",
        "    X = Add()([X, X_res])\n",
        "    obj = ReLU()\n",
        "    X = obj(X)\n",
        "    return X"
      ],
      "execution_count": null,
      "outputs": []
    },
    {
      "cell_type": "markdown",
      "metadata": {
        "id": "0YHEOnbdE_Da"
      },
      "source": [
        "# ResNet50"
      ]
    },
    {
      "cell_type": "code",
      "metadata": {
        "id": "_kQkboBGFxoq"
      },
      "source": [
        "def resnet50(input_shape):\n",
        "    assert len(input_shape) == 3\n",
        "    \n",
        "    X_input = Input(shape=input_shape)\n",
        "\n",
        "    # conv1\n",
        "    X = Conv2D(filters=64, kernel_size=[7,7], strides=[2,2], padding='same', name='conv1')(X_input)\n",
        "    X = BatchNormalization(name='bn_conv1')(X)\n",
        "    obj = ReLU()\n",
        "    X = obj(X)\n",
        "    X = MaxPooling2D([3,3], strides=[2,2])(X)\n",
        "\n",
        "    # conv2_x\n",
        "    X = residual_block(X, filters=[64, 64, 256], name='conv2_a', reduce=False, res_conv2d=True)\n",
        "    X = residual_block(X, filters=[64, 64, 256], name='conv2_b')\n",
        "    X = residual_block(X, filters=[64, 64, 256], name='conv2_c')\n",
        "\n",
        "    # conv3_x\n",
        "    X = residual_block(X, filters=[128, 128, 512], name='conv3_a', reduce=True, res_conv2d=True)\n",
        "    X = residual_block(X, filters=[128, 128, 512], name='conv3_b')\n",
        "    X = residual_block(X, filters=[128, 128, 512], name='conv3_c')\n",
        "    X = residual_block(X, filters=[128, 128, 512], name='conv3_d')\n",
        "\n",
        "    # conv4_x\n",
        "    X = residual_block(X, filters=[256, 256, 1024], name='conv4_a', reduce=True, res_conv2d=True)\n",
        "    X = residual_block(X, filters=[256, 256, 1024], name='conv4_b')\n",
        "    X = residual_block(X, filters=[256, 256, 1024], name='conv4_c')\n",
        "    X = residual_block(X, filters=[256, 256, 1024], name='conv4_d')\n",
        "    X = residual_block(X, filters=[256, 256, 1024], name='conv4_e')\n",
        "    X = residual_block(X, filters=[256, 256, 1024], name='conv4_f')\n",
        "\n",
        "    # conv5_x\n",
        "    X = residual_block(X, filters=[512, 512, 2048], name='conv5_a', reduce=True, res_conv2d=True)\n",
        "    X = residual_block(X, filters=[512, 512, 2048], name='conv5_b')\n",
        "    X = residual_block(X, filters=[512, 512, 2048], name='conv5_c')\n",
        "\n",
        "    X = GlobalAveragePooling2D(name='avg_pool')(X)\n",
        "    X = Flatten()(X)\n",
        "    X = Dense(units=2, activation='softmax')(X)\n",
        "    model = tf.keras.models.Model(inputs=X_input, outputs=X)\n",
        "    return model"
      ],
      "execution_count": null,
      "outputs": []
    },
    {
      "cell_type": "markdown",
      "metadata": {
        "id": "IB6ldzVxFywp"
      },
      "source": [
        "# ResNet101\n"
      ]
    },
    {
      "cell_type": "code",
      "metadata": {
        "id": "2VD3e870E-QB"
      },
      "source": [
        "def resnet101(input_shape):\n",
        "    assert len(input_shape) == 3\n",
        "    \n",
        "    X_input = Input(shape=input_shape)\n",
        "\n",
        "    # conv1\n",
        "    X = Conv2D(filters=64, kernel_size=[7,7], strides=[2,2], padding='same', name='conv1')(X_input)\n",
        "    X = BatchNormalization(name='bn_conv1')(X)\n",
        "    obj = ReLU()\n",
        "    X = obj(X)\n",
        "    X = MaxPooling2D([3,3], strides=[2,2])(X)\n",
        "\n",
        "    # conv2_x\n",
        "    X = residual_block(X, filters=[64, 64, 256], name='conv2_a', reduce=False, res_conv2d=True)\n",
        "    X = residual_block(X, filters=[64, 64, 256], name='conv2_b')\n",
        "    X = residual_block(X, filters=[64, 64, 256], name='conv2_c')\n",
        "#     X = GlobalAveragePooling2D(name='max_pool')(X)\n",
        "\n",
        "    # conv3_x\n",
        "    X = residual_block(X, filters=[128, 128, 512], name='conv3_a', reduce=True, res_conv2d=True)\n",
        "    X = residual_block(X, filters=[128, 128, 512], name='conv3_b')\n",
        "    X = residual_block(X, filters=[128, 128, 512], name='conv3_c')\n",
        "    X = residual_block(X, filters=[128, 128, 512], name='conv3_d')\n",
        "#     X = GlobalAveragePooling2D(name='max_pool')(X)\n",
        "\n",
        "    # conv4_x\n",
        "    X = residual_block(X, filters=[256, 256, 1024], name='conv4_a', reduce=True, res_conv2d=True)\n",
        "    X = residual_block(X, filters=[256, 256, 1024], name='conv4_b')\n",
        "    X = residual_block(X, filters=[256, 256, 1024], name='conv4_c')\n",
        "    X = residual_block(X, filters=[256, 256, 1024], name='conv4_d')\n",
        "    X = residual_block(X, filters=[256, 256, 1024], name='conv4_e')\n",
        "    X = residual_block(X, filters=[256, 256, 1024], name='conv4_f')\n",
        "    X = residual_block(X, filters=[256, 256, 1024], name='conv4_g')\n",
        "    X = residual_block(X, filters=[256, 256, 1024], name='conv4_h')\n",
        "    X = residual_block(X, filters=[256, 256, 1024], name='conv4_i')\n",
        "    X = residual_block(X, filters=[256, 256, 1024], name='conv4_j')\n",
        "    X = residual_block(X, filters=[256, 256, 1024], name='conv4_k')\n",
        "    X = residual_block(X, filters=[256, 256, 1024], name='conv4_l')\n",
        "    X = residual_block(X, filters=[256, 256, 1024], name='conv4_m')\n",
        "    X = residual_block(X, filters=[256, 256, 1024], name='conv4_n')\n",
        "    X = residual_block(X, filters=[256, 256, 1024], name='conv4_o')\n",
        "    X = residual_block(X, filters=[256, 256, 1024], name='conv4_p')\n",
        "    X = residual_block(X, filters=[256, 256, 1024], name='conv4_q')\n",
        "    X = residual_block(X, filters=[256, 256, 1024], name='conv4_r')\n",
        "    X = residual_block(X, filters=[256, 256, 1024], name='conv4_s')\n",
        "    X = residual_block(X, filters=[256, 256, 1024], name='conv4_t')\n",
        "    X = residual_block(X, filters=[256, 256, 1024], name='conv4_u')\n",
        "    X = residual_block(X, filters=[256, 256, 1024], name='conv4_v')\n",
        "    X = residual_block(X, filters=[256, 256, 1024], name='conv4_w')\n",
        "#     X = GlobalAveragePooling2D(name='max_pool')(X)\n",
        "\n",
        "    # conv5_x\n",
        "    X = residual_block(X, filters=[512, 512, 2048], name='conv5_a', reduce=True, res_conv2d=True)\n",
        "    X = residual_block(X, filters=[512, 512, 2048], name='conv5_b')\n",
        "    X = residual_block(X, filters=[512, 512, 2048], name='conv5_c')\n",
        "\n",
        "    X = GlobalAveragePooling2D(name='max_pool')(X)\n",
        "    X = Flatten()(X)\n",
        "    X = Dense(units=1, activation='relu')(X)\n",
        "    X = Dropout(0.5)(X)\n",
        "    X = Dense(units=128, activation='relu')(X)\n",
        "    X = Dropout(0.5)(X)\n",
        "    X = Dense(units=1, activation='relu')(X)\n",
        "    model = tf.keras.models.Model(inputs=X_input, outputs=X)\n",
        "    return model"
      ],
      "execution_count": null,
      "outputs": []
    },
    {
      "cell_type": "markdown",
      "metadata": {
        "id": "318qALhrFBua"
      },
      "source": [
        "# ResNet 152"
      ]
    },
    {
      "cell_type": "code",
      "metadata": {
        "id": "F7v_hlW_FBVs"
      },
      "source": [
        "def resnet152(input_shape):\n",
        "    assert len(input_shape) == 3\n",
        "    \n",
        "    X_input = Input(shape=input_shape)\n",
        "\n",
        "    # conv1\n",
        "    X = Conv2D(filters=64, kernel_size=[7,7], strides=[2,2], padding='same', name='conv1')(X_input)\n",
        "    X = BatchNormalization(name='bn_conv1')(X)\n",
        "    obj = ReLU()\n",
        "    X = obj(X)\n",
        "    X = MaxPooling2D([3,3], strides=[2,2])(X)\n",
        "\n",
        "    # conv2_x\n",
        "    X = residual_block(X, filters=[64, 64, 256], name='conv2_a', reduce=False, res_conv2d=True)\n",
        "    X = residual_block(X, filters=[64, 64, 256], name='conv2_b')\n",
        "    X = residual_block(X, filters=[64, 64, 256], name='conv2_c')\n",
        "\n",
        "    # conv3_x\n",
        "    X = residual_block(X, filters=[128, 128, 512], name='conv3_a', reduce=True, res_conv2d=True)\n",
        "    X = residual_block(X, filters=[128, 128, 512], name='conv3_b')\n",
        "    X = residual_block(X, filters=[128, 128, 512], name='conv3_c')\n",
        "    X = residual_block(X, filters=[128, 128, 512], name='conv3_d')\n",
        "    X = residual_block(X, filters=[128, 128, 512], name='conv3_e')\n",
        "    X = residual_block(X, filters=[128, 128, 512], name='conv3_f')\n",
        "    X = residual_block(X, filters=[128, 128, 512], name='conv3_g')\n",
        "    X = residual_block(X, filters=[128, 128, 512], name='conv3_h')\n",
        "\n",
        "    # conv4_x\n",
        "    X = residual_block(X, filters=[256, 256, 1024], name='conv4_a', reduce=True, res_conv2d=True)\n",
        "    X = residual_block(X, filters=[256, 256, 1024], name='conv4_b')\n",
        "    X = residual_block(X, filters=[256, 256, 1024], name='conv4_c')\n",
        "    X = residual_block(X, filters=[256, 256, 1024], name='conv4_d')\n",
        "    X = residual_block(X, filters=[256, 256, 1024], name='conv4_e')\n",
        "    X = residual_block(X, filters=[256, 256, 1024], name='conv4_f')\n",
        "    X = residual_block(X, filters=[256, 256, 1024], name='conv4_g')\n",
        "    X = residual_block(X, filters=[256, 256, 1024], name='conv4_h')\n",
        "    X = residual_block(X, filters=[256, 256, 1024], name='conv4_i')\n",
        "    X = residual_block(X, filters=[256, 256, 1024], name='conv4_j')\n",
        "    X = residual_block(X, filters=[256, 256, 1024], name='conv4_k')\n",
        "    X = residual_block(X, filters=[256, 256, 1024], name='conv4_l')\n",
        "    X = residual_block(X, filters=[256, 256, 1024], name='conv4_m')\n",
        "    X = residual_block(X, filters=[256, 256, 1024], name='conv4_n')\n",
        "    X = residual_block(X, filters=[256, 256, 1024], name='conv4_o')\n",
        "    X = residual_block(X, filters=[256, 256, 1024], name='conv4_p')\n",
        "    X = residual_block(X, filters=[256, 256, 1024], name='conv4_q')\n",
        "    X = residual_block(X, filters=[256, 256, 1024], name='conv4_r')\n",
        "    X = residual_block(X, filters=[256, 256, 1024], name='conv4_s')\n",
        "    X = residual_block(X, filters=[256, 256, 1024], name='conv4_t')\n",
        "    X = residual_block(X, filters=[256, 256, 1024], name='conv4_u')\n",
        "    X = residual_block(X, filters=[256, 256, 1024], name='conv4_v')\n",
        "    X = residual_block(X, filters=[256, 256, 1024], name='conv4_w')\n",
        "    X = residual_block(X, filters=[256, 256, 1024], name='conv4_x')\n",
        "    X = residual_block(X, filters=[256, 256, 1024], name='conv4_y')\n",
        "    X = residual_block(X, filters=[256, 256, 1024], name='conv4_z')\n",
        "    X = residual_block(X, filters=[256, 256, 1024], name='conv4_a1')\n",
        "    X = residual_block(X, filters=[256, 256, 1024], name='conv4_b1')\n",
        "    X = residual_block(X, filters=[256, 256, 1024], name='conv4_c1')\n",
        "    X = residual_block(X, filters=[256, 256, 1024], name='conv4_d1')\n",
        "    X = residual_block(X, filters=[256, 256, 1024], name='conv4_e1')\n",
        "    X = residual_block(X, filters=[256, 256, 1024], name='conv4_f1')\n",
        "    X = residual_block(X, filters=[256, 256, 1024], name='conv4_g1')\n",
        "    X = residual_block(X, filters=[256, 256, 1024], name='conv4_h1')\n",
        "    X = residual_block(X, filters=[256, 256, 1024], name='conv4_i1')\n",
        "    X = residual_block(X, filters=[256, 256, 1024], name='conv4_j1')\n",
        "\n",
        "    # conv5_x\n",
        "    X = residual_block(X, filters=[512, 512, 2048], name='conv5_a', reduce=True, res_conv2d=True)\n",
        "    X = residual_block(X, filters=[512, 512, 2048], name='conv5_b')\n",
        "    X = residual_block(X, filters=[512, 512, 2048], name='conv5_c')\n",
        "\n",
        "    X = GlobalAveragePooling2D(name='avg_pool')(X)\n",
        "    X = Flatten()(X)\n",
        "    X = Dense(units=2, activation='softmax')(X)\n",
        "    model = tf.keras.models.Model(inputs=X_input, outputs=X)\n",
        "    return model"
      ],
      "execution_count": null,
      "outputs": []
    },
    {
      "cell_type": "markdown",
      "metadata": {
        "id": "rRxBDRUyEJnC"
      },
      "source": [
        "# UNet"
      ]
    },
    {
      "cell_type": "code",
      "metadata": {
        "id": "Vwyu1rdkEIwr"
      },
      "source": [
        "def get_unet(img_size, num_classes):\n",
        "     \n",
        "    inputs = keras.Input(shape=[im_width, im_height,1 ])\n",
        "  \n",
        "\n",
        "    conv1 = Conv2D(32, (3, 3), activation='relu', padding='same')(inputs)\n",
        "    conv1 = Conv2D(32, (3, 3), activation='relu', padding='same')(conv1)\n",
        "    pool1 = MaxPooling2D(pool_size=(2, 2))(conv1)\n",
        "\n",
        "    conv2 = Conv2D(64, (3, 3), activation='relu', padding='same')(pool1)\n",
        "    conv2 = Conv2D(64, (3, 3), activation='relu', padding='same')(conv2)\n",
        "    pool2 = MaxPooling2D(pool_size=(2, 2))(conv2)\n",
        "\n",
        "    conv3 = Conv2D(128, (3, 3), activation='relu', padding='same')(pool2)\n",
        "    conv3 = Conv2D(128, (3, 3), activation='relu', padding='same')(conv3)\n",
        "    pool3 = MaxPooling2D(pool_size=(2, 2))(conv3)\n",
        "\n",
        "    conv4 = Conv2D(256, (3, 3), activation='relu', padding='same')(pool3)\n",
        "    conv4 = Conv2D(256, (3, 3), activation='relu', padding='same')(conv4)\n",
        "    pool4 = MaxPooling2D(pool_size=(2, 2))(conv4)\n",
        "\n",
        "    conv5 = Conv2D(512, (3, 3), activation='relu', padding='same')(pool4)\n",
        "    conv5 = Conv2D(512, (3, 3), activation='relu', padding='same')(conv5)\n",
        "\n",
        "    up6 = concatenate([Conv2DTranspose(256, (2, 2), strides=(2, 2), padding='same')(conv5), conv4], axis=3)\n",
        "    conv6 = Conv2D(256, (3, 3), activation='relu', padding='same')(up6)\n",
        "    conv6 = Conv2D(256, (3, 3), activation='relu', padding='same')(conv6)\n",
        "\n",
        "    up7 = concatenate([Conv2DTranspose(128, (2, 2), strides=(2, 2), padding='same')(conv6), conv3], axis=3)\n",
        "    conv7 = Conv2D(128, (3, 3), activation='relu', padding='same')(up7)\n",
        "    conv7 = Conv2D(128, (3, 3), activation='relu', padding='same')(conv7)\n",
        "\n",
        "    up8 = concatenate([Conv2DTranspose(64, (2, 2), strides=(2, 2), padding='same')(conv7), conv2], axis=3)\n",
        "    conv8 = Conv2D(64, (3, 3), activation='relu', padding='valid')(up8)\n",
        "    conv8 = Conv2D(64, (3, 3), activation='relu', padding='vlaid')(conv8)\n",
        "\n",
        "    up9 = concatenate([Conv2DTranspose(32, (2, 2), strides=(2, 2), padding='same')(conv8), conv1], axis=3)\n",
        "    conv9 = Conv2D(32, (3, 3), activation='relu', padding='same')(up9)\n",
        "    conv9 = Conv2D(32, (3, 3), activation='relu', padding='same')(conv9)\n",
        "\n",
        "    conv10 = Conv2D(num_classes, 3, activation='sigmoid')(conv9)\n",
        "\n",
        "    model = Model(inputs=[inputs], outputs=[conv10])\n",
        "\n",
        "    model.compile(optimizer=Adam(lr=1e-3), loss=dice_coef_loss, metrics=[dice_coef])\n",
        "\n",
        "    return model"
      ],
      "execution_count": null,
      "outputs": []
    },
    {
      "cell_type": "markdown",
      "metadata": {
        "id": "ufw6wB1WJfAh"
      },
      "source": [
        "# Pre-trained Models"
      ]
    },
    {
      "cell_type": "markdown",
      "metadata": {
        "id": "QKlTEWAQJjR5"
      },
      "source": [
        "# DenseNet121"
      ]
    },
    {
      "cell_type": "code",
      "metadata": {
        "id": "86n0izljHOFE"
      },
      "source": [
        "tf.keras.applications.DenseNet121(\n",
        "    include_top=True,\n",
        "    weights=\"imagenet\",\n",
        "    input_tensor=None,\n",
        "    input_shape=None,\n",
        "    pooling=None,\n",
        "    classes=1000,\n",
        ")"
      ],
      "execution_count": null,
      "outputs": []
    },
    {
      "cell_type": "markdown",
      "metadata": {
        "id": "CQSWuuocJlu4"
      },
      "source": [
        "# Xception"
      ]
    },
    {
      "cell_type": "code",
      "metadata": {
        "id": "id1l4RTqJwWB"
      },
      "source": [
        "tf.keras.applications.Xception(\n",
        "    include_top=True,\n",
        "    weights=\"imagenet\",\n",
        "    input_tensor=None,\n",
        "    input_shape=None,\n",
        "    pooling=None,\n",
        "    classes=1000,\n",
        "    classifier_activation=\"softmax\",\n",
        ")"
      ],
      "execution_count": null,
      "outputs": []
    },
    {
      "cell_type": "markdown",
      "metadata": {
        "id": "2hU0aMCBJx3Z"
      },
      "source": [
        "# ResNet50V2"
      ]
    },
    {
      "cell_type": "code",
      "metadata": {
        "id": "rkqLVGLaJ-lV"
      },
      "source": [
        "tf.keras.applications.ResNet50V2(\n",
        "    include_top=True,\n",
        "    weights=\"imagenet\",\n",
        "    input_tensor=None,\n",
        "    input_shape=None,\n",
        "    pooling=None,\n",
        "    classes=1000,\n",
        "    classifier_activation=\"softmax\",\n",
        ")"
      ],
      "execution_count": null,
      "outputs": []
    },
    {
      "cell_type": "markdown",
      "metadata": {
        "id": "krzUHsCdJ_jB"
      },
      "source": [
        "#Inception V3"
      ]
    },
    {
      "cell_type": "code",
      "metadata": {
        "id": "ARyxzRumKDuQ"
      },
      "source": [
        "tf.keras.applications.InceptionV3(\n",
        "    include_top=True,\n",
        "    weights=\"imagenet\",\n",
        "    input_tensor=None,\n",
        "    input_shape=None,\n",
        "    pooling=None,\n",
        "    classes=1000,\n",
        "    classifier_activation=\"softmax\",\n",
        ")"
      ],
      "execution_count": null,
      "outputs": []
    },
    {
      "cell_type": "markdown",
      "metadata": {
        "id": "F-kpROofKEW4"
      },
      "source": [
        "# EfficientNet B0"
      ]
    },
    {
      "cell_type": "code",
      "metadata": {
        "id": "qgtoxLH9KJHg"
      },
      "source": [
        "tf.keras.applications.EfficientNetB0(\n",
        "    include_top=True,\n",
        "    weights=\"imagenet\",\n",
        "    input_tensor=None,\n",
        "    input_shape=None,\n",
        "    pooling=None,\n",
        "    classes=1000,\n",
        "    classifier_activation=\"softmax\",\n",
        "    **kwargs\n",
        ")"
      ],
      "execution_count": null,
      "outputs": []
    }
  ]
}