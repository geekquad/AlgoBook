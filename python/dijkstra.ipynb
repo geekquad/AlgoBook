{
 "cells": [
  {
   "cell_type": "code",
   "execution_count": 6,
   "metadata": {},
   "outputs": [
    {
     "name": "stdout",
     "output_type": "stream",
     "text": [
      "0\n",
      "4\n",
      "0\n",
      "0\n",
      "2\n",
      "4\n",
      "0\n",
      "3\n",
      "0\n",
      "1\n",
      "0\n",
      "3\n",
      "0\n",
      "2\n",
      "0\n",
      "0\n",
      "0\n",
      "2\n",
      "0\n",
      "1\n",
      "2\n",
      "1\n",
      "0\n",
      "1\n",
      "0\n"
     ]
    }
   ],
   "source": [
    "import numpy as np\n",
    "w=5\n",
    "matrix = [[0 for x in range(w)] for y in range(w)] \n",
    "distance=[0 for x in range(w)] \n",
    "visited=[0 for x in range(w)]\n",
    "pre=[0 for x in range(w)]\n",
    "min=0\n",
    "nextnode=0\n",
    "for i in range(5):\n",
    "    for j in range(5):\n",
    "        matrix[i][j]=input()\n",
    "        matrix[i][j]=int(matrix[i][j])\n",
    "        if(matrix[i][j]==0):\n",
    "            matrix[i][j]=1000\n",
    "distance=matrix[0]\n",
    "distance[0]=0\n",
    "visited[0]=1\n",
    "for i in range(5):\n",
    "    min=1000\n",
    "    for j in range(5):\n",
    "        if((min>distance[j])and(visited[j]!=1)):\n",
    "            min=distance[j]\n",
    "            nextnode=j\n",
    "    visited[nextnode]=1\n",
    "    for c in range(5):\n",
    "        if(visited[c]!=1):\n",
    "            if((min+matrix[nextnode][c]<distance[c])):\n",
    "                distance[c]=min+(matrix[nextnode][c])\n",
    "                pre[c]=nextnode\n",
    "    "
   ]
  },
  {
   "cell_type": "code",
   "execution_count": 9,
   "metadata": {},
   "outputs": [
    {
     "name": "stdout",
     "output_type": "stream",
     "text": [
      "0\n",
      "3\n",
      "5\n",
      "3\n",
      "2\n"
     ]
    }
   ],
   "source": [
    "for u in range(5):\n",
    "    print(distance[u])\n",
    "    "
   ]
  },
  {
   "cell_type": "code",
   "execution_count": null,
   "metadata": {},
   "outputs": [],
   "source": []
  },
  {
   "cell_type": "code",
   "execution_count": null,
   "metadata": {},
   "outputs": [],
   "source": []
  }
 ],
 "metadata": {
  "kernelspec": {
   "display_name": "Python 3",
   "language": "python",
   "name": "python3"
  },
  "language_info": {
   "codemirror_mode": {
    "name": "ipython",
    "version": 3
   },
   "file_extension": ".py",
   "mimetype": "text/x-python",
   "name": "python",
   "nbconvert_exporter": "python",
   "pygments_lexer": "ipython3",
   "version": "3.5.2"
  }
 },
 "nbformat": 4,
 "nbformat_minor": 2
}
