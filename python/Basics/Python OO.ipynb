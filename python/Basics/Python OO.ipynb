{
 "cells": [
  {
   "cell_type": "markdown",
   "metadata": {},
   "source": [
    "# Python Orientado a Objetos"
   ]
  },
  {
   "cell_type": "code",
   "execution_count": null,
   "metadata": {},
   "outputs": [],
   "source": [
    "'''\n",
    "classe - estrutura basica, template, molde\n",
    "instancia - objeto criado a partir de uma classe\n",
    "objeto - tudo e objeto\n",
    "atributo - propriedades da classe\n",
    "metodo - funcoes que sao executadas dentro das classes\n",
    "mensagem\n",
    "heranca\n",
    "polimorfismo\n",
    "encapsulamento\n",
    "'''"
   ]
  },
  {
   "cell_type": "markdown",
   "metadata": {},
   "source": [
    "## Classes e Objetos"
   ]
  },
  {
   "cell_type": "code",
   "execution_count": 1,
   "metadata": {},
   "outputs": [],
   "source": [
    "#Criando uma classe, usando a palavra class, por convencao, classes comecam com a letra maiuscula\n",
    "class Livro():\n",
    "    #metodo padrao para inicializar uma classe\n",
    "    #construtor\n",
    "    def __init__(self):\n",
    "        #definindo os atributos\n",
    "        self.titulo = 'livro 01'\n",
    "        self.isbn = 998888\n",
    "        \n",
    "    #metodo customizado\n",
    "    def imprime(self):\n",
    "        print('livro: %s e ISBN: %s cadastrados com sucesso' %(self.titulo,self.isbn))"
   ]
  },
  {
   "cell_type": "code",
   "execution_count": 2,
   "metadata": {},
   "outputs": [],
   "source": [
    "#Criando uma instancia da classe livro\n",
    "livro1 = Livro()"
   ]
  },
  {
   "cell_type": "code",
   "execution_count": 3,
   "metadata": {},
   "outputs": [
    {
     "data": {
      "text/plain": [
       "'livro 01'"
      ]
     },
     "execution_count": 3,
     "metadata": {},
     "output_type": "execute_result"
    }
   ],
   "source": [
    "#verificando uns atributos\n",
    "livro1.titulo"
   ]
  },
  {
   "cell_type": "code",
   "execution_count": 4,
   "metadata": {},
   "outputs": [
    {
     "name": "stdout",
     "output_type": "stream",
     "text": [
      "livro: livro 01 e ISBN: 998888 cadastrados com sucesso\n"
     ]
    }
   ],
   "source": [
    "#chamando metodos\n",
    "livro1.imprime()"
   ]
  },
  {
   "cell_type": "code",
   "execution_count": 5,
   "metadata": {},
   "outputs": [],
   "source": [
    "#Criando uma classe, com parametros\n",
    "class Livro():\n",
    "    #metodo padrao para inicializar uma classe\n",
    "    #construtor\n",
    "    def __init__(self,titulo,isbn):\n",
    "        #definindo os atributos\n",
    "        self.titulo = titulo\n",
    "        self.isbn = isbn\n",
    "        \n",
    "    #metodo customizado\n",
    "    def imprime(self,titulo,isbn):\n",
    "        print('livro: %s e ISBN: %s cadastrados com sucesso' %(titulo,isbn))"
   ]
  },
  {
   "cell_type": "code",
   "execution_count": 6,
   "metadata": {},
   "outputs": [],
   "source": [
    "livro2 = Livro('livro 02', 0000)"
   ]
  },
  {
   "cell_type": "code",
   "execution_count": 8,
   "metadata": {},
   "outputs": [
    {
     "name": "stdout",
     "output_type": "stream",
     "text": [
      "livro: livro 02 e ISBN: 0 cadastrados com sucesso\n"
     ]
    }
   ],
   "source": [
    "livro2.imprime('livro 02', 0000)"
   ]
  },
  {
   "cell_type": "code",
   "execution_count": 9,
   "metadata": {},
   "outputs": [
    {
     "data": {
      "text/plain": [
       "True"
      ]
     },
     "execution_count": 9,
     "metadata": {},
     "output_type": "execute_result"
    }
   ],
   "source": [
    "#verifica se existe atributo\n",
    "hasattr(livro2,'titulo')"
   ]
  },
  {
   "cell_type": "code",
   "execution_count": 10,
   "metadata": {},
   "outputs": [],
   "source": [
    "#altera ou insere valor no atributo\n",
    "setattr(livro2,'titulo','vini')"
   ]
  },
  {
   "cell_type": "code",
   "execution_count": 11,
   "metadata": {},
   "outputs": [
    {
     "data": {
      "text/plain": [
       "'vini'"
      ]
     },
     "execution_count": 11,
     "metadata": {},
     "output_type": "execute_result"
    }
   ],
   "source": [
    "livro2.titulo"
   ]
  },
  {
   "cell_type": "code",
   "execution_count": 12,
   "metadata": {},
   "outputs": [],
   "source": [
    "#deleta atributo\n",
    "delattr(livro2,'titulo')"
   ]
  },
  {
   "cell_type": "code",
   "execution_count": 13,
   "metadata": {},
   "outputs": [
    {
     "data": {
      "text/plain": [
       "False"
      ]
     },
     "execution_count": 13,
     "metadata": {},
     "output_type": "execute_result"
    }
   ],
   "source": [
    "hasattr(livro2,'titulo')"
   ]
  },
  {
   "cell_type": "markdown",
   "metadata": {},
   "source": [
    "## Metodos"
   ]
  },
  {
   "cell_type": "code",
   "execution_count": 14,
   "metadata": {},
   "outputs": [],
   "source": [
    "class Circulo():\n",
    "    \n",
    "    pi = 3.14\n",
    "    \n",
    "    #construtor\n",
    "    def __init__(self,raio):\n",
    "        self.raio = raio\n",
    "     \n",
    "    #calcula a area   \n",
    "    def area(self):\n",
    "        return (self.raio * self.raio) * Circulo.pi\n",
    "    \n",
    "    #define o raio\n",
    "    def setRaio(self,novo_raio):\n",
    "        self.raio = novo_raio\n",
    "    \n",
    "    #retorna o raio\n",
    "    def getRaio(self):\n",
    "        return self.raio"
   ]
  },
  {
   "cell_type": "code",
   "execution_count": 15,
   "metadata": {},
   "outputs": [],
   "source": [
    "#Cria instancia de circulo\n",
    "circ = Circulo(5)"
   ]
  },
  {
   "cell_type": "code",
   "execution_count": 16,
   "metadata": {},
   "outputs": [
    {
     "data": {
      "text/plain": [
       "5"
      ]
     },
     "execution_count": 16,
     "metadata": {},
     "output_type": "execute_result"
    }
   ],
   "source": [
    "#chama o metodo para receber o raio\n",
    "circ.getRaio()"
   ]
  },
  {
   "cell_type": "code",
   "execution_count": 17,
   "metadata": {},
   "outputs": [],
   "source": [
    "#chama metodo para sobrescrever raio\n",
    "circ.setRaio(10)"
   ]
  },
  {
   "cell_type": "code",
   "execution_count": 18,
   "metadata": {},
   "outputs": [
    {
     "data": {
      "text/plain": [
       "10"
      ]
     },
     "execution_count": 18,
     "metadata": {},
     "output_type": "execute_result"
    }
   ],
   "source": [
    "circ.getRaio()"
   ]
  },
  {
   "cell_type": "code",
   "execution_count": 19,
   "metadata": {},
   "outputs": [
    {
     "data": {
      "text/plain": [
       "314.0"
      ]
     },
     "execution_count": 19,
     "metadata": {},
     "output_type": "execute_result"
    }
   ],
   "source": [
    "circ.area()"
   ]
  },
  {
   "cell_type": "markdown",
   "metadata": {},
   "source": [
    "## Heranca"
   ]
  },
  {
   "cell_type": "code",
   "execution_count": 26,
   "metadata": {},
   "outputs": [],
   "source": [
    "#SUPER-CLASSE\n",
    "class Animal():\n",
    "    \n",
    "    def __init__(self):\n",
    "        print('animal criado')\n",
    "        \n",
    "    def identif(self):\n",
    "        print('animal')\n",
    "        \n",
    "    def comer(self):\n",
    "        print('comendo')\n",
    "\n",
    "        \n",
    "#SUB-CLASSE       \n",
    "class Cachorro(Animal):\n",
    "    \n",
    "    def __init__(self):\n",
    "        Animal.__init__(self)\n",
    "        print('Objeto Cachorro Criado')\n",
    "    \n",
    "    def identif(self):\n",
    "        print('cachorro')\n",
    "        \n",
    "    def latir(self):\n",
    "        print('au au au au au')\n",
    "        "
   ]
  },
  {
   "cell_type": "code",
   "execution_count": 27,
   "metadata": {},
   "outputs": [
    {
     "name": "stdout",
     "output_type": "stream",
     "text": [
      "animal criado\n",
      "Objeto Cachorro Criado\n"
     ]
    }
   ],
   "source": [
    "#instanciando a classe\n",
    "rex = Cachorro()"
   ]
  },
  {
   "cell_type": "code",
   "execution_count": 28,
   "metadata": {},
   "outputs": [
    {
     "name": "stdout",
     "output_type": "stream",
     "text": [
      "cachorro\n"
     ]
    }
   ],
   "source": [
    "#chamando metodos\n",
    "rex.identif()"
   ]
  },
  {
   "cell_type": "code",
   "execution_count": 29,
   "metadata": {},
   "outputs": [
    {
     "name": "stdout",
     "output_type": "stream",
     "text": [
      "comendo\n"
     ]
    }
   ],
   "source": [
    "rex.comer()"
   ]
  },
  {
   "cell_type": "code",
   "execution_count": 30,
   "metadata": {},
   "outputs": [
    {
     "name": "stdout",
     "output_type": "stream",
     "text": [
      "au au au au au\n"
     ]
    }
   ],
   "source": [
    "rex.latir()"
   ]
  },
  {
   "cell_type": "markdown",
   "metadata": {},
   "source": [
    "## Metodos especiais"
   ]
  },
  {
   "cell_type": "code",
   "execution_count": 34,
   "metadata": {},
   "outputs": [],
   "source": [
    "#Criando uma classe, com parametros\n",
    "class Livro():\n",
    "    #metodo padrao para inicializar uma classe\n",
    "    #construtor\n",
    "    def __init__(self,titulo,autor,paginas):\n",
    "        #definindo os atributos\n",
    "        print('livro criado')\n",
    "        self.titulo = titulo\n",
    "        self.autor = autor\n",
    "        self.paginas = paginas\n",
    "    \n",
    "    #Sobreescrevendo os metodos padroes \n",
    "    def __str__(self):\n",
    "        return 'titulo: %s, autor : %s, paginas : %s' %(self.titulo,self.autor,self.paginas)\n",
    "    \n",
    "    def __len__(self):\n",
    "        return self.paginas\n",
    "    \n",
    "    def len(self):\n",
    "        return print('paginas: ', self.paginas)\n",
    "        \n",
    "    "
   ]
  },
  {
   "cell_type": "code",
   "execution_count": 35,
   "metadata": {},
   "outputs": [
    {
     "name": "stdout",
     "output_type": "stream",
     "text": [
      "livro criado\n"
     ]
    }
   ],
   "source": [
    "livro1 = Livro('livro1','vini',100)"
   ]
  },
  {
   "cell_type": "code",
   "execution_count": 38,
   "metadata": {},
   "outputs": [
    {
     "name": "stdout",
     "output_type": "stream",
     "text": [
      "titulo: livro1, autor : vini, paginas : 100\n"
     ]
    }
   ],
   "source": [
    "print(livro1)"
   ]
  },
  {
   "cell_type": "code",
   "execution_count": 37,
   "metadata": {},
   "outputs": [
    {
     "data": {
      "text/plain": [
       "100"
      ]
     },
     "execution_count": 37,
     "metadata": {},
     "output_type": "execute_result"
    }
   ],
   "source": [
    "len(livro1)"
   ]
  }
 ],
 "metadata": {
  "kernelspec": {
   "display_name": "Python 3",
   "language": "python",
   "name": "python3"
  },
  "language_info": {
   "codemirror_mode": {
    "name": "ipython",
    "version": 3
   },
   "file_extension": ".py",
   "mimetype": "text/x-python",
   "name": "python",
   "nbconvert_exporter": "python",
   "pygments_lexer": "ipython3",
   "version": "3.6.8"
  }
 },
 "nbformat": 4,
 "nbformat_minor": 4
}
