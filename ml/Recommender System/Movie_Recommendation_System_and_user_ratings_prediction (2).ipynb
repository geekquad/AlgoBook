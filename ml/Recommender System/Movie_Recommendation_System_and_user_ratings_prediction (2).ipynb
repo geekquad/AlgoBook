{
  "nbformat": 4,
  "nbformat_minor": 0,
  "metadata": {
    "colab": {
      "name": "Movie Recommendation System and user ratings prediction ",
      "provenance": [],
      "collapsed_sections": []
    },
    "kernelspec": {
      "name": "python3",
      "display_name": "Python 3"
    }
  },
  "cells": [
    {
      "cell_type": "markdown",
      "metadata": {
        "id": "zyOPhB9yqQ9v",
        "colab_type": "text"
      },
      "source": [
        "# **Movie Recommendation System and user ratings prediction ( Machine Learning )**"
      ]
    },
    {
      "cell_type": "markdown",
      "metadata": {
        "id": "_btwQEyrqd9p",
        "colab_type": "text"
      },
      "source": [
        "**About Dataset:**\n",
        "\n",
        "● movies_data.csv - The data contains -\n",
        "Id - which is movie id\n",
        "Genres - it can contain multiple genres for a single movie.\n",
        "Overview - A textual description about the movie\n",
        "\n",
        "● ratings.csv -\n",
        "Userid - id for user\n",
        "Movieid - id for movie\n",
        "Rating - given by user to that movie (out of 5)"
      ]
    },
    {
      "cell_type": "markdown",
      "metadata": {
        "id": "o0VitLYQrwYI",
        "colab_type": "text"
      },
      "source": [
        "**Task**:\n",
        "\n",
        "To recommend optimal movies to user and predict user ratings "
      ]
    },
    {
      "cell_type": "markdown",
      "metadata": {
        "id": "vvT_mWTNsNST",
        "colab_type": "text"
      },
      "source": [
        "**Approach:**\n",
        "\n",
        "Demographic, Content-Based and collaborative filtering using SVD.\n",
        "\n"
      ]
    },
    {
      "cell_type": "markdown",
      "metadata": {
        "id": "q6tDzqZPmlxv",
        "colab_type": "text"
      },
      "source": [
        "# **Movie Recommendation Engine**"
      ]
    },
    {
      "cell_type": "markdown",
      "metadata": {
        "id": "Y_HLDMgakYii",
        "colab_type": "text"
      },
      "source": [
        "# **Importing Libraries**"
      ]
    },
    {
      "cell_type": "code",
      "metadata": {
        "id": "AqeMQ0LjUUfy",
        "colab_type": "code",
        "colab": {}
      },
      "source": [
        "import numpy as np\n",
        "import pandas as pd"
      ],
      "execution_count": null,
      "outputs": []
    },
    {
      "cell_type": "markdown",
      "metadata": {
        "id": "JpdlBKfCke4E",
        "colab_type": "text"
      },
      "source": [
        "# **Loading Data**"
      ]
    },
    {
      "cell_type": "code",
      "metadata": {
        "id": "5NWkuD9lVKh0",
        "colab_type": "code",
        "colab": {}
      },
      "source": [
        "movies=pd.read_csv('/content/drive/My Drive/glyka/movies_data.csv')\n",
        "ratings=pd.read_csv('/content/drive/My Drive/glyka/ratings.csv')"
      ],
      "execution_count": null,
      "outputs": []
    },
    {
      "cell_type": "code",
      "metadata": {
        "id": "pg8MkriWO6bD",
        "colab_type": "code",
        "colab": {
          "base_uri": "https://localhost:8080/",
          "height": 202
        },
        "outputId": "8ccd6e03-fa74-4b9b-ee5e-a84809106500"
      },
      "source": [
        "movies.head()"
      ],
      "execution_count": null,
      "outputs": [
        {
          "output_type": "execute_result",
          "data": {
            "text/html": [
              "<div>\n",
              "<style scoped>\n",
              "    .dataframe tbody tr th:only-of-type {\n",
              "        vertical-align: middle;\n",
              "    }\n",
              "\n",
              "    .dataframe tbody tr th {\n",
              "        vertical-align: top;\n",
              "    }\n",
              "\n",
              "    .dataframe thead th {\n",
              "        text-align: right;\n",
              "    }\n",
              "</style>\n",
              "<table border=\"1\" class=\"dataframe\">\n",
              "  <thead>\n",
              "    <tr style=\"text-align: right;\">\n",
              "      <th></th>\n",
              "      <th>genres</th>\n",
              "      <th>id</th>\n",
              "      <th>overview</th>\n",
              "      <th>title</th>\n",
              "    </tr>\n",
              "  </thead>\n",
              "  <tbody>\n",
              "    <tr>\n",
              "      <th>0</th>\n",
              "      <td>[{'id': 14, 'name': 'Fantasy'}, {'id': 35, 'na...</td>\n",
              "      <td>58372</td>\n",
              "      <td>On Christmas eve, a relentlessly cheerful woma...</td>\n",
              "      <td>Reckless</td>\n",
              "    </tr>\n",
              "    <tr>\n",
              "      <th>1</th>\n",
              "      <td>[{'id': 10749, 'name': 'Romance'}, {'id': 12, ...</td>\n",
              "      <td>278939</td>\n",
              "      <td>A runaway teenage girl and a drifter rob a ban...</td>\n",
              "      <td>Girl in the Cadillac</td>\n",
              "    </tr>\n",
              "    <tr>\n",
              "      <th>2</th>\n",
              "      <td>[{'id': 99, 'name': 'Documentary'}]</td>\n",
              "      <td>73183</td>\n",
              "      <td>The strange life and the wonderfully awful fil...</td>\n",
              "      <td>The Haunted World of Edward D. Wood, Jr.</td>\n",
              "    </tr>\n",
              "    <tr>\n",
              "      <th>3</th>\n",
              "      <td>[{'id': 99, 'name': 'Documentary'}]</td>\n",
              "      <td>255546</td>\n",
              "      <td>A biography of the Portuguese-Brazilian singer...</td>\n",
              "      <td>Carmen Miranda: Bananas Is My Business</td>\n",
              "    </tr>\n",
              "    <tr>\n",
              "      <th>4</th>\n",
              "      <td>[{'id': 18, 'name': 'Drama'}]</td>\n",
              "      <td>64562</td>\n",
              "      <td>Truman Capote's semi-autobiographical first no...</td>\n",
              "      <td>Other Voices Other Rooms</td>\n",
              "    </tr>\n",
              "  </tbody>\n",
              "</table>\n",
              "</div>"
            ],
            "text/plain": [
              "                                              genres  ...                                     title\n",
              "0  [{'id': 14, 'name': 'Fantasy'}, {'id': 35, 'na...  ...                                  Reckless\n",
              "1  [{'id': 10749, 'name': 'Romance'}, {'id': 12, ...  ...                      Girl in the Cadillac\n",
              "2                [{'id': 99, 'name': 'Documentary'}]  ...  The Haunted World of Edward D. Wood, Jr.\n",
              "3                [{'id': 99, 'name': 'Documentary'}]  ...    Carmen Miranda: Bananas Is My Business\n",
              "4                      [{'id': 18, 'name': 'Drama'}]  ...                  Other Voices Other Rooms\n",
              "\n",
              "[5 rows x 4 columns]"
            ]
          },
          "metadata": {
            "tags": []
          },
          "execution_count": 5
        }
      ]
    },
    {
      "cell_type": "markdown",
      "metadata": {
        "id": "E7hUKWgHkJKG",
        "colab_type": "text"
      },
      "source": [
        "# **Exploratory Data analysis and Feature engineering**"
      ]
    },
    {
      "cell_type": "markdown",
      "metadata": {
        "id": "BBUBqSi8dpin",
        "colab_type": "text"
      },
      "source": [
        "**Repalcing column name \"id\" with \"movieId\" to merge with ratings.**"
      ]
    },
    {
      "cell_type": "code",
      "metadata": {
        "id": "50Zh6zmZR4VI",
        "colab_type": "code",
        "colab": {}
      },
      "source": [
        "movies['movieId']=movies['id']\n",
        "movies = movies.drop(\"id\", axis=1)"
      ],
      "execution_count": null,
      "outputs": []
    },
    {
      "cell_type": "code",
      "metadata": {
        "id": "0SapU6T1jWEv",
        "colab_type": "code",
        "colab": {
          "base_uri": "https://localhost:8080/",
          "height": 202
        },
        "outputId": "d29c37b8-9019-49c9-94e2-a0f801a7f55b"
      },
      "source": [
        "movies.tail()"
      ],
      "execution_count": null,
      "outputs": [
        {
          "output_type": "execute_result",
          "data": {
            "text/html": [
              "<div>\n",
              "<style scoped>\n",
              "    .dataframe tbody tr th:only-of-type {\n",
              "        vertical-align: middle;\n",
              "    }\n",
              "\n",
              "    .dataframe tbody tr th {\n",
              "        vertical-align: top;\n",
              "    }\n",
              "\n",
              "    .dataframe thead th {\n",
              "        text-align: right;\n",
              "    }\n",
              "</style>\n",
              "<table border=\"1\" class=\"dataframe\">\n",
              "  <thead>\n",
              "    <tr style=\"text-align: right;\">\n",
              "      <th></th>\n",
              "      <th>genres</th>\n",
              "      <th>overview</th>\n",
              "      <th>title</th>\n",
              "      <th>movieId</th>\n",
              "    </tr>\n",
              "  </thead>\n",
              "  <tbody>\n",
              "    <tr>\n",
              "      <th>45461</th>\n",
              "      <td>[{'name': 'Carousel Productions', 'id': 11176}...</td>\n",
              "      <td>Released</td>\n",
              "      <td>NaN</td>\n",
              "      <td>20-08-1997</td>\n",
              "    </tr>\n",
              "    <tr>\n",
              "      <th>45462</th>\n",
              "      <td>[{'id': 16, 'name': 'Animation'}, {'id': 878, ...</td>\n",
              "      <td>Third film of the Mardock Scramble series.</td>\n",
              "      <td>NaN</td>\n",
              "      <td>122662</td>\n",
              "    </tr>\n",
              "    <tr>\n",
              "      <th>45463</th>\n",
              "      <td>[{'name': 'Aniplex', 'id': 2883}, {'name': 'Go...</td>\n",
              "      <td>Released</td>\n",
              "      <td>NaN</td>\n",
              "      <td>29-09-2012</td>\n",
              "    </tr>\n",
              "    <tr>\n",
              "      <th>45464</th>\n",
              "      <td>[{'id': 10770, 'name': 'TV Movie'}, {'id': 28,...</td>\n",
              "      <td>A group of skiers are terrorized during spring...</td>\n",
              "      <td>NaN</td>\n",
              "      <td>249260</td>\n",
              "    </tr>\n",
              "    <tr>\n",
              "      <th>45465</th>\n",
              "      <td>[{'name': 'Odyssey Media', 'id': 17161}, {'nam...</td>\n",
              "      <td>Released</td>\n",
              "      <td>NaN</td>\n",
              "      <td>01-01-2014</td>\n",
              "    </tr>\n",
              "  </tbody>\n",
              "</table>\n",
              "</div>"
            ],
            "text/plain": [
              "                                                  genres  ...     movieId\n",
              "45461  [{'name': 'Carousel Productions', 'id': 11176}...  ...  20-08-1997\n",
              "45462  [{'id': 16, 'name': 'Animation'}, {'id': 878, ...  ...      122662\n",
              "45463  [{'name': 'Aniplex', 'id': 2883}, {'name': 'Go...  ...  29-09-2012\n",
              "45464  [{'id': 10770, 'name': 'TV Movie'}, {'id': 28,...  ...      249260\n",
              "45465  [{'name': 'Odyssey Media', 'id': 17161}, {'nam...  ...  01-01-2014\n",
              "\n",
              "[5 rows x 4 columns]"
            ]
          },
          "metadata": {
            "tags": []
          },
          "execution_count": 7
        }
      ]
    },
    {
      "cell_type": "markdown",
      "metadata": {
        "id": "alWvCsCaeAEJ",
        "colab_type": "text"
      },
      "source": [
        "***Here, few movieIds have unsuitable format. So we'll remove the rows with overview='Released'. Also id has been replaced with movieId. ***"
      ]
    },
    {
      "cell_type": "code",
      "metadata": {
        "id": "VYG20tbdjtdW",
        "colab_type": "code",
        "colab": {}
      },
      "source": [
        "temp = movies[movies['overview'] == 'Released'].index\n",
        "# Removing these row indexes from dataFrame\n",
        "movies.drop(temp, inplace=True)"
      ],
      "execution_count": null,
      "outputs": []
    },
    {
      "cell_type": "code",
      "metadata": {
        "id": "xEGYMAMDPOBg",
        "colab_type": "code",
        "colab": {
          "base_uri": "https://localhost:8080/",
          "height": 202
        },
        "outputId": "6aec8740-1f18-4457-9bd9-dbc5da44711e"
      },
      "source": [
        "ratings.head()"
      ],
      "execution_count": null,
      "outputs": [
        {
          "output_type": "execute_result",
          "data": {
            "text/html": [
              "<div>\n",
              "<style scoped>\n",
              "    .dataframe tbody tr th:only-of-type {\n",
              "        vertical-align: middle;\n",
              "    }\n",
              "\n",
              "    .dataframe tbody tr th {\n",
              "        vertical-align: top;\n",
              "    }\n",
              "\n",
              "    .dataframe thead th {\n",
              "        text-align: right;\n",
              "    }\n",
              "</style>\n",
              "<table border=\"1\" class=\"dataframe\">\n",
              "  <thead>\n",
              "    <tr style=\"text-align: right;\">\n",
              "      <th></th>\n",
              "      <th>userId</th>\n",
              "      <th>movieId</th>\n",
              "      <th>rating</th>\n",
              "    </tr>\n",
              "  </thead>\n",
              "  <tbody>\n",
              "    <tr>\n",
              "      <th>0</th>\n",
              "      <td>2</td>\n",
              "      <td>17</td>\n",
              "      <td>5.0</td>\n",
              "    </tr>\n",
              "    <tr>\n",
              "      <th>1</th>\n",
              "      <td>2</td>\n",
              "      <td>39</td>\n",
              "      <td>5.0</td>\n",
              "    </tr>\n",
              "    <tr>\n",
              "      <th>2</th>\n",
              "      <td>2</td>\n",
              "      <td>150</td>\n",
              "      <td>5.0</td>\n",
              "    </tr>\n",
              "    <tr>\n",
              "      <th>3</th>\n",
              "      <td>2</td>\n",
              "      <td>222</td>\n",
              "      <td>5.0</td>\n",
              "    </tr>\n",
              "    <tr>\n",
              "      <th>4</th>\n",
              "      <td>2</td>\n",
              "      <td>265</td>\n",
              "      <td>5.0</td>\n",
              "    </tr>\n",
              "  </tbody>\n",
              "</table>\n",
              "</div>"
            ],
            "text/plain": [
              "   userId  movieId  rating\n",
              "0       2       17     5.0\n",
              "1       2       39     5.0\n",
              "2       2      150     5.0\n",
              "3       2      222     5.0\n",
              "4       2      265     5.0"
            ]
          },
          "metadata": {
            "tags": []
          },
          "execution_count": 9
        }
      ]
    },
    {
      "cell_type": "code",
      "metadata": {
        "id": "gFmrcUgBTIid",
        "colab_type": "code",
        "colab": {
          "base_uri": "https://localhost:8080/",
          "height": 35
        },
        "outputId": "12b18ae0-d7eb-4409-d649-c2c767884e6f"
      },
      "source": [
        "movies.shape"
      ],
      "execution_count": null,
      "outputs": [
        {
          "output_type": "execute_result",
          "data": {
            "text/plain": [
              "(45463, 4)"
            ]
          },
          "metadata": {
            "tags": []
          },
          "execution_count": 10
        }
      ]
    },
    {
      "cell_type": "code",
      "metadata": {
        "id": "400VAudxTNbe",
        "colab_type": "code",
        "colab": {
          "base_uri": "https://localhost:8080/",
          "height": 35
        },
        "outputId": "e004472b-0e3b-4658-8d38-6c2e212242d6"
      },
      "source": [
        "ratings.shape"
      ],
      "execution_count": null,
      "outputs": [
        {
          "output_type": "execute_result",
          "data": {
            "text/plain": [
              "(100004, 3)"
            ]
          },
          "metadata": {
            "tags": []
          },
          "execution_count": 11
        }
      ]
    },
    {
      "cell_type": "code",
      "metadata": {
        "id": "UuUrkssAUisf",
        "colab_type": "code",
        "colab": {
          "base_uri": "https://localhost:8080/",
          "height": 104
        },
        "outputId": "162c695d-62fb-48fb-8938-f9692970518c"
      },
      "source": [
        "movies.isnull().sum()"
      ],
      "execution_count": null,
      "outputs": [
        {
          "output_type": "execute_result",
          "data": {
            "text/plain": [
              "genres        0\n",
              "overview    954\n",
              "title         3\n",
              "movieId       0\n",
              "dtype: int64"
            ]
          },
          "metadata": {
            "tags": []
          },
          "execution_count": 12
        }
      ]
    },
    {
      "cell_type": "code",
      "metadata": {
        "id": "igFvDfOZUqaL",
        "colab_type": "code",
        "colab": {
          "base_uri": "https://localhost:8080/",
          "height": 87
        },
        "outputId": "4ed806b9-441a-4258-b86d-6fc035a9ba49"
      },
      "source": [
        "ratings.isnull().sum()"
      ],
      "execution_count": null,
      "outputs": [
        {
          "output_type": "execute_result",
          "data": {
            "text/plain": [
              "userId     0\n",
              "movieId    0\n",
              "rating     0\n",
              "dtype: int64"
            ]
          },
          "metadata": {
            "tags": []
          },
          "execution_count": 13
        }
      ]
    },
    {
      "cell_type": "markdown",
      "metadata": {
        "id": "DyL9wuiOlTVV",
        "colab_type": "text"
      },
      "source": [
        "# **Merging Data for Demographic Filtering**"
      ]
    },
    {
      "cell_type": "code",
      "metadata": {
        "id": "EAC6F865A5v-",
        "colab_type": "code",
        "colab": {
          "base_uri": "https://localhost:8080/",
          "height": 202
        },
        "outputId": "33bec330-1863-471d-e57d-65d0c816d56d"
      },
      "source": [
        "movies['movieId']=movies['movieId'].astype(int)\n",
        "ratings['movieId']=ratings['movieId'].astype(int)\n",
        "df=movies.merge(ratings,on='movieId')\n",
        "df.head()"
      ],
      "execution_count": null,
      "outputs": [
        {
          "output_type": "execute_result",
          "data": {
            "text/html": [
              "<div>\n",
              "<style scoped>\n",
              "    .dataframe tbody tr th:only-of-type {\n",
              "        vertical-align: middle;\n",
              "    }\n",
              "\n",
              "    .dataframe tbody tr th {\n",
              "        vertical-align: top;\n",
              "    }\n",
              "\n",
              "    .dataframe thead th {\n",
              "        text-align: right;\n",
              "    }\n",
              "</style>\n",
              "<table border=\"1\" class=\"dataframe\">\n",
              "  <thead>\n",
              "    <tr style=\"text-align: right;\">\n",
              "      <th></th>\n",
              "      <th>genres</th>\n",
              "      <th>overview</th>\n",
              "      <th>title</th>\n",
              "      <th>movieId</th>\n",
              "      <th>userId</th>\n",
              "      <th>rating</th>\n",
              "    </tr>\n",
              "  </thead>\n",
              "  <tbody>\n",
              "    <tr>\n",
              "      <th>0</th>\n",
              "      <td>[{'id': 10770, 'name': 'TV Movie'}, {'id': 12,...</td>\n",
              "      <td>Two adventurers set sail to find a giant man-e...</td>\n",
              "      <td>Shark Kill</td>\n",
              "      <td>97593</td>\n",
              "      <td>262</td>\n",
              "      <td>3.5</td>\n",
              "    </tr>\n",
              "    <tr>\n",
              "      <th>1</th>\n",
              "      <td>[{'id': 99, 'name': 'Documentary'}]</td>\n",
              "      <td>NaN</td>\n",
              "      <td>Modern Life</td>\n",
              "      <td>8930</td>\n",
              "      <td>481</td>\n",
              "      <td>4.5</td>\n",
              "    </tr>\n",
              "    <tr>\n",
              "      <th>2</th>\n",
              "      <td>[{'id': 99, 'name': 'Documentary'}]</td>\n",
              "      <td>NaN</td>\n",
              "      <td>Modern Life</td>\n",
              "      <td>8930</td>\n",
              "      <td>15</td>\n",
              "      <td>2.5</td>\n",
              "    </tr>\n",
              "    <tr>\n",
              "      <th>3</th>\n",
              "      <td>[{'id': 12, 'name': 'Adventure'}, {'id': 16, '...</td>\n",
              "      <td>Somewhere in Europe by a great sea stands a sm...</td>\n",
              "      <td>Lotte from Gadgetville</td>\n",
              "      <td>1260</td>\n",
              "      <td>19</td>\n",
              "      <td>5.0</td>\n",
              "    </tr>\n",
              "    <tr>\n",
              "      <th>4</th>\n",
              "      <td>[{'id': 12, 'name': 'Adventure'}, {'id': 16, '...</td>\n",
              "      <td>Somewhere in Europe by a great sea stands a sm...</td>\n",
              "      <td>Lotte from Gadgetville</td>\n",
              "      <td>1260</td>\n",
              "      <td>102</td>\n",
              "      <td>5.0</td>\n",
              "    </tr>\n",
              "  </tbody>\n",
              "</table>\n",
              "</div>"
            ],
            "text/plain": [
              "                                              genres  ... rating\n",
              "0  [{'id': 10770, 'name': 'TV Movie'}, {'id': 12,...  ...    3.5\n",
              "1                [{'id': 99, 'name': 'Documentary'}]  ...    4.5\n",
              "2                [{'id': 99, 'name': 'Documentary'}]  ...    2.5\n",
              "3  [{'id': 12, 'name': 'Adventure'}, {'id': 16, '...  ...    5.0\n",
              "4  [{'id': 12, 'name': 'Adventure'}, {'id': 16, '...  ...    5.0\n",
              "\n",
              "[5 rows x 6 columns]"
            ]
          },
          "metadata": {
            "tags": []
          },
          "execution_count": 14
        }
      ]
    },
    {
      "cell_type": "code",
      "metadata": {
        "id": "Aj1-2Ax8z5WY",
        "colab_type": "code",
        "colab": {}
      },
      "source": [
        "df=df.drop(\"userId\",axis=1)"
      ],
      "execution_count": null,
      "outputs": []
    },
    {
      "cell_type": "code",
      "metadata": {
        "id": "je1HxO8_x2iO",
        "colab_type": "code",
        "colab": {
          "base_uri": "https://localhost:8080/",
          "height": 202
        },
        "outputId": "626b8517-47bc-452c-fbbc-c5650ddcd695"
      },
      "source": [
        "#grouping data by title and count of ratings\n",
        "ratings_count=df.groupby(['title'], as_index = False)[['rating']].count()\n",
        "ratings_count['ratings_count']=ratings_count['rating']\n",
        "ratings_count=ratings_count.drop(\"rating\", axis=1)\n",
        "ratings_count.head()"
      ],
      "execution_count": null,
      "outputs": [
        {
          "output_type": "execute_result",
          "data": {
            "text/html": [
              "<div>\n",
              "<style scoped>\n",
              "    .dataframe tbody tr th:only-of-type {\n",
              "        vertical-align: middle;\n",
              "    }\n",
              "\n",
              "    .dataframe tbody tr th {\n",
              "        vertical-align: top;\n",
              "    }\n",
              "\n",
              "    .dataframe thead th {\n",
              "        text-align: right;\n",
              "    }\n",
              "</style>\n",
              "<table border=\"1\" class=\"dataframe\">\n",
              "  <thead>\n",
              "    <tr style=\"text-align: right;\">\n",
              "      <th></th>\n",
              "      <th>title</th>\n",
              "      <th>ratings_count</th>\n",
              "    </tr>\n",
              "  </thead>\n",
              "  <tbody>\n",
              "    <tr>\n",
              "      <th>0</th>\n",
              "      <td>!Women Art Revolution</td>\n",
              "      <td>2</td>\n",
              "    </tr>\n",
              "    <tr>\n",
              "      <th>1</th>\n",
              "      <td>'Gator Bait</td>\n",
              "      <td>1</td>\n",
              "    </tr>\n",
              "    <tr>\n",
              "      <th>2</th>\n",
              "      <td>'Twas the Night Before Christmas</td>\n",
              "      <td>2</td>\n",
              "    </tr>\n",
              "    <tr>\n",
              "      <th>3</th>\n",
              "      <td>...And God Created Woman</td>\n",
              "      <td>1</td>\n",
              "    </tr>\n",
              "    <tr>\n",
              "      <th>4</th>\n",
              "      <td>00 Schneider - Jagd auf Nihil Baxter</td>\n",
              "      <td>2</td>\n",
              "    </tr>\n",
              "  </tbody>\n",
              "</table>\n",
              "</div>"
            ],
            "text/plain": [
              "                                  title  ratings_count\n",
              "0                 !Women Art Revolution              2\n",
              "1                           'Gator Bait              1\n",
              "2      'Twas the Night Before Christmas              2\n",
              "3              ...And God Created Woman              1\n",
              "4  00 Schneider - Jagd auf Nihil Baxter              2"
            ]
          },
          "metadata": {
            "tags": []
          },
          "execution_count": 16
        }
      ]
    },
    {
      "cell_type": "code",
      "metadata": {
        "id": "mo7nnd1MN82F",
        "colab_type": "code",
        "colab": {
          "base_uri": "https://localhost:8080/",
          "height": 294
        },
        "outputId": "7ecd5994-96ac-4abc-c3b7-1d957895ca61"
      },
      "source": [
        "ratings_count.describe()\n"
      ],
      "execution_count": null,
      "outputs": [
        {
          "output_type": "execute_result",
          "data": {
            "text/html": [
              "<div>\n",
              "<style scoped>\n",
              "    .dataframe tbody tr th:only-of-type {\n",
              "        vertical-align: middle;\n",
              "    }\n",
              "\n",
              "    .dataframe tbody tr th {\n",
              "        vertical-align: top;\n",
              "    }\n",
              "\n",
              "    .dataframe thead th {\n",
              "        text-align: right;\n",
              "    }\n",
              "</style>\n",
              "<table border=\"1\" class=\"dataframe\">\n",
              "  <thead>\n",
              "    <tr style=\"text-align: right;\">\n",
              "      <th></th>\n",
              "      <th>ratings_count</th>\n",
              "    </tr>\n",
              "  </thead>\n",
              "  <tbody>\n",
              "    <tr>\n",
              "      <th>count</th>\n",
              "      <td>2794.000000</td>\n",
              "    </tr>\n",
              "    <tr>\n",
              "      <th>mean</th>\n",
              "      <td>16.103794</td>\n",
              "    </tr>\n",
              "    <tr>\n",
              "      <th>std</th>\n",
              "      <td>31.481306</td>\n",
              "    </tr>\n",
              "    <tr>\n",
              "      <th>min</th>\n",
              "      <td>1.000000</td>\n",
              "    </tr>\n",
              "    <tr>\n",
              "      <th>25%</th>\n",
              "      <td>1.000000</td>\n",
              "    </tr>\n",
              "    <tr>\n",
              "      <th>50%</th>\n",
              "      <td>4.000000</td>\n",
              "    </tr>\n",
              "    <tr>\n",
              "      <th>75%</th>\n",
              "      <td>15.750000</td>\n",
              "    </tr>\n",
              "    <tr>\n",
              "      <th>max</th>\n",
              "      <td>324.000000</td>\n",
              "    </tr>\n",
              "  </tbody>\n",
              "</table>\n",
              "</div>"
            ],
            "text/plain": [
              "       ratings_count\n",
              "count    2794.000000\n",
              "mean       16.103794\n",
              "std        31.481306\n",
              "min         1.000000\n",
              "25%         1.000000\n",
              "50%         4.000000\n",
              "75%        15.750000\n",
              "max       324.000000"
            ]
          },
          "metadata": {
            "tags": []
          },
          "execution_count": 17
        }
      ]
    },
    {
      "cell_type": "markdown",
      "metadata": {
        "id": "vos-ZLQ0gYAb",
        "colab_type": "text"
      },
      "source": [
        "Here, the minimun number of ratings count is 1 and max is 324."
      ]
    },
    {
      "cell_type": "markdown",
      "metadata": {
        "id": "Eu_RDwI4g5ZA",
        "colab_type": "text"
      },
      "source": [
        "**Merging df and ratings_count**"
      ]
    },
    {
      "cell_type": "code",
      "metadata": {
        "id": "ePDVn7KcbUiO",
        "colab_type": "code",
        "colab": {
          "base_uri": "https://localhost:8080/",
          "height": 202
        },
        "outputId": "40bd49ee-649d-48fc-c56d-ce088b486b61"
      },
      "source": [
        "final_df=pd.merge(df,ratings_count,on='title')\n",
        "final_df.head()"
      ],
      "execution_count": null,
      "outputs": [
        {
          "output_type": "execute_result",
          "data": {
            "text/html": [
              "<div>\n",
              "<style scoped>\n",
              "    .dataframe tbody tr th:only-of-type {\n",
              "        vertical-align: middle;\n",
              "    }\n",
              "\n",
              "    .dataframe tbody tr th {\n",
              "        vertical-align: top;\n",
              "    }\n",
              "\n",
              "    .dataframe thead th {\n",
              "        text-align: right;\n",
              "    }\n",
              "</style>\n",
              "<table border=\"1\" class=\"dataframe\">\n",
              "  <thead>\n",
              "    <tr style=\"text-align: right;\">\n",
              "      <th></th>\n",
              "      <th>genres</th>\n",
              "      <th>overview</th>\n",
              "      <th>title</th>\n",
              "      <th>movieId</th>\n",
              "      <th>rating</th>\n",
              "      <th>ratings_count</th>\n",
              "    </tr>\n",
              "  </thead>\n",
              "  <tbody>\n",
              "    <tr>\n",
              "      <th>0</th>\n",
              "      <td>[{'id': 10770, 'name': 'TV Movie'}, {'id': 12,...</td>\n",
              "      <td>Two adventurers set sail to find a giant man-e...</td>\n",
              "      <td>Shark Kill</td>\n",
              "      <td>97593</td>\n",
              "      <td>3.5</td>\n",
              "      <td>1</td>\n",
              "    </tr>\n",
              "    <tr>\n",
              "      <th>1</th>\n",
              "      <td>[{'id': 99, 'name': 'Documentary'}]</td>\n",
              "      <td>NaN</td>\n",
              "      <td>Modern Life</td>\n",
              "      <td>8930</td>\n",
              "      <td>4.5</td>\n",
              "      <td>2</td>\n",
              "    </tr>\n",
              "    <tr>\n",
              "      <th>2</th>\n",
              "      <td>[{'id': 99, 'name': 'Documentary'}]</td>\n",
              "      <td>NaN</td>\n",
              "      <td>Modern Life</td>\n",
              "      <td>8930</td>\n",
              "      <td>2.5</td>\n",
              "      <td>2</td>\n",
              "    </tr>\n",
              "    <tr>\n",
              "      <th>3</th>\n",
              "      <td>[{'id': 12, 'name': 'Adventure'}, {'id': 16, '...</td>\n",
              "      <td>Somewhere in Europe by a great sea stands a sm...</td>\n",
              "      <td>Lotte from Gadgetville</td>\n",
              "      <td>1260</td>\n",
              "      <td>5.0</td>\n",
              "      <td>21</td>\n",
              "    </tr>\n",
              "    <tr>\n",
              "      <th>4</th>\n",
              "      <td>[{'id': 12, 'name': 'Adventure'}, {'id': 16, '...</td>\n",
              "      <td>Somewhere in Europe by a great sea stands a sm...</td>\n",
              "      <td>Lotte from Gadgetville</td>\n",
              "      <td>1260</td>\n",
              "      <td>5.0</td>\n",
              "      <td>21</td>\n",
              "    </tr>\n",
              "  </tbody>\n",
              "</table>\n",
              "</div>"
            ],
            "text/plain": [
              "                                              genres  ... ratings_count\n",
              "0  [{'id': 10770, 'name': 'TV Movie'}, {'id': 12,...  ...             1\n",
              "1                [{'id': 99, 'name': 'Documentary'}]  ...             2\n",
              "2                [{'id': 99, 'name': 'Documentary'}]  ...             2\n",
              "3  [{'id': 12, 'name': 'Adventure'}, {'id': 16, '...  ...            21\n",
              "4  [{'id': 12, 'name': 'Adventure'}, {'id': 16, '...  ...            21\n",
              "\n",
              "[5 rows x 6 columns]"
            ]
          },
          "metadata": {
            "tags": []
          },
          "execution_count": 18
        }
      ]
    },
    {
      "cell_type": "markdown",
      "metadata": {
        "id": "JUZDYTO8fK86",
        "colab_type": "text"
      },
      "source": [
        "# **Recommendation based on Demographic Filtering**"
      ]
    },
    {
      "cell_type": "markdown",
      "metadata": {
        "id": "vjWD6fFrhFCs",
        "colab_type": "text"
      },
      "source": [
        "**Final Data frame**"
      ]
    },
    {
      "cell_type": "code",
      "metadata": {
        "id": "dwk34e0wfW1J",
        "colab_type": "code",
        "colab": {
          "base_uri": "https://localhost:8080/",
          "height": 202
        },
        "outputId": "d2f40467-e57e-48f6-8154-d49e7674af8a"
      },
      "source": [
        "final_df_=final_df.groupby(['movieId','title','genres','overview','ratings_count'], as_index = False)[['rating']].mean()\n",
        "final_df_['ratings_mean']=final_df_['rating']\n",
        "final_df_=final_df_.drop(\"rating\",axis=1)\n",
        "final_df_.head()"
      ],
      "execution_count": null,
      "outputs": [
        {
          "output_type": "execute_result",
          "data": {
            "text/html": [
              "<div>\n",
              "<style scoped>\n",
              "    .dataframe tbody tr th:only-of-type {\n",
              "        vertical-align: middle;\n",
              "    }\n",
              "\n",
              "    .dataframe tbody tr th {\n",
              "        vertical-align: top;\n",
              "    }\n",
              "\n",
              "    .dataframe thead th {\n",
              "        text-align: right;\n",
              "    }\n",
              "</style>\n",
              "<table border=\"1\" class=\"dataframe\">\n",
              "  <thead>\n",
              "    <tr style=\"text-align: right;\">\n",
              "      <th></th>\n",
              "      <th>movieId</th>\n",
              "      <th>title</th>\n",
              "      <th>genres</th>\n",
              "      <th>overview</th>\n",
              "      <th>ratings_count</th>\n",
              "      <th>ratings_mean</th>\n",
              "    </tr>\n",
              "  </thead>\n",
              "  <tbody>\n",
              "    <tr>\n",
              "      <th>0</th>\n",
              "      <td>2</td>\n",
              "      <td>Ariel</td>\n",
              "      <td>[{'id': 18, 'name': 'Drama'}, {'id': 80, 'name...</td>\n",
              "      <td>Taisto Kasurinen is a Finnish coal miner whose...</td>\n",
              "      <td>107</td>\n",
              "      <td>3.401869</td>\n",
              "    </tr>\n",
              "    <tr>\n",
              "      <th>1</th>\n",
              "      <td>3</td>\n",
              "      <td>Shadows in Paradise</td>\n",
              "      <td>[{'id': 18, 'name': 'Drama'}, {'id': 35, 'name...</td>\n",
              "      <td>An episode in the life of Nikander, a garbage ...</td>\n",
              "      <td>59</td>\n",
              "      <td>3.161017</td>\n",
              "    </tr>\n",
              "    <tr>\n",
              "      <th>2</th>\n",
              "      <td>5</td>\n",
              "      <td>Four Rooms</td>\n",
              "      <td>[{'id': 80, 'name': 'Crime'}, {'id': 35, 'name...</td>\n",
              "      <td>It's Ted the Bellhop's first night on the job....</td>\n",
              "      <td>56</td>\n",
              "      <td>3.267857</td>\n",
              "    </tr>\n",
              "    <tr>\n",
              "      <th>3</th>\n",
              "      <td>6</td>\n",
              "      <td>Judgment Night</td>\n",
              "      <td>[{'id': 28, 'name': 'Action'}, {'id': 53, 'nam...</td>\n",
              "      <td>While racing to a boxing match, Frank, Mike, J...</td>\n",
              "      <td>104</td>\n",
              "      <td>3.884615</td>\n",
              "    </tr>\n",
              "    <tr>\n",
              "      <th>4</th>\n",
              "      <td>11</td>\n",
              "      <td>Star Wars</td>\n",
              "      <td>[{'id': 12, 'name': 'Adventure'}, {'id': 28, '...</td>\n",
              "      <td>Princess Leia is captured and held hostage by ...</td>\n",
              "      <td>82</td>\n",
              "      <td>3.689024</td>\n",
              "    </tr>\n",
              "  </tbody>\n",
              "</table>\n",
              "</div>"
            ],
            "text/plain": [
              "   movieId                title  ... ratings_count ratings_mean\n",
              "0        2                Ariel  ...           107     3.401869\n",
              "1        3  Shadows in Paradise  ...            59     3.161017\n",
              "2        5           Four Rooms  ...            56     3.267857\n",
              "3        6       Judgment Night  ...           104     3.884615\n",
              "4       11            Star Wars  ...            82     3.689024\n",
              "\n",
              "[5 rows x 6 columns]"
            ]
          },
          "metadata": {
            "tags": []
          },
          "execution_count": 19
        }
      ]
    },
    {
      "cell_type": "code",
      "metadata": {
        "id": "VV8UjCPAQEzU",
        "colab_type": "code",
        "colab": {
          "base_uri": "https://localhost:8080/",
          "height": 35
        },
        "outputId": "ea96e394-6952-496e-cd75-ebbaf710d881"
      },
      "source": [
        "final_df_.shape"
      ],
      "execution_count": null,
      "outputs": [
        {
          "output_type": "execute_result",
          "data": {
            "text/plain": [
              "(2809, 6)"
            ]
          },
          "metadata": {
            "tags": []
          },
          "execution_count": 20
        }
      ]
    },
    {
      "cell_type": "markdown",
      "metadata": {
        "id": "CYfs_qp6hYS7",
        "colab_type": "text"
      },
      "source": [
        "**Mean of all the ratings**"
      ]
    },
    {
      "cell_type": "code",
      "metadata": {
        "id": "Bl54vaZc_xSs",
        "colab_type": "code",
        "colab": {
          "base_uri": "https://localhost:8080/",
          "height": 35
        },
        "outputId": "60f87ecb-9186-497b-bf60-1c4e0fdea482"
      },
      "source": [
        "c=final_df_['ratings_mean'].mean()\n",
        "c"
      ],
      "execution_count": null,
      "outputs": [
        {
          "output_type": "execute_result",
          "data": {
            "text/plain": [
              "3.332387587363881"
            ]
          },
          "metadata": {
            "tags": []
          },
          "execution_count": 21
        }
      ]
    },
    {
      "cell_type": "markdown",
      "metadata": {
        "id": "H6h8enTDiAV0",
        "colab_type": "text"
      },
      "source": [
        "So, the mean rating for all the movies is approx 3 on a scale of 5.The next step is to determine an appropriate value for m, the minimum votes required to be listed in the chart. We will use 80th percentile as our cutoff. In other words, for a movie to feature in the charts, it must have more votes than at least 85% of the movies in the list."
      ]
    },
    {
      "cell_type": "markdown",
      "metadata": {
        "id": "nuaX7bLwhbeG",
        "colab_type": "text"
      },
      "source": [
        "**Quantile**"
      ]
    },
    {
      "cell_type": "code",
      "metadata": {
        "id": "ax00y87OANY0",
        "colab_type": "code",
        "colab": {
          "base_uri": "https://localhost:8080/",
          "height": 35
        },
        "outputId": "5f35b54e-9608-4a43-9a3f-94cbd9b516f5"
      },
      "source": [
        "m=final_df_['ratings_count'].quantile(0.85)\n",
        "m"
      ],
      "execution_count": null,
      "outputs": [
        {
          "output_type": "execute_result",
          "data": {
            "text/plain": [
              "30.0"
            ]
          },
          "metadata": {
            "tags": []
          },
          "execution_count": 22
        }
      ]
    },
    {
      "cell_type": "code",
      "metadata": {
        "id": "itsRCxGpD6Aj",
        "colab_type": "code",
        "colab": {
          "base_uri": "https://localhost:8080/",
          "height": 35
        },
        "outputId": "07cfd543-a032-4191-85da-9a4d3cb5b0e3"
      },
      "source": [
        "final_df_.shape"
      ],
      "execution_count": null,
      "outputs": [
        {
          "output_type": "execute_result",
          "data": {
            "text/plain": [
              "(2809, 6)"
            ]
          },
          "metadata": {
            "tags": []
          },
          "execution_count": 23
        }
      ]
    },
    {
      "cell_type": "markdown",
      "metadata": {
        "id": "yK9uVWFUiMaw",
        "colab_type": "text"
      },
      "source": [
        "Now, we can filter out the movies that qualify for the chart"
      ]
    },
    {
      "cell_type": "code",
      "metadata": {
        "id": "7zaiyKI5AYkV",
        "colab_type": "code",
        "colab": {
          "base_uri": "https://localhost:8080/",
          "height": 35
        },
        "outputId": "99ae4853-0eb4-4001-f348-1b4c386508c9"
      },
      "source": [
        "q_movies=final_df_.copy().loc[final_df_['ratings_count'] >= m]\n",
        "q_movies.shape"
      ],
      "execution_count": null,
      "outputs": [
        {
          "output_type": "execute_result",
          "data": {
            "text/plain": [
              "(427, 6)"
            ]
          },
          "metadata": {
            "tags": []
          },
          "execution_count": 24
        }
      ]
    },
    {
      "cell_type": "markdown",
      "metadata": {
        "id": "DlSvAbTPibsV",
        "colab_type": "text"
      },
      "source": [
        "We see that there are 427 movies which qualify to be in this list. Now, we need to calculate our metric for each qualified movie. To do this, we will define a function, weighted_rating() and define a new feature score, of which we'll calculate the value by applying this function to our DataFrame of qualified movies:"
      ]
    },
    {
      "cell_type": "code",
      "metadata": {
        "id": "ObYGIzVcBk-p",
        "colab_type": "code",
        "colab": {}
      },
      "source": [
        "def weighted_rating(x, m=m, c=c):\n",
        "    v = x['ratings_count']\n",
        "    R = x['ratings_mean']\n",
        "    # Calculation based on the IMDB formula\n",
        "    return (v/(v+m) * R) + (m/(m+v) * c)"
      ],
      "execution_count": null,
      "outputs": []
    },
    {
      "cell_type": "code",
      "metadata": {
        "id": "num9j-YvB7ZK",
        "colab_type": "code",
        "colab": {}
      },
      "source": [
        "# Define a new feature 'score' and calculate its value with `weighted_rating()`\n",
        "q_movies['score'] = q_movies.apply(weighted_rating, axis=1)"
      ],
      "execution_count": null,
      "outputs": []
    },
    {
      "cell_type": "code",
      "metadata": {
        "id": "sZJbtwllCdXK",
        "colab_type": "code",
        "colab": {
          "base_uri": "https://localhost:8080/",
          "height": 355
        },
        "outputId": "946a9b7a-a9c2-488f-c368-b88fd17d16ba"
      },
      "source": [
        "#Sort movies based on score calculated above\n",
        "q_movies = q_movies.sort_values('score', ascending=False)\n",
        "\n",
        "#Print the top 15 movies\n",
        "q_movies[['title', 'ratings_count', 'ratings_mean', 'score']].head(10)"
      ],
      "execution_count": null,
      "outputs": [
        {
          "output_type": "execute_result",
          "data": {
            "text/html": [
              "<div>\n",
              "<style scoped>\n",
              "    .dataframe tbody tr th:only-of-type {\n",
              "        vertical-align: middle;\n",
              "    }\n",
              "\n",
              "    .dataframe tbody tr th {\n",
              "        vertical-align: top;\n",
              "    }\n",
              "\n",
              "    .dataframe thead th {\n",
              "        text-align: right;\n",
              "    }\n",
              "</style>\n",
              "<table border=\"1\" class=\"dataframe\">\n",
              "  <thead>\n",
              "    <tr style=\"text-align: right;\">\n",
              "      <th></th>\n",
              "      <th>title</th>\n",
              "      <th>ratings_count</th>\n",
              "      <th>ratings_mean</th>\n",
              "      <th>score</th>\n",
              "    </tr>\n",
              "  </thead>\n",
              "  <tbody>\n",
              "    <tr>\n",
              "      <th>747</th>\n",
              "      <td>Blood: The Last Vampire</td>\n",
              "      <td>118</td>\n",
              "      <td>5.000000</td>\n",
              "      <td>4.661970</td>\n",
              "    </tr>\n",
              "    <tr>\n",
              "      <th>228</th>\n",
              "      <td>The Million Dollar Hotel</td>\n",
              "      <td>311</td>\n",
              "      <td>4.487138</td>\n",
              "      <td>4.385547</td>\n",
              "    </tr>\n",
              "    <tr>\n",
              "      <th>543</th>\n",
              "      <td>Sleepless in Seattle</td>\n",
              "      <td>200</td>\n",
              "      <td>4.487500</td>\n",
              "      <td>4.336833</td>\n",
              "    </tr>\n",
              "    <tr>\n",
              "      <th>577</th>\n",
              "      <td>The Thomas Crown Affair</td>\n",
              "      <td>179</td>\n",
              "      <td>4.387097</td>\n",
              "      <td>4.235703</td>\n",
              "    </tr>\n",
              "    <tr>\n",
              "      <th>352</th>\n",
              "      <td>Once Were Warriors</td>\n",
              "      <td>244</td>\n",
              "      <td>4.303279</td>\n",
              "      <td>4.196977</td>\n",
              "    </tr>\n",
              "    <tr>\n",
              "      <th>212</th>\n",
              "      <td>Terminator 3: Rise of the Machines</td>\n",
              "      <td>324</td>\n",
              "      <td>4.256173</td>\n",
              "      <td>4.177886</td>\n",
              "    </tr>\n",
              "    <tr>\n",
              "      <th>407</th>\n",
              "      <td>Men in Black II</td>\n",
              "      <td>224</td>\n",
              "      <td>4.256696</td>\n",
              "      <td>4.147526</td>\n",
              "    </tr>\n",
              "    <tr>\n",
              "      <th>184</th>\n",
              "      <td>The 39 Steps</td>\n",
              "      <td>291</td>\n",
              "      <td>4.221649</td>\n",
              "      <td>4.138541</td>\n",
              "    </tr>\n",
              "    <tr>\n",
              "      <th>576</th>\n",
              "      <td>The Thomas Crown Affair</td>\n",
              "      <td>179</td>\n",
              "      <td>4.235043</td>\n",
              "      <td>4.105475</td>\n",
              "    </tr>\n",
              "    <tr>\n",
              "      <th>586</th>\n",
              "      <td>Dawn of the Dead</td>\n",
              "      <td>208</td>\n",
              "      <td>4.200000</td>\n",
              "      <td>4.090637</td>\n",
              "    </tr>\n",
              "  </tbody>\n",
              "</table>\n",
              "</div>"
            ],
            "text/plain": [
              "                                  title  ratings_count  ratings_mean     score\n",
              "747             Blood: The Last Vampire            118      5.000000  4.661970\n",
              "228            The Million Dollar Hotel            311      4.487138  4.385547\n",
              "543                Sleepless in Seattle            200      4.487500  4.336833\n",
              "577             The Thomas Crown Affair            179      4.387097  4.235703\n",
              "352                  Once Were Warriors            244      4.303279  4.196977\n",
              "212  Terminator 3: Rise of the Machines            324      4.256173  4.177886\n",
              "407                     Men in Black II            224      4.256696  4.147526\n",
              "184                        The 39 Steps            291      4.221649  4.138541\n",
              "576             The Thomas Crown Affair            179      4.235043  4.105475\n",
              "586                    Dawn of the Dead            208      4.200000  4.090637"
            ]
          },
          "metadata": {
            "tags": []
          },
          "execution_count": 27
        }
      ]
    },
    {
      "cell_type": "markdown",
      "metadata": {
        "id": "hGNJerMTjrbX",
        "colab_type": "text"
      },
      "source": [
        "# **Data Visualisation**"
      ]
    },
    {
      "cell_type": "markdown",
      "metadata": {
        "id": "mJ4lMbpC_t9k",
        "colab_type": "text"
      },
      "source": [
        "**Score Distribution**"
      ]
    },
    {
      "cell_type": "code",
      "metadata": {
        "id": "U7_9ETSK8xVO",
        "colab_type": "code",
        "colab": {
          "base_uri": "https://localhost:8080/",
          "height": 279
        },
        "outputId": "b12a317e-d917-476d-bf12-49ad42314273"
      },
      "source": [
        "import matplotlib.pyplot as plt\n",
        "plt.hist(q_movies['score'], bins = 20)\n",
        "plt.xlabel(\"Number\")\n",
        "plt.ylabel(\"Frequency\")\n",
        "plt.show()"
      ],
      "execution_count": null,
      "outputs": [
        {
          "output_type": "display_data",
          "data": {
            "image/png": "[encoded data removed]",
            "text/plain": [
              "<Figure size 432x288 with 1 Axes>"
            ]
          },
          "metadata": {
            "tags": [],
            "needs_background": "light"
          }
        }
      ]
    },
    {
      "cell_type": "markdown",
      "metadata": {
        "id": "11Q7g5x64Y2k",
        "colab_type": "text"
      },
      "source": [
        "**Most_rated movies based on ratings count**"
      ]
    },
    {
      "cell_type": "code",
      "metadata": {
        "id": "1a-9C0dOzkiM",
        "colab_type": "code",
        "colab": {}
      },
      "source": [
        "Most_rated=ratings_count.nlargest(20,'ratings_count')"
      ],
      "execution_count": null,
      "outputs": []
    },
    {
      "cell_type": "code",
      "metadata": {
        "id": "djpCtl7NywU_",
        "colab_type": "code",
        "colab": {
          "base_uri": "https://localhost:8080/",
          "height": 733
        },
        "outputId": "7d15300a-ccff-46bc-908e-a5cf8106538f"
      },
      "source": [
        "plt.figure(figsize=(30,10))\n",
        "plt.title('Top 20 movies with highest ratings count',fontsize=40)\n",
        "plt.ylabel('ratings_count',fontsize=30)\n",
        "plt.xticks(fontsize=25,rotation=90)\n",
        "plt.xlabel('movies title',fontsize=30)\n",
        "plt.yticks(fontsize=25)\n",
        "plt.bar(Most_rated['title'],Most_rated['ratings_count'],linewidth=3,edgecolor='red',color='purple')"
      ],
      "execution_count": null,
      "outputs": [
        {
          "output_type": "execute_result",
          "data": {
            "text/plain": [
              "<BarContainer object of 20 artists>"
            ]
          },
          "metadata": {
            "tags": []
          },
          "execution_count": 30
        },
        {
          "output_type": "display_data",
          "data": {
            "image/png": "[encoded data removed]",
            "text/plain": [
              "<Figure size 2160x720 with 1 Axes>"
            ]
          },
          "metadata": {
            "tags": [],
            "needs_background": "light"
          }
        }
      ]
    },
    {
      "cell_type": "markdown",
      "metadata": {
        "id": "h2KJT8BT4d-w",
        "colab_type": "text"
      },
      "source": [
        "**Higest rated movies based on ratings sum**"
      ]
    },
    {
      "cell_type": "code",
      "metadata": {
        "id": "GjvxvNsO2zk_",
        "colab_type": "code",
        "colab": {}
      },
      "source": [
        "ratings_sum=df.groupby(['title'])[['rating']].sum()\n",
        "ratings_sum=ratings_sum.nlargest(20,'rating')"
      ],
      "execution_count": null,
      "outputs": []
    },
    {
      "cell_type": "code",
      "metadata": {
        "id": "m_KXYRW33nBK",
        "colab_type": "code",
        "colab": {
          "base_uri": "https://localhost:8080/",
          "height": 727
        },
        "outputId": "d14553a4-9778-4e46-f211-e8b3220ccc05"
      },
      "source": [
        "plt.figure(figsize=(30,10))\n",
        "plt.title('Top 20 movies with highest rating sum',fontsize=40)\n",
        "plt.ylabel('ratings_sum',fontsize=30)\n",
        "plt.xticks(fontsize=25,rotation=90)\n",
        "plt.xlabel('movies title',fontsize=30)\n",
        "plt.yticks(fontsize=25)\n",
        "plt.bar(ratings_sum.index,ratings_sum['rating'],linewidth=3,edgecolor='red',color='green')"
      ],
      "execution_count": null,
      "outputs": [
        {
          "output_type": "execute_result",
          "data": {
            "text/plain": [
              "<BarContainer object of 20 artists>"
            ]
          },
          "metadata": {
            "tags": []
          },
          "execution_count": 32
        },
        {
          "output_type": "display_data",
          "data": {
            "image/png": "[encoded data removed]",
            "text/plain": [
              "<Figure size 2160x720 with 1 Axes>"
            ]
          },
          "metadata": {
            "tags": [],
            "needs_background": "light"
          }
        }
      ]
    },
    {
      "cell_type": "markdown",
      "metadata": {
        "id": "Ynce5YEaAE9I",
        "colab_type": "text"
      },
      "source": [
        "# **Content Based Filtering**"
      ]
    },
    {
      "cell_type": "markdown",
      "metadata": {
        "id": "myyYHrGsALrg",
        "colab_type": "text"
      },
      "source": [
        "In this recommender system the content of the movie (genres) is used to find its similarity with other movies. Then the movies that are most likely to be similar are recommended."
      ]
    },
    {
      "cell_type": "markdown",
      "metadata": {
        "id": "PhWMe0u5AXeA",
        "colab_type": "text"
      },
      "source": [
        "# **overviews-based Recommender**"
      ]
    },
    {
      "cell_type": "markdown",
      "metadata": {
        "id": "qIrVdNhlAc8d",
        "colab_type": "text"
      },
      "source": [
        "We will compute pairwise similarity scores for all movies based on their plot descriptions and recommend movies based on that similarity score. The plot description is given in the overview feature of our dataset. Let's take a look at the data."
      ]
    },
    {
      "cell_type": "code",
      "metadata": {
        "id": "M9h1U_rWS5Ca",
        "colab_type": "code",
        "colab": {
          "base_uri": "https://localhost:8080/",
          "height": 121
        },
        "outputId": "d4734926-e2f7-43b5-d5d5-3e8978e3c57a"
      },
      "source": [
        "final_df_['overview'].head(5)"
      ],
      "execution_count": null,
      "outputs": [
        {
          "output_type": "execute_result",
          "data": {
            "text/plain": [
              "0    Taisto Kasurinen is a Finnish coal miner whose...\n",
              "1    An episode in the life of Nikander, a garbage ...\n",
              "2    It's Ted the Bellhop's first night on the job....\n",
              "3    While racing to a boxing match, Frank, Mike, J...\n",
              "4    Princess Leia is captured and held hostage by ...\n",
              "Name: overview, dtype: object"
            ]
          },
          "metadata": {
            "tags": []
          },
          "execution_count": 33
        }
      ]
    },
    {
      "cell_type": "markdown",
      "metadata": {
        "id": "wiVytDFAAlkF",
        "colab_type": "text"
      },
      "source": [
        "converting the word vector of each overview.Now we'll compute Term Frequency-Inverse Document Frequency (TF-IDF) vectors for each overview."
      ]
    },
    {
      "cell_type": "code",
      "metadata": {
        "id": "ENeAiOkQW0EP",
        "colab_type": "code",
        "colab": {
          "base_uri": "https://localhost:8080/",
          "height": 35
        },
        "outputId": "8391a7ee-50cd-4423-823a-6e2c1318d48f"
      },
      "source": [
        "#Import TfIdfVectorizer from scikit-learn\n",
        "from sklearn.feature_extraction.text import TfidfVectorizer\n",
        "\n",
        "#Define a TF-IDF Vectorizer Object. Remove all english stop words such as 'the', 'a'\n",
        "tfidf = TfidfVectorizer(stop_words='english')\n",
        "\n",
        "#Replace NaN with an empty string\n",
        "final_df_['overview'] = final_df_['overview'].fillna('')\n",
        "\n",
        "#Construct the required TF-IDF matrix by fitting and transforming the data\n",
        "tfidf_matrix = tfidf.fit_transform(final_df_['overview'])\n",
        "\n",
        "#Output the shape of tfidf_matrix\n",
        "tfidf_matrix.shape\n"
      ],
      "execution_count": null,
      "outputs": [
        {
          "output_type": "execute_result",
          "data": {
            "text/plain": [
              "(2809, 17156)"
            ]
          },
          "metadata": {
            "tags": []
          },
          "execution_count": 34
        }
      ]
    },
    {
      "cell_type": "markdown",
      "metadata": {
        "id": "EVg6GARiA_at",
        "colab_type": "text"
      },
      "source": [
        "We see that over 20,000 different words were used to describe the 4800 movies in our dataset."
      ]
    },
    {
      "cell_type": "markdown",
      "metadata": {
        "id": "RFHqtmUmBJu8",
        "colab_type": "text"
      },
      "source": [
        "We will be using the cosine similarity to calculate a numeric quantity that denotes the similarity between two movies.\n",
        "\n",
        "Since we have used the TF-IDF vectorizer, calculating the dot product will directly give us the cosine similarity score. Therefore, we will use sklearn's linear_kernel() instead of cosine_similarities() since it is faster"
      ]
    },
    {
      "cell_type": "code",
      "metadata": {
        "id": "DoDe5mgeYK1W",
        "colab_type": "code",
        "colab": {}
      },
      "source": [
        "# Import linear_kernel\n",
        "from sklearn.metrics.pairwise import linear_kernel\n",
        "\n",
        "# Compute the cosine similarity matrix\n",
        "cosine_sim = linear_kernel(tfidf_matrix, tfidf_matrix)"
      ],
      "execution_count": null,
      "outputs": []
    },
    {
      "cell_type": "markdown",
      "metadata": {
        "id": "halnVxxhBdAq",
        "colab_type": "text"
      },
      "source": [
        "We are going to define a function that takes in a movie title as an input and outputs a list of the 10 most similar movies. Firstly, for this, we need a reverse mapping of movie titles and DataFrame indices. In other words, we need a mechanism to identify the index of a movie in our metadata DataFrame, given its title."
      ]
    },
    {
      "cell_type": "code",
      "metadata": {
        "id": "BQ2xGOieYSJo",
        "colab_type": "code",
        "colab": {}
      },
      "source": [
        "#Construct a reverse map of indices and movie titles\n",
        "indices = pd.Series(final_df_.index, index=final_df_['title']).drop_duplicates()"
      ],
      "execution_count": null,
      "outputs": []
    },
    {
      "cell_type": "markdown",
      "metadata": {
        "id": "UetYEpDxBqaG",
        "colab_type": "text"
      },
      "source": [
        "We are now in a good position to define our recommendation function. These are the following steps we'll follow :-\n",
        "\n",
        "Get the index of the movie given its title.\n",
        "\n",
        "Get the list of cosine similarity scores for that particular movie with all movies. Convert it into a list of tuples where the first element is its position and the second is the similarity score.\n",
        "\n",
        "Sort the aforementioned list of tuples based on the similarity scores; that is, the second element.\n",
        "\n",
        "Get the top 10 elements of this list. Ignore the first element as it refers to self (the movie most similar to a particular movie is the movie itself).\n",
        "Return the titles corresponding to the indices of the top elements"
      ]
    },
    {
      "cell_type": "code",
      "metadata": {
        "id": "9cbM4jqTYVOc",
        "colab_type": "code",
        "colab": {}
      },
      "source": [
        "# Function that takes in movie title as input and outputs most similar movies\n",
        "def get_recommendations(title, cosine_sim=cosine_sim):\n",
        "    # Get the index of the movie that matches the title\n",
        "    idx = indices[title]\n",
        "\n",
        "    # Get the pairwsie similarity scores of all movies with that movie\n",
        "    sim_scores = list(enumerate(cosine_sim[idx]))\n",
        "\n",
        "    # Sort the movies based on the similarity scores\n",
        "    sim_scores = sorted(sim_scores, key=lambda x: x[1], reverse=True)\n",
        "\n",
        "    # Get the scores of the 10 most similar movies\n",
        "    sim_scores = sim_scores[1:11]\n",
        "\n",
        "    # Get the movie indices\n",
        "    movie_indices = [i[0] for i in sim_scores]\n",
        "\n",
        "    # Return the top 10 most similar movies\n",
        "    return final_df_['title'].iloc[movie_indices]"
      ],
      "execution_count": null,
      "outputs": []
    },
    {
      "cell_type": "code",
      "metadata": {
        "id": "NxmRLHeOYsNH",
        "colab_type": "code",
        "colab": {
          "base_uri": "https://localhost:8080/",
          "height": 208
        },
        "outputId": "78ad5bb2-a556-45ba-baf2-0eef4aca48f9"
      },
      "source": [
        "get_recommendations('Shadows in Paradise')"
      ],
      "execution_count": null,
      "outputs": [
        {
          "output_type": "execute_result",
          "data": {
            "text/plain": [
              "908     Fantomas vs. Scotland Yard\n",
              "65              Three Colors: Blue\n",
              "557          The Docks of New York\n",
              "1161                         Kafka\n",
              "1797                        Waiter\n",
              "2447           Dominick and Eugene\n",
              "2047                       Cloud 9\n",
              "2590                    Dead Times\n",
              "600                  Lethal Weapon\n",
              "1807    In the Realm of the Senses\n",
              "Name: title, dtype: object"
            ]
          },
          "metadata": {
            "tags": []
          },
          "execution_count": 38
        }
      ]
    },
    {
      "cell_type": "code",
      "metadata": {
        "id": "Q0lqA0zWY4MG",
        "colab_type": "code",
        "colab": {
          "base_uri": "https://localhost:8080/",
          "height": 208
        },
        "outputId": "b58e6725-46b0-4c5d-9cdc-09dab268f880"
      },
      "source": [
        "get_recommendations('Star Wars')"
      ],
      "execution_count": null,
      "outputs": [
        {
          "output_type": "execute_result",
          "data": {
            "text/plain": [
              "917                          The Empire Strikes Back\n",
              "918                               Return of the Jedi\n",
              "1999                                   Shanghai Noon\n",
              "2393                                 The Magic Flute\n",
              "1212                              The Princess Bride\n",
              "2557                                   Mirror Mirror\n",
              "920     Star Wars: Episode III - Revenge of the Sith\n",
              "2149             Arthur and the Revenge of Maltazard\n",
              "1147                                       Day Watch\n",
              "43                Nausicaä of the Valley of the Wind\n",
              "Name: title, dtype: object"
            ]
          },
          "metadata": {
            "tags": []
          },
          "execution_count": 39
        }
      ]
    },
    {
      "cell_type": "code",
      "metadata": {
        "id": "E22DTCAQZPqj",
        "colab_type": "code",
        "colab": {
          "base_uri": "https://localhost:8080/",
          "height": 208
        },
        "outputId": "33c41428-8761-4be2-9401-833c9d3aa364"
      },
      "source": [
        "get_recommendations('Four Rooms')"
      ],
      "execution_count": null,
      "outputs": [
        {
          "output_type": "execute_result",
          "data": {
            "text/plain": [
              "2169                    California Suite\n",
              "2439                                Boat\n",
              "830     Bill & Ted's Excellent Adventure\n",
              "136                         Hotel Rwanda\n",
              "228             The Million Dollar Hotel\n",
              "1343                                1408\n",
              "1836                Murder in Three Acts\n",
              "2678                       The Comedians\n",
              "1823                      The Last Laugh\n",
              "1923                   Maid in Manhattan\n",
              "Name: title, dtype: object"
            ]
          },
          "metadata": {
            "tags": []
          },
          "execution_count": 40
        }
      ]
    },
    {
      "cell_type": "markdown",
      "metadata": {
        "id": "F0mQLnatB6xd",
        "colab_type": "text"
      },
      "source": [
        "While our system has done a decent job of finding movies with similar plot descriptions, the quality of recommendations is not that great"
      ]
    },
    {
      "cell_type": "markdown",
      "metadata": {
        "id": "QrQWw0Q9B-zw",
        "colab_type": "text"
      },
      "source": [
        "# **Genres based-recommender**"
      ]
    },
    {
      "cell_type": "markdown",
      "metadata": {
        "id": "K48Ga2UXCP1R",
        "colab_type": "text"
      },
      "source": [
        "It goes without saying that the quality of our recommender would be increased with the usage of better metadata. "
      ]
    },
    {
      "cell_type": "code",
      "metadata": {
        "id": "EyOmGHPrZVdR",
        "colab_type": "code",
        "colab": {}
      },
      "source": [
        "# Parse the stringified features into their corresponding python objects\n",
        "from ast import literal_eval\n",
        "final_df_['genres'] = final_df_['genres'].apply(literal_eval)"
      ],
      "execution_count": null,
      "outputs": []
    },
    {
      "cell_type": "markdown",
      "metadata": {
        "id": "HLCekyo7CT0q",
        "colab_type": "text"
      },
      "source": [
        "Next, we'll write functions that will help us to extract the required information from genres."
      ]
    },
    {
      "cell_type": "code",
      "metadata": {
        "id": "EgSUlxykZ932",
        "colab_type": "code",
        "colab": {}
      },
      "source": [
        "# Returns the list top 3 elements or entire list; whichever is more.\n",
        "def get_list(x):\n",
        "    if isinstance(x, list):\n",
        "        names = [i['name'] for i in x]\n",
        "        #Check if more than 3 elements exist. If yes, return only first three. If no, return entire list.\n",
        "        if len(names) > 3:\n",
        "            names = names[:3]\n",
        "        return names\n",
        "\n",
        "    #Return empty list in case of missing/malformed data\n",
        "    return []"
      ],
      "execution_count": null,
      "outputs": []
    },
    {
      "cell_type": "code",
      "metadata": {
        "id": "8KuOPvk3a25A",
        "colab_type": "code",
        "colab": {}
      },
      "source": [
        "final_df_['genres'] = final_df_['genres'].apply(get_list)"
      ],
      "execution_count": null,
      "outputs": []
    },
    {
      "cell_type": "code",
      "metadata": {
        "id": "S9ZiMI9Sa16u",
        "colab_type": "code",
        "colab": {
          "base_uri": "https://localhost:8080/",
          "height": 355
        },
        "outputId": "98d6c30c-103e-4cdd-d8de-6d0e76338436"
      },
      "source": [
        "final_df_[['genres']].head(10)"
      ],
      "execution_count": null,
      "outputs": [
        {
          "output_type": "execute_result",
          "data": {
            "text/html": [
              "<div>\n",
              "<style scoped>\n",
              "    .dataframe tbody tr th:only-of-type {\n",
              "        vertical-align: middle;\n",
              "    }\n",
              "\n",
              "    .dataframe tbody tr th {\n",
              "        vertical-align: top;\n",
              "    }\n",
              "\n",
              "    .dataframe thead th {\n",
              "        text-align: right;\n",
              "    }\n",
              "</style>\n",
              "<table border=\"1\" class=\"dataframe\">\n",
              "  <thead>\n",
              "    <tr style=\"text-align: right;\">\n",
              "      <th></th>\n",
              "      <th>genres</th>\n",
              "    </tr>\n",
              "  </thead>\n",
              "  <tbody>\n",
              "    <tr>\n",
              "      <th>0</th>\n",
              "      <td>[Drama, Crime]</td>\n",
              "    </tr>\n",
              "    <tr>\n",
              "      <th>1</th>\n",
              "      <td>[Drama, Comedy]</td>\n",
              "    </tr>\n",
              "    <tr>\n",
              "      <th>2</th>\n",
              "      <td>[Crime, Comedy]</td>\n",
              "    </tr>\n",
              "    <tr>\n",
              "      <th>3</th>\n",
              "      <td>[Action, Thriller, Crime]</td>\n",
              "    </tr>\n",
              "    <tr>\n",
              "      <th>4</th>\n",
              "      <td>[Adventure, Action, Science Fiction]</td>\n",
              "    </tr>\n",
              "    <tr>\n",
              "      <th>5</th>\n",
              "      <td>[Animation, Family]</td>\n",
              "    </tr>\n",
              "    <tr>\n",
              "      <th>6</th>\n",
              "      <td>[Comedy, Drama, Romance]</td>\n",
              "    </tr>\n",
              "    <tr>\n",
              "      <th>7</th>\n",
              "      <td>[Drama]</td>\n",
              "    </tr>\n",
              "    <tr>\n",
              "      <th>8</th>\n",
              "      <td>[Mystery, Drama]</td>\n",
              "    </tr>\n",
              "    <tr>\n",
              "      <th>9</th>\n",
              "      <td>[Drama, Crime, Music]</td>\n",
              "    </tr>\n",
              "  </tbody>\n",
              "</table>\n",
              "</div>"
            ],
            "text/plain": [
              "                                 genres\n",
              "0                        [Drama, Crime]\n",
              "1                       [Drama, Comedy]\n",
              "2                       [Crime, Comedy]\n",
              "3             [Action, Thriller, Crime]\n",
              "4  [Adventure, Action, Science Fiction]\n",
              "5                   [Animation, Family]\n",
              "6              [Comedy, Drama, Romance]\n",
              "7                               [Drama]\n",
              "8                      [Mystery, Drama]\n",
              "9                 [Drama, Crime, Music]"
            ]
          },
          "metadata": {
            "tags": []
          },
          "execution_count": 44
        }
      ]
    },
    {
      "cell_type": "markdown",
      "metadata": {
        "id": "Ew9Y3opCCiyi",
        "colab_type": "text"
      },
      "source": [
        "The next step would be to convert the names and keyword instances into lowercase and strip all the spaces between them. "
      ]
    },
    {
      "cell_type": "code",
      "metadata": {
        "id": "7xvCBb8obKl7",
        "colab_type": "code",
        "colab": {}
      },
      "source": [
        "# Function to convert all strings to lower case and strip names of spaces\n",
        "def clean_data(x):\n",
        "    if isinstance(x, list):\n",
        "        return [str.lower(i.replace(\" \", \"\")) for i in x]\n",
        "    else:\n",
        "        #Check if director exists. If not, return empty string\n",
        "        if isinstance(x, str):\n",
        "            return str.lower(x.replace(\" \", \"\"))\n",
        "        else:\n",
        "            return ''"
      ],
      "execution_count": null,
      "outputs": []
    },
    {
      "cell_type": "code",
      "metadata": {
        "id": "lM1By60fcAFC",
        "colab_type": "code",
        "colab": {}
      },
      "source": [
        "final_df['genres']=final_df['genres'].apply(clean_data)"
      ],
      "execution_count": null,
      "outputs": []
    },
    {
      "cell_type": "markdown",
      "metadata": {
        "id": "CmLyOK5TNAcv",
        "colab_type": "text"
      },
      "source": [
        "We are now in a position to create our \"metadata soup\", which is a string that contains all the metadata that we want to feed to our vectorizer (genres)."
      ]
    },
    {
      "cell_type": "code",
      "metadata": {
        "id": "DNbLRRSMHrFu",
        "colab_type": "code",
        "colab": {}
      },
      "source": [
        "def create_soup(x):\n",
        "  return ''.join(x['genres'])\n",
        "\n",
        "final_df_['soup']=final_df_.apply(create_soup, axis=1)\n"
      ],
      "execution_count": null,
      "outputs": []
    },
    {
      "cell_type": "code",
      "metadata": {
        "id": "c18ADiK2H-xu",
        "colab_type": "code",
        "colab": {}
      },
      "source": [
        "# Import CountVectorizer and create the count matrix\n",
        "from sklearn.feature_extraction.text import CountVectorizer\n",
        "\n",
        "count = CountVectorizer(stop_words='english')\n",
        "count_matrix = count.fit_transform(final_df_['soup'])\n",
        "\n"
      ],
      "execution_count": null,
      "outputs": []
    },
    {
      "cell_type": "code",
      "metadata": {
        "id": "DGiCtTz9IKTj",
        "colab_type": "code",
        "colab": {}
      },
      "source": [
        "# Compute the Cosine Similarity matrix based on the count_matrix\n",
        "from sklearn.metrics.pairwise import cosine_similarity\n",
        "\n",
        "cosine_sim2 = cosine_similarity(count_matrix, count_matrix)"
      ],
      "execution_count": null,
      "outputs": []
    },
    {
      "cell_type": "code",
      "metadata": {
        "id": "-4Frb5v3IXCQ",
        "colab_type": "code",
        "colab": {}
      },
      "source": [
        "# Reset index of our main DataFrame and construct reverse mapping as before\n",
        "final_df_ = final_df_.reset_index()\n",
        "indices = pd.Series(final_df_.index, index=final_df_['title'])"
      ],
      "execution_count": null,
      "outputs": []
    },
    {
      "cell_type": "code",
      "metadata": {
        "id": "ICe8UAxcKfDG",
        "colab_type": "code",
        "colab": {
          "base_uri": "https://localhost:8080/",
          "height": 208
        },
        "outputId": "5b567da8-f435-4a5c-fbec-c5f9390a859e"
      },
      "source": [
        "get_recommendations('Shadows in Paradise', cosine_sim2)"
      ],
      "execution_count": null,
      "outputs": [
        {
          "output_type": "execute_result",
          "data": {
            "text/plain": [
              "197           The Edukators\n",
              "297            Human Nature\n",
              "301              The Idiots\n",
              "555          Antonia's Line\n",
              "737      Breakfast on Pluto\n",
              "755     Mongolian Ping Pong\n",
              "804     The Miracle of Bern\n",
              "818    Fried Green Tomatoes\n",
              "836            Small Change\n",
              "837               Gigantics\n",
              "Name: title, dtype: object"
            ]
          },
          "metadata": {
            "tags": []
          },
          "execution_count": 54
        }
      ]
    },
    {
      "cell_type": "code",
      "metadata": {
        "id": "UHCgWKqCKoos",
        "colab_type": "code",
        "colab": {
          "base_uri": "https://localhost:8080/",
          "height": 208
        },
        "outputId": "038f7281-e22b-45a6-a3ed-e9d1e6334692"
      },
      "source": [
        "get_recommendations('Star Wars', cosine_sim2)"
      ],
      "execution_count": null,
      "outputs": [
        {
          "output_type": "execute_result",
          "data": {
            "text/plain": [
              "236                   The Lost World: Jurassic Park\n",
              "917                         The Empire Strikes Back\n",
              "918                              Return of the Jedi\n",
              "919    Star Wars: Episode II - Attack of the Clones\n",
              "12                                       Metropolis\n",
              "21                                    Magnetic Rose\n",
              "32                                           Brazil\n",
              "37                                War of the Worlds\n",
              "53                                       Armageddon\n",
              "63                               Back to the Future\n",
              "Name: title, dtype: object"
            ]
          },
          "metadata": {
            "tags": []
          },
          "execution_count": 55
        }
      ]
    },
    {
      "cell_type": "code",
      "metadata": {
        "id": "553cVIQWKxUA",
        "colab_type": "code",
        "colab": {
          "base_uri": "https://localhost:8080/",
          "height": 208
        },
        "outputId": "636148e7-3546-48a9-ed6b-c40570b0de1a"
      },
      "source": [
        "get_recommendations('Four Rooms', cosine_sim2)"
      ],
      "execution_count": null,
      "outputs": [
        {
          "output_type": "execute_result",
          "data": {
            "text/plain": [
              "1184           Saving Grace\n",
              "0                     Ariel\n",
              "1       Shadows in Paradise\n",
              "3            Judgment Night\n",
              "4                 Star Wars\n",
              "5              Finding Nemo\n",
              "6              Forrest Gump\n",
              "7           American Beauty\n",
              "8              Citizen Kane\n",
              "9        Dancer in the Dark\n",
              "Name: title, dtype: object"
            ]
          },
          "metadata": {
            "tags": []
          },
          "execution_count": 56
        }
      ]
    },
    {
      "cell_type": "markdown",
      "metadata": {
        "id": "JBIWTOhVK9cx",
        "colab_type": "text"
      },
      "source": [
        "We see that our recommender has been successful in capturing more information due to more metadata and has given us (arguably) better recommendations."
      ]
    },
    {
      "cell_type": "markdown",
      "metadata": {
        "id": "3OPeQownC9gu",
        "colab_type": "text"
      },
      "source": [
        "# **Collaborative Filtering**"
      ]
    },
    {
      "cell_type": "markdown",
      "metadata": {
        "id": "Kuk540nNN3j7",
        "colab_type": "text"
      },
      "source": [
        "content based engine suffers from some severe limitations. It is only capable of suggesting movies which are close to a certain movie. That is, it is not capable of capturing tastes and providing recommendations across genres"
      ]
    },
    {
      "cell_type": "markdown",
      "metadata": {
        "id": "6Vck_zkdOIrW",
        "colab_type": "text"
      },
      "source": [
        "The engine that we built is not really personal in that it doesn't capture the personal tastes and biases of a user. Anyone querying our engine for recommendations based on a movie will receive the same recommendations for that movie, regardless of who she/he is."
      ]
    },
    {
      "cell_type": "markdown",
      "metadata": {
        "id": "64kWUD2iDF-R",
        "colab_type": "text"
      },
      "source": [
        "**Single Value Decomposition**"
      ]
    },
    {
      "cell_type": "markdown",
      "metadata": {
        "id": "l_bvH0zQOnB8",
        "colab_type": "text"
      },
      "source": [
        "One way to handle the scalability and sparsity issue created by CF is to leverage a latent factor model to capture the similarity between users and items. Essentially, we want to turn the recommendation problem into an optimization problem. We can view it as how good we are in predicting the rating for items given a user. One common metric is Root Mean Square Error (RMSE). The lower the RMSE, the better the performance."
      ]
    },
    {
      "cell_type": "markdown",
      "metadata": {
        "id": "mtmvVTlPPGF0",
        "colab_type": "text"
      },
      "source": [
        "latent factor is a broad idea which describes a property or concept that a user or an item have. SVD decreases the dimension of the utility matrix by extracting its latent factors. Essentially, we map each user and each item into a latent space with dimension r. Therefore, it helps us better understand the relationship between users and items as they become directly comparable"
      ]
    },
    {
      "cell_type": "code",
      "metadata": {
        "id": "odaBgtUncNGg",
        "colab_type": "code",
        "colab": {}
      },
      "source": [
        "# Reset index of our main DataFrame and construct reverse mapping as before\n",
        "final_df_ = final_df_.reset_index()\n",
        "indices = pd.Series(final_df_.index, index=final_df_['title'])"
      ],
      "execution_count": null,
      "outputs": []
    },
    {
      "cell_type": "code",
      "metadata": {
        "id": "cBPzUK-wdSzE",
        "colab_type": "code",
        "colab": {
          "base_uri": "https://localhost:8080/",
          "height": 202
        },
        "outputId": "4fb1e299-5af3-4371-df2b-e05f18906fec"
      },
      "source": [
        "ratings.head()"
      ],
      "execution_count": null,
      "outputs": [
        {
          "output_type": "execute_result",
          "data": {
            "text/html": [
              "<div>\n",
              "<style scoped>\n",
              "    .dataframe tbody tr th:only-of-type {\n",
              "        vertical-align: middle;\n",
              "    }\n",
              "\n",
              "    .dataframe tbody tr th {\n",
              "        vertical-align: top;\n",
              "    }\n",
              "\n",
              "    .dataframe thead th {\n",
              "        text-align: right;\n",
              "    }\n",
              "</style>\n",
              "<table border=\"1\" class=\"dataframe\">\n",
              "  <thead>\n",
              "    <tr style=\"text-align: right;\">\n",
              "      <th></th>\n",
              "      <th>userId</th>\n",
              "      <th>movieId</th>\n",
              "      <th>rating</th>\n",
              "    </tr>\n",
              "  </thead>\n",
              "  <tbody>\n",
              "    <tr>\n",
              "      <th>0</th>\n",
              "      <td>2</td>\n",
              "      <td>17</td>\n",
              "      <td>5.0</td>\n",
              "    </tr>\n",
              "    <tr>\n",
              "      <th>1</th>\n",
              "      <td>2</td>\n",
              "      <td>39</td>\n",
              "      <td>5.0</td>\n",
              "    </tr>\n",
              "    <tr>\n",
              "      <th>2</th>\n",
              "      <td>2</td>\n",
              "      <td>150</td>\n",
              "      <td>5.0</td>\n",
              "    </tr>\n",
              "    <tr>\n",
              "      <th>3</th>\n",
              "      <td>2</td>\n",
              "      <td>222</td>\n",
              "      <td>5.0</td>\n",
              "    </tr>\n",
              "    <tr>\n",
              "      <th>4</th>\n",
              "      <td>2</td>\n",
              "      <td>265</td>\n",
              "      <td>5.0</td>\n",
              "    </tr>\n",
              "  </tbody>\n",
              "</table>\n",
              "</div>"
            ],
            "text/plain": [
              "   userId  movieId  rating\n",
              "0       2       17     5.0\n",
              "1       2       39     5.0\n",
              "2       2      150     5.0\n",
              "3       2      222     5.0\n",
              "4       2      265     5.0"
            ]
          },
          "metadata": {
            "tags": []
          },
          "execution_count": 58
        }
      ]
    },
    {
      "cell_type": "markdown",
      "metadata": {
        "id": "3u0BWSq1PXte",
        "colab_type": "text"
      },
      "source": [
        "We'll be using the Surprise library to implement SVD."
      ]
    },
    {
      "cell_type": "code",
      "metadata": {
        "id": "TULXan0CeKMu",
        "colab_type": "code",
        "colab": {
          "base_uri": "https://localhost:8080/",
          "height": 280
        },
        "outputId": "92b91771-9ad9-4b8e-eb7d-7770756ca4bd"
      },
      "source": [
        "pip install scikit-surprise"
      ],
      "execution_count": null,
      "outputs": [
        {
          "output_type": "stream",
          "text": [
            "Collecting scikit-surprise\n",
            "\u001b[?25l  Downloading https://files.pythonhosted.org/packages/97/37/5d334adaf5ddd65da99fc65f6507e0e4599d092ba048f4302fe8775619e8/scikit-surprise-1.1.1.tar.gz (11.8MB)\n",
            "\u001b[K     |████████████████████████████████| 11.8MB 4.1MB/s \n",
            "\u001b[?25hRequirement already satisfied: joblib>=0.11 in /usr/local/lib/python3.6/dist-packages (from scikit-surprise) (0.16.0)\n",
            "Requirement already satisfied: numpy>=1.11.2 in /usr/local/lib/python3.6/dist-packages (from scikit-surprise) (1.18.5)\n",
            "Requirement already satisfied: scipy>=1.0.0 in /usr/local/lib/python3.6/dist-packages (from scikit-surprise) (1.4.1)\n",
            "Requirement already satisfied: six>=1.10.0 in /usr/local/lib/python3.6/dist-packages (from scikit-surprise) (1.15.0)\n",
            "Building wheels for collected packages: scikit-surprise\n",
            "  Building wheel for scikit-surprise (setup.py) ... \u001b[?25l\u001b[?25hdone\n",
            "  Created wheel for scikit-surprise: filename=scikit_surprise-1.1.1-cp36-cp36m-linux_x86_64.whl size=1670940 sha256=e8f97733f79e2e0e9ef39c952d7a7a18c47174327d0fbdbd2bb17748b26ea0b1\n",
            "  Stored in directory: /root/.cache/pip/wheels/78/9c/3d/41b419c9d2aff5b6e2b4c0fc8d25c538202834058f9ed110d0\n",
            "Successfully built scikit-surprise\n",
            "Installing collected packages: scikit-surprise\n",
            "Successfully installed scikit-surprise-1.1.1\n"
          ],
          "name": "stdout"
        }
      ]
    },
    {
      "cell_type": "code",
      "metadata": {
        "id": "sbBTMQnPYOxl",
        "colab_type": "code",
        "colab": {
          "base_uri": "https://localhost:8080/",
          "height": 52
        },
        "outputId": "a24d7588-0186-49f7-9230-077596d98954"
      },
      "source": [
        "from surprise import SVD\n",
        "from surprise import Dataset\n",
        "from surprise import accuracy\n",
        "from surprise import Reader\n",
        "from surprise.model_selection import train_test_split\n",
        "\n",
        "reader = Reader()\n",
        "data = data = Dataset.load_from_df(ratings[['userId', 'movieId', 'rating']], reader)\n",
        "# sample random trainset and testset\n",
        "# test set is made of 25% of the ratings.\n",
        "trainset, testset = train_test_split(data, test_size=.25)\n",
        "\n",
        "# We'll use the famous SVD algorithm.\n",
        "algo = SVD()\n",
        "\n",
        "# Train the algorithm on the trainset, and predict ratings for the testset\n",
        "algo.fit(trainset)\n",
        "predictions = algo.test(testset)\n",
        "\n",
        "# Then compute RMSE\n",
        "accuracy.rmse(predictions)"
      ],
      "execution_count": null,
      "outputs": [
        {
          "output_type": "stream",
          "text": [
            "RMSE: 0.9033\n"
          ],
          "name": "stdout"
        },
        {
          "output_type": "execute_result",
          "data": {
            "text/plain": [
              "0.9033392901790414"
            ]
          },
          "metadata": {
            "tags": []
          },
          "execution_count": 61
        }
      ]
    },
    {
      "cell_type": "markdown",
      "metadata": {
        "id": "bl0RtiScDPqR",
        "colab_type": "text"
      },
      "source": [
        "We can see accuracy using RMSE is 90.3 %"
      ]
    },
    {
      "cell_type": "code",
      "metadata": {
        "id": "CXHdfyOJEJsT",
        "colab_type": "code",
        "colab": {
          "base_uri": "https://localhost:8080/",
          "height": 1000
        },
        "outputId": "ace019ba-bdd1-45dc-9333-c840909aef74"
      },
      "source": [
        "predictions"
      ],
      "execution_count": null,
      "outputs": [
        {
          "output_type": "execute_result",
          "data": {
            "text/plain": [
              "[Prediction(uid=416, iid=150, r_ui=3.0, est=3.7869798394505327, details={'was_impossible': False}),\n",
              " Prediction(uid=264, iid=2125, r_ui=5.0, est=3.8929363740530407, details={'was_impossible': False}),\n",
              " Prediction(uid=316, iid=68157, r_ui=4.0, est=4.115666900927235, details={'was_impossible': False}),\n",
              " Prediction(uid=102, iid=3608, r_ui=4.0, est=3.6838639759209024, details={'was_impossible': False}),\n",
              " Prediction(uid=212, iid=145, r_ui=2.5, est=3.2611952873831394, details={'was_impossible': False}),\n",
              " Prediction(uid=505, iid=141, r_ui=3.0, est=3.188548856243806, details={'was_impossible': False}),\n",
              " Prediction(uid=518, iid=1821, r_ui=4.0, est=3.409411912659997, details={'was_impossible': False}),\n",
              " Prediction(uid=212, iid=32587, r_ui=3.0, est=3.4172111175301088, details={'was_impossible': False}),\n",
              " Prediction(uid=431, iid=2248, r_ui=5.0, est=4.4031398313747125, details={'was_impossible': False}),\n",
              " Prediction(uid=132, iid=27178, r_ui=5.0, est=4.148618717800123, details={'was_impossible': False}),\n",
              " Prediction(uid=111, iid=216, r_ui=2.5, est=3.4256651566354663, details={'was_impossible': False}),\n",
              " Prediction(uid=547, iid=7836, r_ui=5.0, est=2.8766957666124005, details={'was_impossible': False}),\n",
              " Prediction(uid=15, iid=1895, r_ui=2.5, est=2.6287677277365393, details={'was_impossible': False}),\n",
              " Prediction(uid=422, iid=2231, r_ui=4.0, est=3.7683345814210996, details={'was_impossible': False}),\n",
              " Prediction(uid=575, iid=5230, r_ui=4.0, est=3.258925470966984, details={'was_impossible': False}),\n",
              " Prediction(uid=77, iid=1240, r_ui=4.5, est=3.7350087511611756, details={'was_impossible': False}),\n",
              " Prediction(uid=77, iid=2710, r_ui=1.0, est=2.2961837549570308, details={'was_impossible': False}),\n",
              " Prediction(uid=529, iid=306, r_ui=4.0, est=3.814859017326572, details={'was_impossible': False}),\n",
              " Prediction(uid=598, iid=333, r_ui=5.0, est=3.0208379298155825, details={'was_impossible': False}),\n",
              " Prediction(uid=178, iid=67267, r_ui=3.5, est=3.1278629280725525, details={'was_impossible': False}),\n",
              " Prediction(uid=15, iid=380, r_ui=4.0, est=2.0721554885999396, details={'was_impossible': False}),\n",
              " Prediction(uid=306, iid=1387, r_ui=4.0, est=3.69735491681129, details={'was_impossible': False}),\n",
              " Prediction(uid=48, iid=69757, r_ui=4.5, est=3.6889818513785966, details={'was_impossible': False}),\n",
              " Prediction(uid=564, iid=1322, r_ui=3.0, est=3.1770045616795564, details={'was_impossible': False}),\n",
              " Prediction(uid=31, iid=1299, r_ui=4.0, est=4.677565858738738, details={'was_impossible': False}),\n",
              " Prediction(uid=195, iid=2077, r_ui=2.0, est=2.8714571693905606, details={'was_impossible': False}),\n",
              " Prediction(uid=373, iid=1682, r_ui=3.0, est=3.5199587250291917, details={'was_impossible': False}),\n",
              " Prediction(uid=311, iid=945, r_ui=2.0, est=3.556062751143791, details={'was_impossible': False}),\n",
              " Prediction(uid=297, iid=3617, r_ui=2.0, est=3.357795135710482, details={'was_impossible': False}),\n",
              " Prediction(uid=292, iid=1721, r_ui=4.5, est=3.712728211335906, details={'was_impossible': False}),\n",
              " Prediction(uid=261, iid=3793, r_ui=4.0, est=3.7823720379846515, details={'was_impossible': False}),\n",
              " Prediction(uid=15, iid=34319, r_ui=1.0, est=2.296837042864265, details={'was_impossible': False}),\n",
              " Prediction(uid=56, iid=3683, r_ui=4.0, est=3.9607758579245567, details={'was_impossible': False}),\n",
              " Prediction(uid=235, iid=628, r_ui=5.0, est=4.266781604066232, details={'was_impossible': False}),\n",
              " Prediction(uid=19, iid=423, r_ui=3.0, est=3.375013685176445, details={'was_impossible': False}),\n",
              " Prediction(uid=382, iid=150, r_ui=3.0, est=3.223452923252574, details={'was_impossible': False}),\n",
              " Prediction(uid=196, iid=3483, r_ui=3.0, est=3.875795718668565, details={'was_impossible': False}),\n",
              " Prediction(uid=479, iid=1206, r_ui=3.0, est=4.130079962623428, details={'was_impossible': False}),\n",
              " Prediction(uid=155, iid=1193, r_ui=5.0, est=4.306718400042464, details={'was_impossible': False}),\n",
              " Prediction(uid=215, iid=1193, r_ui=5.0, est=4.1142182580847, details={'was_impossible': False}),\n",
              " Prediction(uid=148, iid=3671, r_ui=4.0, est=4.300182302468738, details={'was_impossible': False}),\n",
              " Prediction(uid=105, iid=1580, r_ui=4.0, est=3.4005695835154053, details={'was_impossible': False}),\n",
              " Prediction(uid=22, iid=1263, r_ui=3.0, est=3.8660593427056686, details={'was_impossible': False}),\n",
              " Prediction(uid=564, iid=3545, r_ui=5.0, est=4.04065668133598, details={'was_impossible': False}),\n",
              " Prediction(uid=518, iid=1995, r_ui=3.0, est=3.198888020238752, details={'was_impossible': False}),\n",
              " Prediction(uid=316, iid=8984, r_ui=4.0, est=3.1016045226420235, details={'was_impossible': False}),\n",
              " Prediction(uid=235, iid=2858, r_ui=5.0, est=4.528987871569856, details={'was_impossible': False}),\n",
              " Prediction(uid=426, iid=74530, r_ui=3.5, est=3.4014201725121316, details={'was_impossible': False}),\n",
              " Prediction(uid=463, iid=5970, r_ui=4.0, est=3.6017485504837152, details={'was_impossible': False}),\n",
              " Prediction(uid=345, iid=153, r_ui=2.0, est=3.0629079040703955, details={'was_impossible': False}),\n",
              " Prediction(uid=91, iid=115617, r_ui=5.0, est=4.577222247726583, details={'was_impossible': False}),\n",
              " Prediction(uid=242, iid=1234, r_ui=5.0, est=4.66845152371421, details={'was_impossible': False}),\n",
              " Prediction(uid=68, iid=541, r_ui=3.5, est=4.369996041021623, details={'was_impossible': False}),\n",
              " Prediction(uid=125, iid=8961, r_ui=4.0, est=4.212504985346778, details={'was_impossible': False}),\n",
              " Prediction(uid=247, iid=786, r_ui=4.0, est=3.3202497580664763, details={'was_impossible': False}),\n",
              " Prediction(uid=145, iid=480, r_ui=5.0, est=4.5055621023922, details={'was_impossible': False}),\n",
              " Prediction(uid=385, iid=36, r_ui=4.0, est=3.835831754142974, details={'was_impossible': False}),\n",
              " Prediction(uid=615, iid=5010, r_ui=5.0, est=3.811075629728736, details={'was_impossible': False}),\n",
              " Prediction(uid=342, iid=1103, r_ui=4.0, est=4.049930291777185, details={'was_impossible': False}),\n",
              " Prediction(uid=56, iid=64983, r_ui=2.0, est=3.391523341149383, details={'was_impossible': False}),\n",
              " Prediction(uid=468, iid=72011, r_ui=3.0, est=3.0464415376002694, details={'was_impossible': False}),\n",
              " Prediction(uid=56, iid=148626, r_ui=2.0, est=3.5927763591816033, details={'was_impossible': False}),\n",
              " Prediction(uid=421, iid=589, r_ui=2.0, est=3.7385875752273643, details={'was_impossible': False}),\n",
              " Prediction(uid=577, iid=1196, r_ui=5.0, est=5, details={'was_impossible': False}),\n",
              " Prediction(uid=95, iid=2451, r_ui=4.0, est=3.909125488380635, details={'was_impossible': False}),\n",
              " Prediction(uid=198, iid=3925, r_ui=2.0, est=3.46263509880902, details={'was_impossible': False}),\n",
              " Prediction(uid=220, iid=2110, r_ui=3.0, est=3.042920828014035, details={'was_impossible': False}),\n",
              " Prediction(uid=576, iid=3471, r_ui=4.0, est=3.9508111657554874, details={'was_impossible': False}),\n",
              " Prediction(uid=30, iid=4014, r_ui=5.0, est=4.239192174364348, details={'was_impossible': False}),\n",
              " Prediction(uid=452, iid=413, r_ui=1.0, est=2.0533165543578877, details={'was_impossible': False}),\n",
              " Prediction(uid=297, iid=356, r_ui=4.0, est=4.017261942610635, details={'was_impossible': False}),\n",
              " Prediction(uid=432, iid=1222, r_ui=4.0, est=4.324282565599395, details={'was_impossible': False}),\n",
              " Prediction(uid=471, iid=30825, r_ui=3.0, est=3.500493009144827, details={'was_impossible': False}),\n",
              " Prediction(uid=299, iid=6162, r_ui=1.5, est=4.30266927850255, details={'was_impossible': False}),\n",
              " Prediction(uid=36, iid=334, r_ui=4.0, est=3.6708323416175, details={'was_impossible': False}),\n",
              " Prediction(uid=627, iid=50, r_ui=4.0, est=3.781981121362292, details={'was_impossible': False}),\n",
              " Prediction(uid=197, iid=32, r_ui=3.0, est=4.548305483566848, details={'was_impossible': False}),\n",
              " Prediction(uid=559, iid=926, r_ui=5.0, est=4.944224143255572, details={'was_impossible': False}),\n",
              " Prediction(uid=531, iid=1997, r_ui=0.5, est=3.3095492177591606, details={'was_impossible': False}),\n",
              " Prediction(uid=220, iid=778, r_ui=5.0, est=4.101122315968965, details={'was_impossible': False}),\n",
              " Prediction(uid=73, iid=7318, r_ui=3.0, est=3.2681890379183036, details={'was_impossible': False}),\n",
              " Prediction(uid=472, iid=5018, r_ui=3.0, est=3.552960543007756, details={'was_impossible': False}),\n",
              " Prediction(uid=472, iid=1103, r_ui=4.0, est=3.980247377319665, details={'was_impossible': False}),\n",
              " Prediction(uid=654, iid=2687, r_ui=4.5, est=4.207404286724226, details={'was_impossible': False}),\n",
              " Prediction(uid=547, iid=3292, r_ui=3.5, est=3.2445758218474463, details={'was_impossible': False}),\n",
              " Prediction(uid=407, iid=3241, r_ui=4.0, est=3.920911604595729, details={'was_impossible': False}),\n",
              " Prediction(uid=313, iid=355, r_ui=3.0, est=2.472896258094436, details={'was_impossible': False}),\n",
              " Prediction(uid=580, iid=1200, r_ui=3.5, est=3.7190056229031714, details={'was_impossible': False}),\n",
              " Prediction(uid=500, iid=1197, r_ui=4.0, est=3.4545390322845377, details={'was_impossible': False}),\n",
              " Prediction(uid=388, iid=1376, r_ui=4.0, est=3.753028363129979, details={'was_impossible': False}),\n",
              " Prediction(uid=380, iid=80363, r_ui=3.5, est=3.0958202061407984, details={'was_impossible': False}),\n",
              " Prediction(uid=574, iid=1265, r_ui=4.5, est=3.706873874086502, details={'was_impossible': False}),\n",
              " Prediction(uid=396, iid=275, r_ui=3.0, est=3.277244445094747, details={'was_impossible': False}),\n",
              " Prediction(uid=659, iid=534, r_ui=4.0, est=3.9072887398729903, details={'was_impossible': False}),\n",
              " Prediction(uid=426, iid=55110, r_ui=4.0, est=3.2345593613826398, details={'was_impossible': False}),\n",
              " Prediction(uid=386, iid=111, r_ui=4.0, est=3.4842762746108917, details={'was_impossible': False}),\n",
              " Prediction(uid=520, iid=2762, r_ui=3.5, est=3.80244126703236, details={'was_impossible': False}),\n",
              " Prediction(uid=316, iid=98809, r_ui=4.0, est=3.587603774721991, details={'was_impossible': False}),\n",
              " Prediction(uid=61, iid=58025, r_ui=3.0, est=2.7320364791291016, details={'was_impossible': False}),\n",
              " Prediction(uid=564, iid=87, r_ui=1.0, est=3.379100342204883, details={'was_impossible': False}),\n",
              " Prediction(uid=468, iid=3640, r_ui=3.0, est=2.956992090217856, details={'was_impossible': False}),\n",
              " Prediction(uid=607, iid=6753, r_ui=4.5, est=3.493510695984311, details={'was_impossible': False}),\n",
              " Prediction(uid=558, iid=2664, r_ui=5.0, est=4.357096086543686, details={'was_impossible': False}),\n",
              " Prediction(uid=291, iid=3578, r_ui=4.5, est=4.509491197998267, details={'was_impossible': False}),\n",
              " Prediction(uid=619, iid=208, r_ui=3.0, est=2.766411293683734, details={'was_impossible': False}),\n",
              " Prediction(uid=466, iid=1544, r_ui=3.0, est=2.9170102903744484, details={'was_impossible': False}),\n",
              " Prediction(uid=468, iid=6659, r_ui=2.5, est=2.8583661383597296, details={'was_impossible': False}),\n",
              " Prediction(uid=558, iid=3728, r_ui=5.0, est=4.182959428298277, details={'was_impossible': False}),\n",
              " Prediction(uid=157, iid=31364, r_ui=4.0, est=3.1109957097423, details={'was_impossible': False}),\n",
              " Prediction(uid=386, iid=1967, r_ui=3.0, est=3.168186247550323, details={'was_impossible': False}),\n",
              " Prediction(uid=496, iid=422, r_ui=3.0, est=3.9528981904321343, details={'was_impossible': False}),\n",
              " Prediction(uid=73, iid=435, r_ui=2.5, est=2.2711860572718154, details={'was_impossible': False}),\n",
              " Prediction(uid=562, iid=590, r_ui=4.0, est=3.9999214731424586, details={'was_impossible': False}),\n",
              " Prediction(uid=239, iid=1923, r_ui=4.0, est=3.8432506887553433, details={'was_impossible': False}),\n",
              " Prediction(uid=461, iid=539, r_ui=3.5, est=2.9757757815808343, details={'was_impossible': False}),\n",
              " Prediction(uid=169, iid=5816, r_ui=3.5, est=4.202138972085626, details={'was_impossible': False}),\n",
              " Prediction(uid=157, iid=3793, r_ui=3.5, est=3.185537243560008, details={'was_impossible': False}),\n",
              " Prediction(uid=255, iid=54732, r_ui=4.0, est=3.141571604967457, details={'was_impossible': False}),\n",
              " Prediction(uid=468, iid=2321, r_ui=3.0, est=3.0143434921588637, details={'was_impossible': False}),\n",
              " Prediction(uid=533, iid=509, r_ui=3.0, est=3.9880051685428777, details={'was_impossible': False}),\n",
              " Prediction(uid=30, iid=3167, r_ui=4.0, est=3.919414432900967, details={'was_impossible': False}),\n",
              " Prediction(uid=78, iid=50658, r_ui=5.0, est=4.206848561686677, details={'was_impossible': False}),\n",
              " Prediction(uid=584, iid=60, r_ui=3.5, est=3.017136057000606, details={'was_impossible': False}),\n",
              " Prediction(uid=599, iid=95449, r_ui=4.5, est=3.842698029321689, details={'was_impossible': False}),\n",
              " Prediction(uid=547, iid=99839, r_ui=4.0, est=3.2445758218474463, details={'was_impossible': False}),\n",
              " Prediction(uid=481, iid=89356, r_ui=3.5, est=3.924714066826331, details={'was_impossible': False}),\n",
              " Prediction(uid=216, iid=3421, r_ui=4.0, est=4.423738643077401, details={'was_impossible': False}),\n",
              " Prediction(uid=275, iid=49530, r_ui=4.5, est=4.569873785056584, details={'was_impossible': False}),\n",
              " Prediction(uid=183, iid=2692, r_ui=5.0, est=4.578626973228902, details={'was_impossible': False}),\n",
              " Prediction(uid=15, iid=2572, r_ui=5.0, est=2.2168735625119527, details={'was_impossible': False}),\n",
              " Prediction(uid=382, iid=80551, r_ui=1.0, est=3.0249566777306462, details={'was_impossible': False}),\n",
              " Prediction(uid=360, iid=1358, r_ui=4.0, est=3.8604982687167952, details={'was_impossible': False}),\n",
              " Prediction(uid=408, iid=2136, r_ui=2.0, est=3.3207485839758473, details={'was_impossible': False}),\n",
              " Prediction(uid=4, iid=1030, r_ui=5.0, est=3.692393939474057, details={'was_impossible': False}),\n",
              " Prediction(uid=279, iid=350, r_ui=3.0, est=2.9040310352885754, details={'was_impossible': False}),\n",
              " Prediction(uid=457, iid=79132, r_ui=3.0, est=2.8467751319066465, details={'was_impossible': False}),\n",
              " Prediction(uid=547, iid=2856, r_ui=3.0, est=3.0640336260676415, details={'was_impossible': False}),\n",
              " Prediction(uid=93, iid=4993, r_ui=5.0, est=4.429012096624257, details={'was_impossible': False}),\n",
              " Prediction(uid=653, iid=2103, r_ui=3.0, est=4.061076947482009, details={'was_impossible': False}),\n",
              " Prediction(uid=292, iid=593, r_ui=4.5, est=4.391615624140198, details={'was_impossible': False}),\n",
              " Prediction(uid=558, iid=3801, r_ui=5.0, est=4.334120451605111, details={'was_impossible': False}),\n",
              " Prediction(uid=420, iid=923, r_ui=4.0, est=4.040961809203166, details={'was_impossible': False}),\n",
              " Prediction(uid=200, iid=4018, r_ui=2.0, est=3.430063778573688, details={'was_impossible': False}),\n",
              " Prediction(uid=595, iid=556, r_ui=5.0, est=3.835508625485141, details={'was_impossible': False}),\n",
              " Prediction(uid=298, iid=158956, r_ui=4.0, est=4.485944443972814, details={'was_impossible': False}),\n",
              " Prediction(uid=481, iid=2351, r_ui=4.5, est=3.8337290976479026, details={'was_impossible': False}),\n",
              " Prediction(uid=304, iid=93040, r_ui=5.0, est=3.8013741762231543, details={'was_impossible': False}),\n",
              " Prediction(uid=588, iid=161, r_ui=4.0, est=4.10442484207434, details={'was_impossible': False}),\n",
              " Prediction(uid=320, iid=68237, r_ui=4.0, est=3.7739568362760947, details={'was_impossible': False}),\n",
              " Prediction(uid=157, iid=8985, r_ui=1.0, est=2.4686941586441136, details={'was_impossible': False}),\n",
              " Prediction(uid=353, iid=4148, r_ui=2.5, est=2.421778647575267, details={'was_impossible': False}),\n",
              " Prediction(uid=220, iid=1213, r_ui=5.0, est=4.181587820604644, details={'was_impossible': False}),\n",
              " Prediction(uid=559, iid=2028, r_ui=5.0, est=4.511994209579688, details={'was_impossible': False}),\n",
              " Prediction(uid=415, iid=595, r_ui=3.0, est=3.9361019584299486, details={'was_impossible': False}),\n",
              " Prediction(uid=128, iid=3528, r_ui=4.0, est=3.806778437427042, details={'was_impossible': False}),\n",
              " Prediction(uid=130, iid=1721, r_ui=3.0, est=2.811760803123355, details={'was_impossible': False}),\n",
              " Prediction(uid=486, iid=3462, r_ui=5.0, est=4.196901850299889, details={'was_impossible': False}),\n",
              " Prediction(uid=132, iid=38886, r_ui=4.5, est=4.1788527402984466, details={'was_impossible': False}),\n",
              " Prediction(uid=381, iid=217, r_ui=3.0, est=2.6266748498040284, details={'was_impossible': False}),\n",
              " Prediction(uid=199, iid=8403, r_ui=2.0, est=3.5443918661223766, details={'was_impossible': False}),\n",
              " Prediction(uid=380, iid=7451, r_ui=3.5, est=3.4424149301845928, details={'was_impossible': False}),\n",
              " Prediction(uid=15, iid=46723, r_ui=2.0, est=2.902429711219348, details={'was_impossible': False}),\n",
              " Prediction(uid=442, iid=592, r_ui=4.5, est=4.040098231170216, details={'was_impossible': False}),\n",
              " Prediction(uid=544, iid=8984, r_ui=4.0, est=3.7558266775548366, details={'was_impossible': False}),\n",
              " Prediction(uid=621, iid=920, r_ui=4.5, est=4.095480456449191, details={'was_impossible': False}),\n",
              " Prediction(uid=547, iid=1963, r_ui=4.0, est=3.73477510749653, details={'was_impossible': False}),\n",
              " Prediction(uid=187, iid=1968, r_ui=5.0, est=3.8855781162021747, details={'was_impossible': False}),\n",
              " Prediction(uid=169, iid=2346, r_ui=1.0, est=3.8726794307585335, details={'was_impossible': False}),\n",
              " Prediction(uid=26, iid=4027, r_ui=3.0, est=3.826119987771694, details={'was_impossible': False}),\n",
              " Prediction(uid=388, iid=1393, r_ui=4.0, est=3.884409381274722, details={'was_impossible': False}),\n",
              " Prediction(uid=654, iid=2502, r_ui=4.5, est=4.283194847754967, details={'was_impossible': False}),\n",
              " Prediction(uid=280, iid=17, r_ui=5.0, est=4.402765105543206, details={'was_impossible': False}),\n",
              " Prediction(uid=623, iid=5989, r_ui=4.0, est=4.315019543553717, details={'was_impossible': False}),\n",
              " Prediction(uid=270, iid=86833, r_ui=3.0, est=3.705233049716212, details={'was_impossible': False}),\n",
              " Prediction(uid=73, iid=2422, r_ui=3.0, est=2.7530318736297787, details={'was_impossible': False}),\n",
              " Prediction(uid=585, iid=1914, r_ui=4.0, est=3.8843557828755952, details={'was_impossible': False}),\n",
              " Prediction(uid=562, iid=356, r_ui=4.0, est=4.4699273291795905, details={'was_impossible': False}),\n",
              " Prediction(uid=423, iid=79702, r_ui=3.5, est=3.7376715906154456, details={'was_impossible': False}),\n",
              " Prediction(uid=434, iid=1394, r_ui=4.0, est=4.199851501437201, details={'was_impossible': False}),\n",
              " Prediction(uid=72, iid=51662, r_ui=3.0, est=2.8405659989683536, details={'was_impossible': False}),\n",
              " Prediction(uid=220, iid=1, r_ui=2.0, est=3.9105087816114983, details={'was_impossible': False}),\n",
              " Prediction(uid=56, iid=74416, r_ui=4.0, est=3.1313839206140455, details={'was_impossible': False}),\n",
              " Prediction(uid=187, iid=3101, r_ui=3.5, est=3.71515736973887, details={'was_impossible': False}),\n",
              " Prediction(uid=15, iid=34334, r_ui=1.5, est=1.9975957966055804, details={'was_impossible': False}),\n",
              " Prediction(uid=624, iid=3253, r_ui=4.5, est=2.992116555281116, details={'was_impossible': False}),\n",
              " Prediction(uid=594, iid=2311, r_ui=2.0, est=3.8089140246630038, details={'was_impossible': False}),\n",
              " Prediction(uid=150, iid=1961, r_ui=3.0, est=3.3935199465299606, details={'was_impossible': False}),\n",
              " Prediction(uid=442, iid=500, r_ui=4.5, est=4.165614222412339, details={'was_impossible': False}),\n",
              " Prediction(uid=664, iid=27773, r_ui=3.5, est=4.08714869058205, details={'was_impossible': False}),\n",
              " Prediction(uid=255, iid=923, r_ui=4.5, est=4.346234481783624, details={'was_impossible': False}),\n",
              " Prediction(uid=72, iid=7143, r_ui=3.0, est=3.204749048825889, details={'was_impossible': False}),\n",
              " Prediction(uid=102, iid=1200, r_ui=5.0, est=4.132454536993203, details={'was_impossible': False}),\n",
              " Prediction(uid=547, iid=4999, r_ui=4.0, est=3.5499216600216816, details={'was_impossible': False}),\n",
              " Prediction(uid=472, iid=551, r_ui=5.0, est=4.140911199234232, details={'was_impossible': False}),\n",
              " Prediction(uid=458, iid=165, r_ui=3.5, est=3.318134134016586, details={'was_impossible': False}),\n",
              " Prediction(uid=128, iid=1391, r_ui=2.0, est=3.6988534148904413, details={'was_impossible': False}),\n",
              " Prediction(uid=624, iid=111680, r_ui=1.5, est=2.935905043903082, details={'was_impossible': False}),\n",
              " Prediction(uid=74, iid=2028, r_ui=5.0, est=4.489532634109335, details={'was_impossible': False}),\n",
              " Prediction(uid=575, iid=964, r_ui=3.0, est=3.3083260051227716, details={'was_impossible': False}),\n",
              " Prediction(uid=242, iid=1183, r_ui=5.0, est=4.524796107521898, details={'was_impossible': False}),\n",
              " Prediction(uid=574, iid=1953, r_ui=4.0, est=3.797240735361758, details={'was_impossible': False}),\n",
              " Prediction(uid=119, iid=4292, r_ui=4.0, est=3.8265613665735456, details={'was_impossible': False}),\n",
              " Prediction(uid=172, iid=586, r_ui=4.0, est=3.128404831818632, details={'was_impossible': False}),\n",
              " Prediction(uid=580, iid=56757, r_ui=3.5, est=2.8405592490923786, details={'was_impossible': False}),\n",
              " Prediction(uid=605, iid=2736, r_ui=2.0, est=2.8323913117435104, details={'was_impossible': False}),\n",
              " Prediction(uid=551, iid=1079, r_ui=3.0, est=3.829962455708202, details={'was_impossible': False}),\n",
              " Prediction(uid=12, iid=3865, r_ui=5.0, est=2.616747443714752, details={'was_impossible': False}),\n",
              " Prediction(uid=402, iid=51662, r_ui=3.5, est=3.565228868854132, details={'was_impossible': False}),\n",
              " Prediction(uid=295, iid=3994, r_ui=3.0, est=3.718387024000211, details={'was_impossible': False}),\n",
              " Prediction(uid=344, iid=413, r_ui=4.0, est=2.219057784951182, details={'was_impossible': False}),\n",
              " Prediction(uid=78, iid=4128, r_ui=5.0, est=4.447283852178124, details={'was_impossible': False}),\n",
              " Prediction(uid=30, iid=3354, r_ui=4.0, est=2.520964538980573, details={'was_impossible': False}),\n",
              " Prediction(uid=128, iid=2017, r_ui=5.0, est=3.8637129930873226, details={'was_impossible': False}),\n",
              " Prediction(uid=56, iid=60684, r_ui=2.0, est=3.797240015629216, details={'was_impossible': False}),\n",
              " Prediction(uid=182, iid=261, r_ui=4.0, est=4.014904248964396, details={'was_impossible': False}),\n",
              " Prediction(uid=577, iid=1198, r_ui=5.0, est=4.863328517136888, details={'was_impossible': False}),\n",
              " Prediction(uid=286, iid=3250, r_ui=3.0, est=2.935701082032936, details={'was_impossible': False}),\n",
              " Prediction(uid=86, iid=550, r_ui=4.0, est=3.3812986020755846, details={'was_impossible': False}),\n",
              " Prediction(uid=522, iid=370, r_ui=3.0, est=3.002638738950711, details={'was_impossible': False}),\n",
              " Prediction(uid=534, iid=1615, r_ui=4.0, est=3.665248214211089, details={'was_impossible': False}),\n",
              " Prediction(uid=401, iid=3751, r_ui=4.0, est=4.101929083837878, details={'was_impossible': False}),\n",
              " Prediction(uid=483, iid=541, r_ui=5.0, est=4.009191423562671, details={'was_impossible': False}),\n",
              " Prediction(uid=91, iid=1200, r_ui=4.0, est=4.529490467392029, details={'was_impossible': False}),\n",
              " Prediction(uid=381, iid=2856, r_ui=4.0, est=3.263346110196311, details={'was_impossible': False}),\n",
              " Prediction(uid=62, iid=318, r_ui=3.5, est=4.748117336836564, details={'was_impossible': False}),\n",
              " Prediction(uid=471, iid=2990, r_ui=4.0, est=3.5661945716470185, details={'was_impossible': False}),\n",
              " Prediction(uid=125, iid=57669, r_ui=3.5, est=4.289539637217921, details={'was_impossible': False}),\n",
              " Prediction(uid=429, iid=123, r_ui=4.0, est=2.484005904667031, details={'was_impossible': False}),\n",
              " Prediction(uid=77, iid=8665, r_ui=4.0, est=3.48712052791132, details={'was_impossible': False}),\n",
              " Prediction(uid=418, iid=1032, r_ui=2.0, est=3.798498073079217, details={'was_impossible': False}),\n",
              " Prediction(uid=386, iid=3053, r_ui=4.0, est=2.289531691735077, details={'was_impossible': False}),\n",
              " Prediction(uid=554, iid=4103, r_ui=4.0, est=3.697389332974997, details={'was_impossible': False}),\n",
              " Prediction(uid=102, iid=3093, r_ui=5.0, est=3.4315994483450716, details={'was_impossible': False}),\n",
              " Prediction(uid=468, iid=88, r_ui=1.5, est=2.605515306399313, details={'was_impossible': False}),\n",
              " Prediction(uid=657, iid=608, r_ui=4.0, est=4.06398639677764, details={'was_impossible': False}),\n",
              " Prediction(uid=311, iid=6239, r_ui=3.0, est=3.2584586323682307, details={'was_impossible': False}),\n",
              " Prediction(uid=102, iid=2076, r_ui=5.0, est=4.208655982548354, details={'was_impossible': False}),\n",
              " Prediction(uid=281, iid=480, r_ui=4.0, est=3.8337523136731604, details={'was_impossible': False}),\n",
              " Prediction(uid=316, iid=5816, r_ui=4.0, est=3.5966662760055335, details={'was_impossible': False}),\n",
              " Prediction(uid=95, iid=3441, r_ui=3.0, est=3.4936877054928983, details={'was_impossible': False}),\n",
              " Prediction(uid=205, iid=42723, r_ui=0.5, est=3.276369133071148, details={'was_impossible': False}),\n",
              " Prediction(uid=251, iid=1196, r_ui=4.5, est=4.749368454169627, details={'was_impossible': False}),\n",
              " Prediction(uid=615, iid=79702, r_ui=4.5, est=3.8218280367217115, details={'was_impossible': False}),\n",
              " Prediction(uid=641, iid=588, r_ui=4.0, est=4.154015440052285, details={'was_impossible': False}),\n",
              " Prediction(uid=311, iid=83, r_ui=3.0, est=3.0026661184231367, details={'was_impossible': False}),\n",
              " Prediction(uid=388, iid=1610, r_ui=5.0, est=3.9999855604742534, details={'was_impossible': False}),\n",
              " Prediction(uid=626, iid=2840, r_ui=2.0, est=3.258005380282851, details={'was_impossible': False}),\n",
              " Prediction(uid=472, iid=1965, r_ui=4.0, est=3.696676929704969, details={'was_impossible': False}),\n",
              " Prediction(uid=505, iid=1732, r_ui=2.0, est=3.5630836281915395, details={'was_impossible': False}),\n",
              " Prediction(uid=213, iid=1573, r_ui=1.0, est=2.9910364466470805, details={'was_impossible': False}),\n",
              " Prediction(uid=311, iid=1091, r_ui=2.0, est=2.1603237937530553, details={'was_impossible': False}),\n",
              " Prediction(uid=457, iid=81591, r_ui=4.5, est=2.8830945407858293, details={'was_impossible': False}),\n",
              " Prediction(uid=245, iid=4995, r_ui=4.0, est=4.066761165457022, details={'was_impossible': False}),\n",
              " Prediction(uid=272, iid=3793, r_ui=4.0, est=3.726073602410455, details={'was_impossible': False}),\n",
              " Prediction(uid=176, iid=344, r_ui=2.0, est=2.1020732130751356, details={'was_impossible': False}),\n",
              " Prediction(uid=358, iid=908, r_ui=5.0, est=3.847757591444671, details={'was_impossible': False}),\n",
              " Prediction(uid=510, iid=1198, r_ui=3.0, est=3.3922238334811103, details={'was_impossible': False}),\n",
              " Prediction(uid=152, iid=8368, r_ui=4.0, est=3.360582781978342, details={'was_impossible': False}),\n",
              " Prediction(uid=152, iid=7153, r_ui=4.0, est=3.4598467892739153, details={'was_impossible': False}),\n",
              " Prediction(uid=294, iid=3791, r_ui=4.5, est=3.675034830763028, details={'was_impossible': False}),\n",
              " Prediction(uid=185, iid=1917, r_ui=5.0, est=3.1563212358434742, details={'was_impossible': False}),\n",
              " Prediction(uid=242, iid=463, r_ui=4.0, est=4.224042171932375, details={'was_impossible': False}),\n",
              " Prediction(uid=452, iid=3105, r_ui=4.0, est=3.222242928978997, details={'was_impossible': False}),\n",
              " Prediction(uid=412, iid=1704, r_ui=3.0, est=3.4594231487341474, details={'was_impossible': False}),\n",
              " Prediction(uid=519, iid=5673, r_ui=4.0, est=4.098003501245532, details={'was_impossible': False}),\n",
              " Prediction(uid=616, iid=724, r_ui=3.0, est=3.147286036219333, details={'was_impossible': False}),\n",
              " Prediction(uid=242, iid=2146, r_ui=4.0, est=4.218083551897496, details={'was_impossible': False}),\n",
              " Prediction(uid=165, iid=3793, r_ui=4.0, est=2.913564163430089, details={'was_impossible': False}),\n",
              " Prediction(uid=48, iid=69122, r_ui=4.5, est=3.5000673555464314, details={'was_impossible': False}),\n",
              " Prediction(uid=492, iid=1719, r_ui=3.0, est=4.052786777997846, details={'was_impossible': False}),\n",
              " Prediction(uid=199, iid=69278, r_ui=3.5, est=3.630431939332523, details={'was_impossible': False}),\n",
              " Prediction(uid=324, iid=7361, r_ui=4.0, est=4.05955440333085, details={'was_impossible': False}),\n",
              " Prediction(uid=529, iid=1954, r_ui=2.0, est=3.340518033880423, details={'was_impossible': False}),\n",
              " Prediction(uid=367, iid=1005, r_ui=3.0, est=2.975746364577384, details={'was_impossible': False}),\n",
              " Prediction(uid=432, iid=2683, r_ui=4.5, est=3.716568260329796, details={'was_impossible': False}),\n",
              " Prediction(uid=378, iid=76251, r_ui=3.0, est=3.760527483847707, details={'was_impossible': False}),\n",
              " Prediction(uid=558, iid=648, r_ui=4.0, est=4.306164724872416, details={'was_impossible': False}),\n",
              " Prediction(uid=304, iid=5995, r_ui=1.5, est=4.263042013454917, details={'was_impossible': False}),\n",
              " Prediction(uid=48, iid=71468, r_ui=3.0, est=3.373184018101158, details={'was_impossible': False}),\n",
              " Prediction(uid=232, iid=2105, r_ui=5.0, est=3.6313515217498, details={'was_impossible': False}),\n",
              " Prediction(uid=17, iid=8958, r_ui=5.0, est=4.0144675030622015, details={'was_impossible': False}),\n",
              " Prediction(uid=362, iid=33794, r_ui=4.0, est=3.8531756400555204, details={'was_impossible': False}),\n",
              " Prediction(uid=204, iid=8751, r_ui=5.0, est=3.229881960343453, details={'was_impossible': False}),\n",
              " Prediction(uid=212, iid=4103, r_ui=3.5, est=3.2417824502870007, details={'was_impossible': False}),\n",
              " Prediction(uid=452, iid=3449, r_ui=3.0, est=3.113536016683593, details={'was_impossible': False}),\n",
              " Prediction(uid=118, iid=1219, r_ui=5.0, est=4.585205786284914, details={'was_impossible': False}),\n",
              " Prediction(uid=311, iid=1079, r_ui=3.0, est=3.36397841142037, details={'was_impossible': False}),\n",
              " Prediction(uid=648, iid=852, r_ui=3.0, est=3.142070040186295, details={'was_impossible': False}),\n",
              " Prediction(uid=231, iid=111, r_ui=4.0, est=4.410233220604518, details={'was_impossible': False}),\n",
              " Prediction(uid=213, iid=4756, r_ui=2.5, est=2.386282540011096, details={'was_impossible': False}),\n",
              " Prediction(uid=208, iid=106916, r_ui=4.0, est=3.7960456123812962, details={'was_impossible': False}),\n",
              " Prediction(uid=118, iid=905, r_ui=5.0, est=4.217068630666701, details={'was_impossible': False}),\n",
              " Prediction(uid=353, iid=4238, r_ui=3.0, est=2.571738795538832, details={'was_impossible': False}),\n",
              " Prediction(uid=475, iid=7164, r_ui=1.5, est=3.2377897592733245, details={'was_impossible': False}),\n",
              " Prediction(uid=37, iid=364, r_ui=5.0, est=4.088856010512797, details={'was_impossible': False}),\n",
              " Prediction(uid=512, iid=2424, r_ui=4.0, est=3.592360570723355, details={'was_impossible': False}),\n",
              " Prediction(uid=509, iid=1179, r_ui=3.0, est=3.539139666506078, details={'was_impossible': False}),\n",
              " Prediction(uid=195, iid=1394, r_ui=4.0, est=3.4088296275730166, details={'was_impossible': False}),\n",
              " Prediction(uid=73, iid=608, r_ui=4.0, est=4.419915915333945, details={'was_impossible': False}),\n",
              " Prediction(uid=389, iid=110, r_ui=5.0, est=3.8345679744629515, details={'was_impossible': False}),\n",
              " Prediction(uid=371, iid=142448, r_ui=4.0, est=3.7482944630345743, details={'was_impossible': False}),\n",
              " Prediction(uid=427, iid=5074, r_ui=4.0, est=4.014125199412317, details={'was_impossible': False}),\n",
              " Prediction(uid=468, iid=432, r_ui=2.5, est=1.9239580161769767, details={'was_impossible': False}),\n",
              " Prediction(uid=380, iid=71535, r_ui=4.5, est=3.482642280580933, details={'was_impossible': False}),\n",
              " Prediction(uid=381, iid=1488, r_ui=3.0, est=2.9452309705199675, details={'was_impossible': False}),\n",
              " Prediction(uid=580, iid=7099, r_ui=3.5, est=3.350120877611764, details={'was_impossible': False}),\n",
              " Prediction(uid=251, iid=110, r_ui=4.0, est=4.731550621864953, details={'was_impossible': False}),\n",
              " Prediction(uid=564, iid=1917, r_ui=1.0, est=3.42994325834849, details={'was_impossible': False}),\n",
              " Prediction(uid=63, iid=2268, r_ui=4.0, est=3.793048855094276, details={'was_impossible': False}),\n",
              " Prediction(uid=295, iid=2302, r_ui=5.0, est=3.852351507197522, details={'was_impossible': False}),\n",
              " Prediction(uid=15, iid=99149, r_ui=1.0, est=2.4502740989125074, details={'was_impossible': False}),\n",
              " Prediction(uid=457, iid=332, r_ui=2.0, est=2.407816508289364, details={'was_impossible': False}),\n",
              " Prediction(uid=353, iid=6323, r_ui=3.0, est=2.717374143987142, details={'was_impossible': False}),\n",
              " Prediction(uid=417, iid=6663, r_ui=4.0, est=3.694606640314341, details={'was_impossible': False}),\n",
              " Prediction(uid=596, iid=32, r_ui=5.0, est=3.9526653101398086, details={'was_impossible': False}),\n",
              " Prediction(uid=611, iid=162542, r_ui=5.0, est=3.4440902714360124, details={'was_impossible': False}),\n",
              " Prediction(uid=195, iid=2719, r_ui=2.0, est=2.0788910847800155, details={'was_impossible': False}),\n",
              " Prediction(uid=231, iid=357, r_ui=4.0, est=3.9074640890890584, details={'was_impossible': False}),\n",
              " Prediction(uid=598, iid=2087, r_ui=4.0, est=3.5294138629869405, details={'was_impossible': False}),\n",
              " Prediction(uid=2, iid=382, r_ui=3.0, est=2.9257538014894697, details={'was_impossible': False}),\n",
              " Prediction(uid=273, iid=91500, r_ui=5.0, est=3.8689486752432076, details={'was_impossible': False}),\n",
              " Prediction(uid=125, iid=68157, r_ui=5.0, est=4.402399739543334, details={'was_impossible': False}),\n",
              " Prediction(uid=30, iid=1923, r_ui=4.0, est=4.01880027849099, details={'was_impossible': False}),\n",
              " Prediction(uid=547, iid=51080, r_ui=3.5, est=3.587902804021466, details={'was_impossible': False}),\n",
              " Prediction(uid=212, iid=2455, r_ui=2.0, est=2.901773479029452, details={'was_impossible': False}),\n",
              " Prediction(uid=214, iid=2064, r_ui=4.0, est=4.491925709884646, details={'was_impossible': False}),\n",
              " Prediction(uid=73, iid=7293, r_ui=3.5, est=3.2417100968574495, details={'was_impossible': False}),\n",
              " Prediction(uid=250, iid=47099, r_ui=4.5, est=4.2038478022845105, details={'was_impossible': False}),\n",
              " Prediction(uid=15, iid=88744, r_ui=4.5, est=2.750427677160883, details={'was_impossible': False}),\n",
              " Prediction(uid=624, iid=2942, r_ui=2.0, est=2.5322202740344517, details={'was_impossible': False}),\n",
              " Prediction(uid=646, iid=2431, r_ui=5.0, est=3.8318985327510404, details={'was_impossible': False}),\n",
              " Prediction(uid=159, iid=1580, r_ui=3.5, est=3.560191599002555, details={'was_impossible': False}),\n",
              " Prediction(uid=412, iid=2719, r_ui=2.0, est=2.5832860246791265, details={'was_impossible': False}),\n",
              " Prediction(uid=605, iid=1888, r_ui=2.0, est=2.955603400473744, details={'was_impossible': False}),\n",
              " Prediction(uid=353, iid=2542, r_ui=3.5, est=3.1784437640406162, details={'was_impossible': False}),\n",
              " Prediction(uid=562, iid=44191, r_ui=4.0, est=4.434525181350099, details={'was_impossible': False}),\n",
              " Prediction(uid=580, iid=71156, r_ui=4.0, est=3.206451197978366, details={'was_impossible': False}),\n",
              " Prediction(uid=187, iid=6659, r_ui=3.0, est=4.009173167163247, details={'was_impossible': False}),\n",
              " Prediction(uid=462, iid=3977, r_ui=3.0, est=2.8284288195587832, details={'was_impossible': False}),\n",
              " Prediction(uid=102, iid=3529, r_ui=4.0, est=3.3610518651523233, details={'was_impossible': False}),\n",
              " Prediction(uid=580, iid=1485, r_ui=3.5, est=2.875424734934834, details={'was_impossible': False}),\n",
              " Prediction(uid=596, iid=3681, r_ui=3.5, est=3.771062933043811, details={'was_impossible': False}),\n",
              " Prediction(uid=353, iid=6213, r_ui=2.0, est=2.685647535989355, details={'was_impossible': False}),\n",
              " Prediction(uid=219, iid=260, r_ui=3.0, est=4.051830265233934, details={'was_impossible': False}),\n",
              " Prediction(uid=391, iid=280, r_ui=4.0, est=3.698757802233891, details={'was_impossible': False}),\n",
              " Prediction(uid=624, iid=1193, r_ui=5.0, est=4.282428600487552, details={'was_impossible': False}),\n",
              " Prediction(uid=316, iid=129428, r_ui=3.5, est=3.5446580358141384, details={'was_impossible': False}),\n",
              " Prediction(uid=95, iid=1983, r_ui=3.0, est=3.894563325853418, details={'was_impossible': False}),\n",
              " Prediction(uid=164, iid=1206, r_ui=5.0, est=3.783977222105162, details={'was_impossible': False}),\n",
              " Prediction(uid=17, iid=2600, r_ui=5.0, est=3.1222981034460213, details={'was_impossible': False}),\n",
              " Prediction(uid=195, iid=3643, r_ui=3.0, est=2.674347138596831, details={'was_impossible': False}),\n",
              " Prediction(uid=213, iid=2701, r_ui=2.0, est=2.0070554516845527, details={'was_impossible': False}),\n",
              " Prediction(uid=472, iid=1259, r_ui=4.0, est=4.222235033346445, details={'was_impossible': False}),\n",
              " Prediction(uid=575, iid=4039, r_ui=3.0, est=3.229621808637389, details={'was_impossible': False}),\n",
              " Prediction(uid=654, iid=3300, r_ui=2.5, est=3.92215514537783, details={'was_impossible': False}),\n",
              " Prediction(uid=119, iid=1059, r_ui=2.0, est=3.7264175608772696, details={'was_impossible': False}),\n",
              " Prediction(uid=299, iid=2174, r_ui=4.5, est=3.7899644341272296, details={'was_impossible': False}),\n",
              " Prediction(uid=441, iid=1262, r_ui=4.0, est=4.074792567287143, details={'was_impossible': False}),\n",
              " Prediction(uid=468, iid=2, r_ui=2.0, est=2.7268653448956677, details={'was_impossible': False}),\n",
              " Prediction(uid=547, iid=106332, r_ui=3.5, est=3.1629985637397744, details={'was_impossible': False}),\n",
              " Prediction(uid=667, iid=590, r_ui=3.0, est=3.973298002695212, details={'was_impossible': False}),\n",
              " Prediction(uid=254, iid=610, r_ui=4.0, est=3.218952468193172, details={'was_impossible': False}),\n",
              " Prediction(uid=292, iid=589, r_ui=4.0, est=4.381584941461917, details={'was_impossible': False}),\n",
              " Prediction(uid=267, iid=4878, r_ui=4.0, est=4.154322485907519, details={'was_impossible': False}),\n",
              " Prediction(uid=15, iid=138036, r_ui=1.0, est=2.435655655036961, details={'was_impossible': False}),\n",
              " Prediction(uid=642, iid=457, r_ui=2.0, est=3.955877489506431, details={'was_impossible': False}),\n",
              " Prediction(uid=499, iid=1197, r_ui=4.0, est=4.445083962430286, details={'was_impossible': False}),\n",
              " Prediction(uid=196, iid=2076, r_ui=4.0, est=4.021022791573602, details={'was_impossible': False}),\n",
              " Prediction(uid=585, iid=3341, r_ui=5.0, est=4.164278553980079, details={'was_impossible': False}),\n",
              " Prediction(uid=624, iid=4901, r_ui=2.5, est=3.6230520236899304, details={'was_impossible': False}),\n",
              " Prediction(uid=468, iid=7062, r_ui=3.0, est=2.8554465486996943, details={'was_impossible': False}),\n",
              " Prediction(uid=23, iid=6599, r_ui=3.5, est=3.4552986286730145, details={'was_impossible': False}),\n",
              " Prediction(uid=190, iid=2858, r_ui=4.0, est=4.525587492241654, details={'was_impossible': False}),\n",
              " Prediction(uid=134, iid=71535, r_ui=5.0, est=3.957754227540137, details={'was_impossible': False}),\n",
              " Prediction(uid=77, iid=4306, r_ui=3.5, est=3.647250769794756, details={'was_impossible': False}),\n",
              " Prediction(uid=554, iid=858, r_ui=5.0, est=4.257529455301916, details={'was_impossible': False}),\n",
              " Prediction(uid=73, iid=5014, r_ui=4.5, est=3.3125780167163263, details={'was_impossible': False}),\n",
              " Prediction(uid=5, iid=1247, r_ui=4.0, est=4.450996093207664, details={'was_impossible': False}),\n",
              " Prediction(uid=247, iid=1356, r_ui=4.0, est=3.9837588315846335, details={'was_impossible': False}),\n",
              " Prediction(uid=518, iid=628, r_ui=4.0, est=3.4900593313149226, details={'was_impossible': False}),\n",
              " Prediction(uid=624, iid=60756, r_ui=3.0, est=3.6220932202525162, details={'was_impossible': False}),\n",
              " Prediction(uid=212, iid=4558, r_ui=1.0, est=2.9880622082093637, details={'was_impossible': False}),\n",
              " Prediction(uid=514, iid=231, r_ui=2.0, est=3.4827956181848485, details={'was_impossible': False}),\n",
              " Prediction(uid=416, iid=11, r_ui=4.0, est=3.6274206503711195, details={'was_impossible': False}),\n",
              " Prediction(uid=607, iid=1027, r_ui=4.0, est=3.121608172233191, details={'was_impossible': False}),\n",
              " Prediction(uid=73, iid=2710, r_ui=3.5, est=2.7714687601791717, details={'was_impossible': False}),\n",
              " Prediction(uid=574, iid=293, r_ui=5.0, est=3.9924666936033777, details={'was_impossible': False}),\n",
              " Prediction(uid=61, iid=5618, r_ui=5.0, est=4.116024460815268, details={'was_impossible': False}),\n",
              " Prediction(uid=596, iid=316, r_ui=3.5, est=3.3365369414419335, details={'was_impossible': False}),\n",
              " Prediction(uid=15, iid=1264, r_ui=3.0, est=2.7559019873680395, details={'was_impossible': False}),\n",
              " Prediction(uid=15, iid=2699, r_ui=3.0, est=2.532023241789473, details={'was_impossible': False}),\n",
              " Prediction(uid=475, iid=49274, r_ui=1.0, est=3.046491410740471, details={'was_impossible': False}),\n",
              " Prediction(uid=308, iid=266, r_ui=5.0, est=3.919913615418712, details={'was_impossible': False}),\n",
              " Prediction(uid=568, iid=253, r_ui=3.0, est=3.80977670769187, details={'was_impossible': False}),\n",
              " Prediction(uid=479, iid=8622, r_ui=4.0, est=3.87387859853583, details={'was_impossible': False}),\n",
              " Prediction(uid=414, iid=4181, r_ui=4.0, est=2.6906944805526916, details={'was_impossible': False}),\n",
              " Prediction(uid=586, iid=1, r_ui=4.0, est=3.6488179700629813, details={'was_impossible': False}),\n",
              " Prediction(uid=33, iid=5015, r_ui=4.0, est=3.1350840022011615, details={'was_impossible': False}),\n",
              " Prediction(uid=105, iid=2020, r_ui=4.0, est=3.547673951344894, details={'was_impossible': False}),\n",
              " Prediction(uid=355, iid=1090, r_ui=4.0, est=3.9322594237790107, details={'was_impossible': False}),\n",
              " Prediction(uid=585, iid=901, r_ui=4.0, est=4.020004802762968, details={'was_impossible': False}),\n",
              " Prediction(uid=667, iid=307, r_ui=5.0, est=4.032552044783924, details={'was_impossible': False}),\n",
              " Prediction(uid=285, iid=2997, r_ui=5.0, est=3.7086095164061885, details={'was_impossible': False}),\n",
              " Prediction(uid=102, iid=1333, r_ui=5.0, est=4.16207605069399, details={'was_impossible': False}),\n",
              " Prediction(uid=381, iid=207, r_ui=4.0, est=2.785236640367444, details={'was_impossible': False}),\n",
              " Prediction(uid=431, iid=6953, r_ui=4.0, est=3.898355985379337, details={'was_impossible': False}),\n",
              " Prediction(uid=382, iid=61123, r_ui=3.0, est=2.831260224423105, details={'was_impossible': False}),\n",
              " Prediction(uid=312, iid=1193, r_ui=4.0, est=3.9711205332156423, details={'was_impossible': False}),\n",
              " Prediction(uid=624, iid=2412, r_ui=2.0, est=2.708700918023645, details={'was_impossible': False}),\n",
              " Prediction(uid=629, iid=589, r_ui=1.0, est=3.8967831063853873, details={'was_impossible': False}),\n",
              " Prediction(uid=157, iid=5952, r_ui=3.5, est=3.8538662341498684, details={'was_impossible': False}),\n",
              " Prediction(uid=468, iid=5941, r_ui=1.5, est=2.68031794763032, details={'was_impossible': False}),\n",
              " Prediction(uid=15, iid=3983, r_ui=5.0, est=3.3436398001605587, details={'was_impossible': False}),\n",
              " Prediction(uid=652, iid=1603, r_ui=4.0, est=3.7208123775380435, details={'was_impossible': False}),\n",
              " Prediction(uid=78, iid=4370, r_ui=4.5, est=3.947075806656991, details={'was_impossible': False}),\n",
              " Prediction(uid=128, iid=1717, r_ui=2.0, est=3.8158067546526513, details={'was_impossible': False}),\n",
              " Prediction(uid=349, iid=3996, r_ui=4.0, est=3.9549549887677533, details={'was_impossible': False}),\n",
              " Prediction(uid=534, iid=356, r_ui=4.0, est=4.408864786494223, details={'was_impossible': False}),\n",
              " Prediction(uid=262, iid=3742, r_ui=2.0, est=3.0705517279944097, details={'was_impossible': False}),\n",
              " Prediction(uid=647, iid=161, r_ui=3.0, est=4.630863961932992, details={'was_impossible': False}),\n",
              " Prediction(uid=348, iid=3504, r_ui=5.0, est=3.578142342983775, details={'was_impossible': False}),\n",
              " Prediction(uid=102, iid=3550, r_ui=5.0, est=3.632932606604283, details={'was_impossible': False}),\n",
              " Prediction(uid=137, iid=5060, r_ui=4.0, est=3.452529901911822, details={'was_impossible': False}),\n",
              " Prediction(uid=311, iid=6446, r_ui=3.5, est=3.0026661184231367, details={'was_impossible': False}),\n",
              " Prediction(uid=78, iid=296, r_ui=4.5, est=4.574844660161646, details={'was_impossible': False}),\n",
              " Prediction(uid=392, iid=2858, r_ui=4.0, est=3.3723494915593415, details={'was_impossible': False}),\n",
              " Prediction(uid=547, iid=6867, r_ui=4.0, est=3.01881993660633, details={'was_impossible': False}),\n",
              " Prediction(uid=200, iid=110, r_ui=3.5, est=3.920959555094827, details={'was_impossible': False}),\n",
              " Prediction(uid=544, iid=8638, r_ui=4.5, est=4.56083416999622, details={'was_impossible': False}),\n",
              " Prediction(uid=243, iid=1350, r_ui=4.0, est=3.491774783128262, details={'was_impossible': False}),\n",
              " Prediction(uid=431, iid=432, r_ui=3.0, est=3.104862459235342, details={'was_impossible': False}),\n",
              " Prediction(uid=547, iid=373, r_ui=3.0, est=3.6145591811065843, details={'was_impossible': False}),\n",
              " Prediction(uid=277, iid=122882, r_ui=5.0, est=3.8509533724065013, details={'was_impossible': False}),\n",
              " Prediction(uid=647, iid=2349, r_ui=4.0, est=4.371617437722544, details={'was_impossible': False}),\n",
              " Prediction(uid=529, iid=1282, r_ui=3.0, est=4.19454854519343, details={'was_impossible': False}),\n",
              " Prediction(uid=596, iid=535, r_ui=4.0, est=4.22380334140422, details={'was_impossible': False}),\n",
              " Prediction(uid=564, iid=596, r_ui=4.0, est=3.874682502921732, details={'was_impossible': False}),\n",
              " Prediction(uid=503, iid=97913, r_ui=4.0, est=3.413062991422071, details={'was_impossible': False}),\n",
              " Prediction(uid=47, iid=150, r_ui=4.0, est=4.183840969348897, details={'was_impossible': False}),\n",
              " Prediction(uid=609, iid=1902, r_ui=1.0, est=1.8659284087545756, details={'was_impossible': False}),\n",
              " Prediction(uid=620, iid=6593, r_ui=2.5, est=2.240866066498684, details={'was_impossible': False}),\n",
              " Prediction(uid=185, iid=4993, r_ui=5.0, est=4.103812515003714, details={'was_impossible': False}),\n",
              " Prediction(uid=162, iid=648, r_ui=3.0, est=3.4271061162341008, details={'was_impossible': False}),\n",
              " Prediction(uid=77, iid=173, r_ui=2.5, est=2.335050432354241, details={'was_impossible': False}),\n",
              " Prediction(uid=176, iid=3825, r_ui=2.5, est=2.822578612405098, details={'was_impossible': False}),\n",
              " Prediction(uid=514, iid=151, r_ui=4.0, est=3.5112843995287943, details={'was_impossible': False}),\n",
              " Prediction(uid=580, iid=2571, r_ui=4.5, est=3.8666788337069473, details={'was_impossible': False}),\n",
              " Prediction(uid=594, iid=2571, r_ui=3.0, est=4.9067373183423735, details={'was_impossible': False}),\n",
              " Prediction(uid=176, iid=69275, r_ui=1.5, est=2.72730240591102, details={'was_impossible': False}),\n",
              " Prediction(uid=475, iid=6564, r_ui=1.0, est=2.0620267448117087, details={'was_impossible': False}),\n",
              " Prediction(uid=86, iid=828, r_ui=3.0, est=3.746777056918878, details={'was_impossible': False}),\n",
              " Prediction(uid=353, iid=42002, r_ui=1.0, est=2.535425394653028, details={'was_impossible': False}),\n",
              " Prediction(uid=26, iid=48774, r_ui=3.0, est=3.05437367225467, details={'was_impossible': False}),\n",
              " Prediction(uid=104, iid=293, r_ui=4.5, est=4.3543959683462345, details={'was_impossible': False}),\n",
              " Prediction(uid=405, iid=2151, r_ui=4.0, est=3.5358916813184984, details={'was_impossible': False}),\n",
              " Prediction(uid=467, iid=155, r_ui=3.0, est=3.547742687824769, details={'was_impossible': False}),\n",
              " Prediction(uid=57, iid=1286, r_ui=5.0, est=4.073026395726441, details={'was_impossible': False}),\n",
              " Prediction(uid=312, iid=25, r_ui=4.0, est=3.311820319648515, details={'was_impossible': False}),\n",
              " Prediction(uid=72, iid=541, r_ui=4.0, est=3.604879721301115, details={'was_impossible': False}),\n",
              " Prediction(uid=406, iid=4329, r_ui=4.5, est=3.9783681624458342, details={'was_impossible': False}),\n",
              " Prediction(uid=564, iid=1629, r_ui=5.0, est=2.998464068752433, details={'was_impossible': False}),\n",
              " Prediction(uid=605, iid=1644, r_ui=2.0, est=2.6065851985053534, details={'was_impossible': False}),\n",
              " Prediction(uid=346, iid=4963, r_ui=4.0, est=3.9383323109610298, details={'was_impossible': False}),\n",
              " Prediction(uid=527, iid=1307, r_ui=3.0, est=3.477940649084768, details={'was_impossible': False}),\n",
              " Prediction(uid=564, iid=3676, r_ui=4.0, est=3.5314844180201903, details={'was_impossible': False}),\n",
              " Prediction(uid=294, iid=1136, r_ui=4.5, est=4.223922836057685, details={'was_impossible': False}),\n",
              " Prediction(uid=472, iid=3100, r_ui=3.0, est=3.735005921621604, details={'was_impossible': False}),\n",
              " Prediction(uid=408, iid=342, r_ui=3.0, est=3.8978407521372267, details={'was_impossible': False}),\n",
              " Prediction(uid=564, iid=315, r_ui=1.0, est=2.6663542800359346, details={'was_impossible': False}),\n",
              " Prediction(uid=597, iid=2527, r_ui=3.0, est=3.636752776286177, details={'was_impossible': False}),\n",
              " Prediction(uid=575, iid=2431, r_ui=2.0, est=2.809637987450492, details={'was_impossible': False}),\n",
              " Prediction(uid=23, iid=3681, r_ui=3.5, est=3.733380637974894, details={'was_impossible': False}),\n",
              " Prediction(uid=592, iid=165, r_ui=5.0, est=3.712634451546455, details={'was_impossible': False}),\n",
              " Prediction(uid=472, iid=899, r_ui=4.0, est=4.219957863456773, details={'was_impossible': False}),\n",
              " Prediction(uid=587, iid=1945, r_ui=4.0, est=4.372523651057062, details={'was_impossible': False}),\n",
              " Prediction(uid=44, iid=3, r_ui=5.0, est=3.0505368186514836, details={'was_impossible': False}),\n",
              " Prediction(uid=569, iid=1358, r_ui=5.0, est=4.226155092886823, details={'was_impossible': False}),\n",
              " Prediction(uid=624, iid=125916, r_ui=0.5, est=2.935905043903082, details={'was_impossible': False}),\n",
              " Prediction(uid=291, iid=1242, r_ui=5.0, est=4.326622371396783, details={'was_impossible': False}),\n",
              " Prediction(uid=353, iid=33834, r_ui=2.5, est=2.57018473362946, details={'was_impossible': False}),\n",
              " Prediction(uid=388, iid=3052, r_ui=3.0, est=3.3192388442289804, details={'was_impossible': False}),\n",
              " Prediction(uid=564, iid=1572, r_ui=3.0, est=4.159803540485342, details={'was_impossible': False}),\n",
              " Prediction(uid=96, iid=56367, r_ui=3.5, est=4.199133432836046, details={'was_impossible': False}),\n",
              " Prediction(uid=505, iid=3435, r_ui=3.0, est=3.700621710317629, details={'was_impossible': False}),\n",
              " Prediction(uid=295, iid=628, r_ui=4.0, est=4.107162632227329, details={'was_impossible': False}),\n",
              " Prediction(uid=19, iid=1210, r_ui=4.0, est=4.153404599480096, details={'was_impossible': False}),\n",
              " Prediction(uid=385, iid=344, r_ui=2.0, est=2.7480055557941214, details={'was_impossible': False}),\n",
              " Prediction(uid=177, iid=1661, r_ui=5.0, est=3.9593084913698817, details={'was_impossible': False}),\n",
              " Prediction(uid=472, iid=905, r_ui=4.0, est=4.339564209811327, details={'was_impossible': False}),\n",
              " Prediction(uid=73, iid=3704, r_ui=3.5, est=3.2009557231326156, details={'was_impossible': False}),\n",
              " Prediction(uid=236, iid=5613, r_ui=3.0, est=3.764349474438229, details={'was_impossible': False}),\n",
              " Prediction(uid=67, iid=595, r_ui=4.0, est=4.012081174246859, details={'was_impossible': False}),\n",
              " Prediction(uid=15, iid=7147, r_ui=1.5, est=3.131605376307494, details={'was_impossible': False}),\n",
              " Prediction(uid=48, iid=1591, r_ui=3.0, est=2.7881125746372226, details={'was_impossible': False}),\n",
              " Prediction(uid=564, iid=691, r_ui=4.0, est=2.797942010547867, details={'was_impossible': False}),\n",
              " Prediction(uid=73, iid=4701, r_ui=3.0, est=3.184333909069261, details={'was_impossible': False}),\n",
              " Prediction(uid=21, iid=344, r_ui=3.0, est=2.9268824952447168, details={'was_impossible': False}),\n",
              " Prediction(uid=30, iid=1082, r_ui=4.0, est=3.755123195010643, details={'was_impossible': False}),\n",
              " Prediction(uid=287, iid=55768, r_ui=3.0, est=4.620201858622121, details={'was_impossible': False}),\n",
              " Prediction(uid=624, iid=94011, r_ui=1.5, est=2.935905043903082, details={'was_impossible': False}),\n",
              " Prediction(uid=126, iid=362, r_ui=3.0, est=3.649717727565209, details={'was_impossible': False}),\n",
              " Prediction(uid=159, iid=3836, r_ui=4.0, est=3.4362918296508833, details={'was_impossible': False}),\n",
              " Prediction(uid=550, iid=2002, r_ui=2.0, est=3.0362450437626682, details={'was_impossible': False}),\n",
              " Prediction(uid=547, iid=160656, r_ui=3.5, est=3.2445758218474463, details={'was_impossible': False}),\n",
              " Prediction(uid=157, iid=1258, r_ui=4.0, est=3.9685592619481724, details={'was_impossible': False}),\n",
              " Prediction(uid=487, iid=376, r_ui=3.0, est=3.6045127970970983, details={'was_impossible': False}),\n",
              " Prediction(uid=593, iid=10, r_ui=2.0, est=3.8480068842377366, details={'was_impossible': False}),\n",
              " Prediction(uid=78, iid=8947, r_ui=3.5, est=4.243273943911489, details={'was_impossible': False}),\n",
              " Prediction(uid=15, iid=2959, r_ui=5.0, est=3.8390059934371723, details={'was_impossible': False}),\n",
              " Prediction(uid=119, iid=590, r_ui=5.0, est=3.5611759585872806, details={'was_impossible': False}),\n",
              " Prediction(uid=242, iid=1597, r_ui=4.0, est=4.123926717908214, details={'was_impossible': False}),\n",
              " Prediction(uid=518, iid=1381, r_ui=4.0, est=3.131439808234783, details={'was_impossible': False}),\n",
              " Prediction(uid=471, iid=69644, r_ui=4.5, est=3.375413474435173, details={'was_impossible': False}),\n",
              " Prediction(uid=624, iid=50872, r_ui=3.0, est=3.296560027487057, details={'was_impossible': False}),\n",
              " Prediction(uid=457, iid=6944, r_ui=2.0, est=2.328495594168922, details={'was_impossible': False}),\n",
              " Prediction(uid=199, iid=44665, r_ui=4.0, est=4.124190972444084, details={'was_impossible': False}),\n",
              " Prediction(uid=35, iid=24, r_ui=2.5, est=2.655638864974582, details={'was_impossible': False}),\n",
              " Prediction(uid=529, iid=3448, r_ui=3.0, est=3.3662115317214996, details={'was_impossible': False}),\n",
              " Prediction(uid=306, iid=3039, r_ui=5.0, est=3.357275212364938, details={'was_impossible': False}),\n",
              " Prediction(uid=624, iid=2002, r_ui=3.0, est=2.9988500988417304, details={'was_impossible': False}),\n",
              " Prediction(uid=330, iid=110, r_ui=4.0, est=3.9040789026294833, details={'was_impossible': False}),\n",
              " Prediction(uid=472, iid=2605, r_ui=2.0, est=3.216862434855787, details={'was_impossible': False}),\n",
              " Prediction(uid=152, iid=88125, r_ui=4.0, est=3.8787691712723418, details={'was_impossible': False}),\n",
              " Prediction(uid=4, iid=1022, r_ui=5.0, est=4.270957330323127, details={'was_impossible': False}),\n",
              " Prediction(uid=241, iid=364, r_ui=3.0, est=3.5891145600891448, details={'was_impossible': False}),\n",
              " Prediction(uid=475, iid=4963, r_ui=4.0, est=2.9978017453024774, details={'was_impossible': False}),\n",
              " Prediction(uid=285, iid=1198, r_ui=4.0, est=4.417500462279912, details={'was_impossible': False}),\n",
              " Prediction(uid=518, iid=2380, r_ui=2.0, est=3.0419170321337257, details={'was_impossible': False}),\n",
              " Prediction(uid=324, iid=6333, r_ui=3.5, est=3.5293450575731016, details={'was_impossible': False}),\n",
              " Prediction(uid=480, iid=1265, r_ui=5.0, est=3.85522484025672, details={'was_impossible': False}),\n",
              " Prediction(uid=7, iid=745, r_ui=5.0, est=4.151643044824299, details={'was_impossible': False}),\n",
              " Prediction(uid=628, iid=3551, r_ui=3.5, est=2.9219351079394356, details={'was_impossible': False}),\n",
              " Prediction(uid=452, iid=1266, r_ui=3.0, est=3.3681346472443057, details={'was_impossible': False}),\n",
              " Prediction(uid=213, iid=88356, r_ui=2.5, est=2.657659432050588, details={'was_impossible': False}),\n",
              " Prediction(uid=417, iid=4225, r_ui=4.0, est=3.5691394203894875, details={'was_impossible': False}),\n",
              " Prediction(uid=600, iid=112552, r_ui=4.0, est=4.223991504525523, details={'was_impossible': False}),\n",
              " Prediction(uid=213, iid=2529, r_ui=1.5, est=2.7983173922088564, details={'was_impossible': False}),\n",
              " Prediction(uid=564, iid=2655, r_ui=3.0, est=3.588103626563166, details={'was_impossible': False}),\n",
              " Prediction(uid=531, iid=1580, r_ui=3.0, est=2.8127190907517434, details={'was_impossible': False}),\n",
              " Prediction(uid=432, iid=6796, r_ui=4.5, est=4.2342387554878, details={'was_impossible': False}),\n",
              " Prediction(uid=220, iid=308, r_ui=4.0, est=3.955239811100096, details={'was_impossible': False}),\n",
              " Prediction(uid=306, iid=3260, r_ui=4.0, est=3.240752331492829, details={'was_impossible': False}),\n",
              " Prediction(uid=217, iid=3760, r_ui=5.0, est=3.891620337018637, details={'was_impossible': False}),\n",
              " Prediction(uid=313, iid=5620, r_ui=3.5, est=3.2339546993152783, details={'was_impossible': False}),\n",
              " Prediction(uid=483, iid=8874, r_ui=4.0, est=3.6140683267939133, details={'was_impossible': False}),\n",
              " Prediction(uid=655, iid=1080, r_ui=3.0, est=4.079264439170511, details={'was_impossible': False}),\n",
              " Prediction(uid=669, iid=1953, r_ui=4.0, est=3.9266630568885414, details={'was_impossible': False}),\n",
              " Prediction(uid=15, iid=8948, r_ui=1.0, est=2.4792183615260766, details={'was_impossible': False}),\n",
              " Prediction(uid=547, iid=66200, r_ui=2.5, est=3.2445758218474463, details={'was_impossible': False}),\n",
              " Prediction(uid=427, iid=4642, r_ui=5.0, est=3.913265685218432, details={'was_impossible': False}),\n",
              " Prediction(uid=346, iid=5021, r_ui=4.0, est=3.445042621329586, details={'was_impossible': False}),\n",
              " Prediction(uid=96, iid=1235, r_ui=4.0, est=3.9890264586366593, details={'was_impossible': False}),\n",
              " Prediction(uid=655, iid=4720, r_ui=3.5, est=4.102516782783351, details={'was_impossible': False}),\n",
              " Prediction(uid=624, iid=880, r_ui=1.5, est=2.352159228872511, details={'was_impossible': False}),\n",
              " Prediction(uid=563, iid=92210, r_ui=5.0, est=3.634615482300548, details={'was_impossible': False}),\n",
              " Prediction(uid=73, iid=5040, r_ui=3.5, est=3.0934330081840162, details={'was_impossible': False}),\n",
              " Prediction(uid=232, iid=2259, r_ui=4.0, est=3.4010406294163174, details={'was_impossible': False}),\n",
              " Prediction(uid=598, iid=17, r_ui=2.0, est=3.588396571503842, details={'was_impossible': False}),\n",
              " Prediction(uid=461, iid=1573, r_ui=3.0, est=2.6016035148891765, details={'was_impossible': False}),\n",
              " Prediction(uid=212, iid=552, r_ui=2.5, est=2.6432772696189972, details={'was_impossible': False}),\n",
              " Prediction(uid=430, iid=1, r_ui=4.0, est=4.246063384493141, details={'was_impossible': False}),\n",
              " Prediction(uid=311, iid=3980, r_ui=3.5, est=3.1053300483089044, details={'was_impossible': False}),\n",
              " Prediction(uid=313, iid=37727, r_ui=3.0, est=3.238194391205337, details={'was_impossible': False}),\n",
              " Prediction(uid=330, iid=1617, r_ui=2.0, est=3.9413470865026463, details={'was_impossible': False}),\n",
              " Prediction(uid=30, iid=3044, r_ui=3.0, est=4.034462332334852, details={'was_impossible': False}),\n",
              " Prediction(uid=505, iid=1104, r_ui=3.0, est=3.417859185714147, details={'was_impossible': False}),\n",
              " Prediction(uid=244, iid=94466, r_ui=0.5, est=3.679196367722556, details={'was_impossible': False}),\n",
              " Prediction(uid=480, iid=2617, r_ui=4.0, est=3.634721920803146, details={'was_impossible': False}),\n",
              " Prediction(uid=564, iid=353, r_ui=4.0, est=3.1339059307790778, details={'was_impossible': False}),\n",
              " Prediction(uid=580, iid=2161, r_ui=4.0, est=2.7026809547456696, details={'was_impossible': False}),\n",
              " Prediction(uid=60, iid=1209, r_ui=4.0, est=4.672525329902553, details={'was_impossible': False}),\n",
              " Prediction(uid=149, iid=74458, r_ui=3.5, est=3.893697278436392, details={'was_impossible': False}),\n",
              " Prediction(uid=624, iid=87785, r_ui=2.0, est=2.935905043903082, details={'was_impossible': False}),\n",
              " Prediction(uid=487, iid=590, r_ui=5.0, est=4.1334152950387395, details={'was_impossible': False}),\n",
              " Prediction(uid=195, iid=1608, r_ui=3.0, est=2.4617462712596074, details={'was_impossible': False}),\n",
              " Prediction(uid=481, iid=4914, r_ui=5.0, est=4.33960131536605, details={'was_impossible': False}),\n",
              " Prediction(uid=405, iid=7835, r_ui=4.0, est=3.659412954197886, details={'was_impossible': False}),\n",
              " Prediction(uid=636, iid=608, r_ui=5.0, est=4.258464991731419, details={'was_impossible': False}),\n",
              " Prediction(uid=26, iid=55276, r_ui=3.5, est=3.4173449355494063, details={'was_impossible': False}),\n",
              " Prediction(uid=15, iid=3798, r_ui=2.0, est=2.838625772201295, details={'was_impossible': False}),\n",
              " Prediction(uid=648, iid=30793, r_ui=4.0, est=3.502292471554541, details={'was_impossible': False}),\n",
              " Prediction(uid=587, iid=7139, r_ui=3.0, est=3.8297341869365398, details={'was_impossible': False}),\n",
              " Prediction(uid=585, iid=1446, r_ui=3.0, est=4.085730061777708, details={'was_impossible': False}),\n",
              " Prediction(uid=345, iid=34, r_ui=4.0, est=3.749131657273281, details={'was_impossible': False}),\n",
              " Prediction(uid=608, iid=2346, r_ui=4.0, est=3.6722482868703215, details={'was_impossible': False}),\n",
              " Prediction(uid=73, iid=293, r_ui=5.0, est=3.8807364798441646, details={'was_impossible': False}),\n",
              " Prediction(uid=480, iid=73017, r_ui=5.0, est=4.246703242268616, details={'was_impossible': False}),\n",
              " Prediction(uid=212, iid=551, r_ui=4.0, est=2.9996364996918663, details={'was_impossible': False}),\n",
              " Prediction(uid=483, iid=50, r_ui=4.0, est=4.127116413762908, details={'was_impossible': False}),\n",
              " Prediction(uid=648, iid=40819, r_ui=4.0, est=3.7823148351076803, details={'was_impossible': False}),\n",
              " Prediction(uid=544, iid=104841, r_ui=5.0, est=4.3063359358509175, details={'was_impossible': False}),\n",
              " Prediction(uid=213, iid=4506, r_ui=4.0, est=2.9218341621746973, details={'was_impossible': False}),\n",
              " Prediction(uid=496, iid=256, r_ui=3.0, est=3.27683499885452, details={'was_impossible': False}),\n",
              " Prediction(uid=119, iid=329, r_ui=3.0, est=2.9941198089314063, details={'was_impossible': False}),\n",
              " Prediction(uid=580, iid=153, r_ui=2.0, est=2.272948318289424, details={'was_impossible': False}),\n",
              " Prediction(uid=323, iid=832, r_ui=4.0, est=3.8273224650132707, details={'was_impossible': False}),\n",
              " Prediction(uid=103, iid=1721, r_ui=3.0, est=3.130523624784247, details={'was_impossible': False}),\n",
              " Prediction(uid=417, iid=2797, r_ui=3.5, est=4.00919786205775, details={'was_impossible': False}),\n",
              " Prediction(uid=481, iid=8197, r_ui=5.0, est=3.7930476409545837, details={'was_impossible': False}),\n",
              " Prediction(uid=358, iid=1089, r_ui=3.0, est=3.7247046479732497, details={'was_impossible': False}),\n",
              " Prediction(uid=378, iid=318, r_ui=4.0, est=3.7565087899754337, details={'was_impossible': False}),\n",
              " Prediction(uid=534, iid=631, r_ui=4.0, est=3.330686268503314, details={'was_impossible': False}),\n",
              " Prediction(uid=364, iid=46578, r_ui=4.5, est=3.4065904652177195, details={'was_impossible': False}),\n",
              " Prediction(uid=87, iid=1405, r_ui=2.0, est=3.12042226664771, details={'was_impossible': False}),\n",
              " Prediction(uid=607, iid=485, r_ui=3.5, est=3.135556010226048, details={'was_impossible': False}),\n",
              " Prediction(uid=463, iid=3101, r_ui=4.0, est=3.617083633201546, details={'was_impossible': False}),\n",
              " Prediction(uid=655, iid=68954, r_ui=3.5, est=4.168080434641568, details={'was_impossible': False}),\n",
              " Prediction(uid=19, iid=914, r_ui=3.0, est=3.8447960048849934, details={'was_impossible': False}),\n",
              " Prediction(uid=102, iid=1347, r_ui=5.0, est=3.647072529632203, details={'was_impossible': False}),\n",
              " Prediction(uid=592, iid=1059, r_ui=3.0, est=3.8640701107915953, details={'was_impossible': False}),\n",
              " Prediction(uid=452, iid=3788, r_ui=4.0, est=2.941982455037829, details={'was_impossible': False}),\n",
              " Prediction(uid=384, iid=2000, r_ui=4.0, est=3.256451901359529, details={'was_impossible': False}),\n",
              " Prediction(uid=18, iid=780, r_ui=3.0, est=3.2697453379129393, details={'was_impossible': False}),\n",
              " Prediction(uid=282, iid=592, r_ui=2.5, est=3.3077227381704035, details={'was_impossible': False}),\n",
              " Prediction(uid=575, iid=838, r_ui=5.0, est=3.5766806826200024, details={'was_impossible': False}),\n",
              " Prediction(uid=461, iid=3478, r_ui=2.5, est=2.607043181194128, details={'was_impossible': False}),\n",
              " Prediction(uid=597, iid=1097, r_ui=4.0, est=4.143887077192062, details={'was_impossible': False}),\n",
              " Prediction(uid=268, iid=3578, r_ui=5.0, est=4.1746305844171685, details={'was_impossible': False}),\n",
              " Prediction(uid=201, iid=6, r_ui=5.0, est=4.292080147865823, details={'was_impossible': False}),\n",
              " Prediction(uid=278, iid=2908, r_ui=3.0, est=3.6297677745396624, details={'was_impossible': False}),\n",
              " Prediction(uid=19, iid=916, r_ui=5.0, est=3.6715026271146174, details={'was_impossible': False}),\n",
              " Prediction(uid=654, iid=252, r_ui=3.5, est=3.7751392969283426, details={'was_impossible': False}),\n",
              " Prediction(uid=58, iid=2016, r_ui=2.0, est=3.3994857372451737, details={'was_impossible': False}),\n",
              " Prediction(uid=247, iid=3263, r_ui=3.0, est=3.857855852675841, details={'was_impossible': False}),\n",
              " Prediction(uid=187, iid=6365, r_ui=0.5, est=3.5722228592765006, details={'was_impossible': False}),\n",
              " Prediction(uid=311, iid=17, r_ui=2.0, est=3.2143348735837174, details={'was_impossible': False}),\n",
              " Prediction(uid=346, iid=4571, r_ui=5.0, est=3.482586822353959, details={'was_impossible': False}),\n",
              " Prediction(uid=77, iid=1682, r_ui=3.5, est=3.3361471000167633, details={'was_impossible': False}),\n",
              " Prediction(uid=547, iid=4954, r_ui=2.5, est=3.02420589719481, details={'was_impossible': False}),\n",
              " Prediction(uid=664, iid=53519, r_ui=3.5, est=3.9480269547185562, details={'was_impossible': False}),\n",
              " Prediction(uid=667, iid=95, r_ui=3.0, est=3.2154071050375537, details={'was_impossible': False}),\n",
              " Prediction(uid=132, iid=50872, r_ui=4.0, est=4.846475606445715, details={'was_impossible': False}),\n",
              " Prediction(uid=40, iid=122904, r_ui=4.5, est=3.8689916896546217, details={'was_impossible': False}),\n",
              " Prediction(uid=165, iid=8529, r_ui=3.5, est=2.8606702072579653, details={'was_impossible': False}),\n",
              " Prediction(uid=658, iid=588, r_ui=5.0, est=4.108703442942714, details={'was_impossible': False}),\n",
              " Prediction(uid=572, iid=40815, r_ui=3.5, est=4.03471905348364, details={'was_impossible': False}),\n",
              " Prediction(uid=30, iid=2770, r_ui=3.0, est=3.4063892310259827, details={'was_impossible': False}),\n",
              " Prediction(uid=393, iid=6380, r_ui=5.0, est=3.6188302063279867, details={'was_impossible': False}),\n",
              " Prediction(uid=81, iid=6641, r_ui=4.5, est=3.967155939976627, details={'was_impossible': False}),\n",
              " Prediction(uid=102, iid=506, r_ui=3.0, est=3.6780294176758446, details={'was_impossible': False}),\n",
              " Prediction(uid=407, iid=2396, r_ui=5.0, est=4.531388448288423, details={'was_impossible': False}),\n",
              " Prediction(uid=8, iid=7438, r_ui=4.0, est=3.544852859111179, details={'was_impossible': False}),\n",
              " Prediction(uid=195, iid=2826, r_ui=3.0, est=2.225129348628683, details={'was_impossible': False}),\n",
              " Prediction(uid=30, iid=3529, r_ui=4.0, est=3.2116104832253307, details={'was_impossible': False}),\n",
              " Prediction(uid=347, iid=2571, r_ui=3.0, est=4.2545379647270565, details={'was_impossible': False}),\n",
              " Prediction(uid=70, iid=112, r_ui=5.0, est=3.948559169966421, details={'was_impossible': False}),\n",
              " Prediction(uid=95, iid=3994, r_ui=3.0, est=3.7340033288298122, details={'was_impossible': False}),\n",
              " Prediction(uid=61, iid=48394, r_ui=4.5, est=3.3197658533452508, details={'was_impossible': False}),\n",
              " Prediction(uid=30, iid=6103, r_ui=2.0, est=3.7298789464646855, details={'was_impossible': False}),\n",
              " Prediction(uid=461, iid=553, r_ui=4.0, est=3.0279357472103494, details={'was_impossible': False}),\n",
              " Prediction(uid=313, iid=1090, r_ui=4.0, est=3.8828551893397547, details={'was_impossible': False}),\n",
              " Prediction(uid=205, iid=89745, r_ui=4.0, est=3.813901013101594, details={'was_impossible': False}),\n",
              " Prediction(uid=353, iid=43396, r_ui=3.5, est=2.599323931498877, details={'was_impossible': False}),\n",
              " Prediction(uid=102, iid=3424, r_ui=5.0, est=3.854175565328951, details={'was_impossible': False}),\n",
              " Prediction(uid=335, iid=1381, r_ui=2.0, est=2.6847468761312783, details={'was_impossible': False}),\n",
              " Prediction(uid=434, iid=101, r_ui=5.0, est=3.5124764456225455, details={'was_impossible': False}),\n",
              " Prediction(uid=250, iid=36708, r_ui=4.0, est=4.184797972969851, details={'was_impossible': False}),\n",
              " Prediction(uid=111, iid=300, r_ui=3.5, est=3.6377479469043354, details={'was_impossible': False}),\n",
              " Prediction(uid=133, iid=1148, r_ui=0.5, est=2.764372526489866, details={'was_impossible': False}),\n",
              " Prediction(uid=402, iid=112852, r_ui=4.0, est=3.716974839137993, details={'was_impossible': False}),\n",
              " Prediction(uid=457, iid=20, r_ui=2.5, est=1.9565369022861747, details={'was_impossible': False}),\n",
              " Prediction(uid=561, iid=4367, r_ui=3.5, est=3.2056827021603116, details={'was_impossible': False}),\n",
              " Prediction(uid=268, iid=4022, r_ui=3.5, est=3.6917443041772025, details={'was_impossible': False}),\n",
              " Prediction(uid=547, iid=4322, r_ui=3.0, est=3.441636724155129, details={'was_impossible': False}),\n",
              " Prediction(uid=547, iid=2155, r_ui=2.0, est=3.5938570120520517, details={'was_impossible': False}),\n",
              " Prediction(uid=103, iid=7438, r_ui=5.0, est=3.37017437372628, details={'was_impossible': False}),\n",
              " Prediction(uid=472, iid=1249, r_ui=5.0, est=3.9022659970154074, details={'was_impossible': False}),\n",
              " Prediction(uid=564, iid=1347, r_ui=4.0, est=3.543874581489098, details={'was_impossible': False}),\n",
              " Prediction(uid=652, iid=6966, r_ui=4.5, est=4.159600110146635, details={'was_impossible': False}),\n",
              " Prediction(uid=143, iid=4011, r_ui=5.0, est=4.049241579969239, details={'was_impossible': False}),\n",
              " Prediction(uid=558, iid=615, r_ui=4.0, est=4.244291523153589, details={'was_impossible': False}),\n",
              " Prediction(uid=452, iid=2112, r_ui=3.0, est=2.61577371708243, details={'was_impossible': False}),\n",
              " Prediction(uid=247, iid=2380, r_ui=3.0, est=2.6712558894151472, details={'was_impossible': False}),\n",
              " Prediction(uid=269, iid=1584, r_ui=1.0, est=3.57828674680605, details={'was_impossible': False}),\n",
              " Prediction(uid=48, iid=68237, r_ui=4.0, est=3.775419422800162, details={'was_impossible': False}),\n",
              " Prediction(uid=217, iid=3263, r_ui=4.0, est=4.156719079730748, details={'was_impossible': False}),\n",
              " Prediction(uid=22, iid=2881, r_ui=2.0, est=2.794410120492975, details={'was_impossible': False}),\n",
              " Prediction(uid=422, iid=480, r_ui=3.0, est=3.8543870285325275, details={'was_impossible': False}),\n",
              " Prediction(uid=452, iid=5051, r_ui=2.5, est=3.5107306493371886, details={'was_impossible': False}),\n",
              " Prediction(uid=15, iid=2424, r_ui=1.5, est=2.397748396641747, details={'was_impossible': False}),\n",
              " Prediction(uid=529, iid=3806, r_ui=2.0, est=3.217013918288665, details={'was_impossible': False}),\n",
              " Prediction(uid=564, iid=1387, r_ui=5.0, est=4.005413271684523, details={'was_impossible': False}),\n",
              " Prediction(uid=380, iid=102445, r_ui=4.0, est=3.3422707128005515, details={'was_impossible': False}),\n",
              " Prediction(uid=367, iid=2918, r_ui=2.5, est=3.6409740132877677, details={'was_impossible': False}),\n",
              " Prediction(uid=569, iid=2001, r_ui=4.0, est=3.2462221407889214, details={'was_impossible': False}),\n",
              " Prediction(uid=562, iid=2762, r_ui=3.0, est=4.343209058845363, details={'was_impossible': False}),\n",
              " Prediction(uid=500, iid=5991, r_ui=3.5, est=2.8980481578101314, details={'was_impossible': False}),\n",
              " Prediction(uid=402, iid=3624, r_ui=3.5, est=3.8131239935298753, details={'was_impossible': False}),\n",
              " Prediction(uid=585, iid=3861, r_ui=5.0, est=3.60604291159122, details={'was_impossible': False}),\n",
              " Prediction(uid=403, iid=188, r_ui=4.0, est=3.6061091316989398, details={'was_impossible': False}),\n",
              " Prediction(uid=654, iid=6287, r_ui=3.5, est=3.28154655000271, details={'was_impossible': False}),\n",
              " Prediction(uid=372, iid=1641, r_ui=4.0, est=3.822039614175549, details={'was_impossible': False}),\n",
              " Prediction(uid=461, iid=3246, r_ui=3.5, est=2.9431267420984706, details={'was_impossible': False}),\n",
              " Prediction(uid=326, iid=60, r_ui=4.0, est=2.546681493623424, details={'was_impossible': False}),\n",
              " Prediction(uid=73, iid=48394, r_ui=3.5, est=3.522381766969858, details={'was_impossible': False}),\n",
              " Prediction(uid=453, iid=3755, r_ui=2.0, est=3.3008161872230386, details={'was_impossible': False}),\n",
              " Prediction(uid=199, iid=68194, r_ui=3.5, est=3.594125482536585, details={'was_impossible': False}),\n",
              " Prediction(uid=475, iid=55768, r_ui=1.0, est=2.7743829696742597, details={'was_impossible': False}),\n",
              " Prediction(uid=654, iid=6281, r_ui=4.5, est=4.041885554042584, details={'was_impossible': False}),\n",
              " Prediction(uid=268, iid=68358, r_ui=4.5, est=3.8031388158799335, details={'was_impossible': False}),\n",
              " Prediction(uid=67, iid=368, r_ui=3.0, est=3.3617123171511043, details={'was_impossible': False}),\n",
              " Prediction(uid=481, iid=8620, r_ui=4.0, est=3.8499902850328325, details={'was_impossible': False}),\n",
              " Prediction(uid=480, iid=8529, r_ui=3.5, est=3.704148922455566, details={'was_impossible': False}),\n",
              " Prediction(uid=355, iid=2571, r_ui=5.0, est=4.007887837552408, details={'was_impossible': False}),\n",
              " Prediction(uid=509, iid=6365, r_ui=4.0, est=3.2776782870180847, details={'was_impossible': False}),\n",
              " Prediction(uid=382, iid=500, r_ui=3.0, est=2.9518209765545573, details={'was_impossible': False}),\n",
              " Prediction(uid=385, iid=539, r_ui=3.0, est=3.286036932617698, details={'was_impossible': False}),\n",
              " Prediction(uid=548, iid=246, r_ui=4.0, est=3.8814870951357077, details={'was_impossible': False}),\n",
              " Prediction(uid=627, iid=2571, r_ui=5.0, est=3.822855605112341, details={'was_impossible': False}),\n",
              " Prediction(uid=643, iid=5541, r_ui=2.0, est=3.3710249761944566, details={'was_impossible': False}),\n",
              " Prediction(uid=509, iid=4889, r_ui=4.0, est=3.312720113351889, details={'was_impossible': False}),\n",
              " Prediction(uid=130, iid=899, r_ui=4.5, est=3.97445113989479, details={'was_impossible': False}),\n",
              " Prediction(uid=30, iid=235, r_ui=4.0, est=4.283918077457787, details={'was_impossible': False}),\n",
              " Prediction(uid=34, iid=608, r_ui=4.0, est=4.459296190127627, details={'was_impossible': False}),\n",
              " Prediction(uid=487, iid=237, r_ui=4.0, est=3.5034261450510518, details={'was_impossible': False}),\n",
              " Prediction(uid=246, iid=552, r_ui=3.0, est=3.271399023631598, details={'was_impossible': False}),\n",
              " Prediction(uid=428, iid=1089, r_ui=5.0, est=3.9932566338897124, details={'was_impossible': False}),\n",
              " Prediction(uid=102, iid=3639, r_ui=4.0, est=3.9721542666545737, details={'was_impossible': False}),\n",
              " Prediction(uid=242, iid=316, r_ui=4.0, est=3.968055426567164, details={'was_impossible': False}),\n",
              " Prediction(uid=17, iid=25, r_ui=4.5, est=3.4499254573721574, details={'was_impossible': False}),\n",
              " Prediction(uid=355, iid=208, r_ui=3.0, est=2.5852784352836986, details={'was_impossible': False}),\n",
              " Prediction(uid=165, iid=5903, r_ui=3.5, est=2.600179100652003, details={'was_impossible': False}),\n",
              " Prediction(uid=514, iid=707, r_ui=2.0, est=2.913519600630294, details={'was_impossible': False}),\n",
              " Prediction(uid=76, iid=1096, r_ui=4.5, est=4.048456560694493, details={'was_impossible': False}),\n",
              " Prediction(uid=408, iid=2561, r_ui=4.0, est=3.6324596589565648, details={'was_impossible': False}),\n",
              " Prediction(uid=547, iid=55156, r_ui=4.0, est=3.2445758218474463, details={'was_impossible': False}),\n",
              " Prediction(uid=624, iid=99106, r_ui=2.5, est=2.935905043903082, details={'was_impossible': False}),\n",
              " Prediction(uid=104, iid=57640, r_ui=3.5, est=3.8153961513921892, details={'was_impossible': False}),\n",
              " Prediction(uid=514, iid=368, r_ui=4.0, est=3.2804388241317652, details={'was_impossible': False}),\n",
              " Prediction(uid=41, iid=7060, r_ui=4.5, est=3.5855263512415263, details={'was_impossible': False}),\n",
              " Prediction(uid=447, iid=315, r_ui=3.0, est=2.970743784240031, details={'was_impossible': False}),\n",
              " Prediction(uid=520, iid=588, r_ui=4.0, est=3.4581233486220415, details={'was_impossible': False}),\n",
              " Prediction(uid=427, iid=5505, r_ui=4.0, est=3.968399286626549, details={'was_impossible': False}),\n",
              " Prediction(uid=165, iid=322, r_ui=4.5, est=3.1693774381125004, details={'was_impossible': False}),\n",
              " Prediction(uid=69, iid=1704, r_ui=5.0, est=4.791282736722424, details={'was_impossible': False}),\n",
              " Prediction(uid=19, iid=1176, r_ui=4.0, est=3.363909712105363, details={'was_impossible': False}),\n",
              " Prediction(uid=293, iid=6796, r_ui=4.0, est=3.5743614102870622, details={'was_impossible': False}),\n",
              " Prediction(uid=457, iid=127198, r_ui=2.5, est=2.610343665777167, details={'was_impossible': False}),\n",
              " Prediction(uid=33, iid=4378, r_ui=3.0, est=3.298146154930858, details={'was_impossible': False}),\n",
              " Prediction(uid=143, iid=8970, r_ui=5.0, est=3.763726743068302, details={'was_impossible': False}),\n",
              " Prediction(uid=111, iid=150, r_ui=4.0, est=3.805092494593223, details={'was_impossible': False}),\n",
              " Prediction(uid=228, iid=480, r_ui=5.0, est=3.7306726826708867, details={'was_impossible': False}),\n",
              " Prediction(uid=157, iid=85179, r_ui=4.5, est=3.471186558407643, details={'was_impossible': False}),\n",
              " Prediction(uid=15, iid=357, r_ui=3.5, est=3.033014198178539, details={'was_impossible': False}),\n",
              " Prediction(uid=487, iid=95, r_ui=5.0, est=3.296353972945919, details={'was_impossible': False}),\n",
              " Prediction(uid=382, iid=262, r_ui=3.0, est=3.02955843633332, details={'was_impossible': False}),\n",
              " Prediction(uid=184, iid=280, r_ui=4.0, est=3.9372350291891864, details={'was_impossible': False}),\n",
              " Prediction(uid=580, iid=5782, r_ui=4.0, est=3.9308246127761635, details={'was_impossible': False}),\n",
              " Prediction(uid=163, iid=2997, r_ui=4.5, est=3.634083411491636, details={'was_impossible': False}),\n",
              " Prediction(uid=547, iid=5380, r_ui=4.0, est=2.966094401697387, details={'was_impossible': False}),\n",
              " Prediction(uid=647, iid=319, r_ui=5.0, est=4.486360055471799, details={'was_impossible': False}),\n",
              " Prediction(uid=383, iid=380, r_ui=2.0, est=3.5526651021371376, details={'was_impossible': False}),\n",
              " Prediction(uid=265, iid=2692, r_ui=2.0, est=4.2891370903199055, details={'was_impossible': False}),\n",
              " Prediction(uid=500, iid=46578, r_ui=4.0, est=3.4498758004207843, details={'was_impossible': False}),\n",
              " Prediction(uid=654, iid=6947, r_ui=4.0, est=4.002741723760478, details={'was_impossible': False}),\n",
              " Prediction(uid=30, iid=4326, r_ui=5.0, est=4.016470785837037, details={'was_impossible': False}),\n",
              " Prediction(uid=591, iid=3868, r_ui=4.0, est=3.5756582515913315, details={'was_impossible': False}),\n",
              " Prediction(uid=575, iid=1082, r_ui=3.0, est=3.643837843939239, details={'was_impossible': False}),\n",
              " Prediction(uid=228, iid=2115, r_ui=5.0, est=3.8941075525028634, details={'was_impossible': False}),\n",
              " Prediction(uid=282, iid=1641, r_ui=1.5, est=3.57433589991711, details={'was_impossible': False}),\n",
              " Prediction(uid=165, iid=9010, r_ui=5.0, est=2.8433531833485586, details={'was_impossible': False}),\n",
              " Prediction(uid=355, iid=3300, r_ui=4.0, est=3.5369423262548416, details={'was_impossible': False}),\n",
              " Prediction(uid=275, iid=3897, r_ui=5.0, est=4.655980699469868, details={'was_impossible': False}),\n",
              " Prediction(uid=544, iid=112183, r_ui=4.5, est=4.574779919666175, details={'was_impossible': False}),\n",
              " Prediction(uid=569, iid=1357, r_ui=4.0, est=4.161247313241608, details={'was_impossible': False}),\n",
              " Prediction(uid=457, iid=2792, r_ui=2.0, est=2.6663770891918355, details={'was_impossible': False}),\n",
              " Prediction(uid=554, iid=1610, r_ui=3.0, est=3.769363684476054, details={'was_impossible': False}),\n",
              " Prediction(uid=95, iid=364, r_ui=4.0, est=4.138117519495771, details={'was_impossible': False}),\n",
              " Prediction(uid=509, iid=1304, r_ui=4.5, est=3.7847620255075887, details={'was_impossible': False}),\n",
              " Prediction(uid=360, iid=111, r_ui=5.0, est=4.111804884637074, details={'was_impossible': False}),\n",
              " Prediction(uid=15, iid=101362, r_ui=3.0, est=2.79458303462774, details={'was_impossible': False}),\n",
              " Prediction(uid=133, iid=102792, r_ui=1.0, est=2.271490786699018, details={'was_impossible': False}),\n",
              " Prediction(uid=177, iid=1200, r_ui=5.0, est=4.410347295798491, details={'was_impossible': False}),\n",
              " Prediction(uid=580, iid=3916, r_ui=4.0, est=3.449208791931875, details={'was_impossible': False}),\n",
              " Prediction(uid=353, iid=2628, r_ui=2.0, est=2.54047183368653, details={'was_impossible': False}),\n",
              " Prediction(uid=178, iid=47999, r_ui=4.0, est=3.2139803037596733, details={'was_impossible': False}),\n",
              " Prediction(uid=475, iid=4015, r_ui=2.0, est=2.6349523110035653, details={'was_impossible': False}),\n",
              " Prediction(uid=19, iid=1357, r_ui=4.0, est=3.987206579795693, details={'was_impossible': False}),\n",
              " Prediction(uid=620, iid=59784, r_ui=4.0, est=3.23574682997998, details={'was_impossible': False}),\n",
              " Prediction(uid=358, iid=2064, r_ui=5.0, est=4.0144273265745705, details={'was_impossible': False}),\n",
              " Prediction(uid=38, iid=8154, r_ui=4.0, est=4.362626212219069, details={'was_impossible': False}),\n",
              " Prediction(uid=461, iid=333, r_ui=4.0, est=2.794543997979289, details={'was_impossible': False}),\n",
              " Prediction(uid=34, iid=2662, r_ui=4.0, est=3.7969392557515036, details={'was_impossible': False}),\n",
              " Prediction(uid=608, iid=50, r_ui=5.0, est=4.400427913468658, details={'was_impossible': False}),\n",
              " Prediction(uid=212, iid=2413, r_ui=2.5, est=2.5648819359846273, details={'was_impossible': False}),\n",
              " Prediction(uid=303, iid=4022, r_ui=3.5, est=3.5469553978102595, details={'was_impossible': False}),\n",
              " Prediction(uid=113, iid=65, r_ui=4.0, est=3.4964319012141583, details={'was_impossible': False}),\n",
              " Prediction(uid=596, iid=377, r_ui=4.0, est=3.358437717057295, details={'was_impossible': False}),\n",
              " Prediction(uid=5, iid=8636, r_ui=4.5, est=3.8916407027058155, details={'was_impossible': False}),\n",
              " Prediction(uid=61, iid=5449, r_ui=3.5, est=2.859334896997623, details={'was_impossible': False}),\n",
              " Prediction(uid=17, iid=2594, r_ui=5.0, est=3.7935671621591, details={'was_impossible': False}),\n",
              " Prediction(uid=421, iid=410, r_ui=2.0, est=2.930232051338525, details={'was_impossible': False}),\n",
              " Prediction(uid=563, iid=73017, r_ui=4.0, est=3.785595588105449, details={'was_impossible': False}),\n",
              " Prediction(uid=91, iid=81229, r_ui=5.0, est=4.631796659193092, details={'was_impossible': False}),\n",
              " Prediction(uid=548, iid=442, r_ui=4.0, est=2.7746103707430634, details={'was_impossible': False}),\n",
              " Prediction(uid=461, iid=6377, r_ui=4.5, est=3.023922036536391, details={'was_impossible': False}),\n",
              " Prediction(uid=242, iid=300, r_ui=4.0, est=4.459817725024664, details={'was_impossible': False}),\n",
              " Prediction(uid=214, iid=2405, r_ui=4.0, est=3.615515120345012, details={'was_impossible': False}),\n",
              " Prediction(uid=487, iid=216, r_ui=3.0, est=3.4950785455624187, details={'was_impossible': False}),\n",
              " Prediction(uid=30, iid=5064, r_ui=5.0, est=4.277297218137392, details={'was_impossible': False}),\n",
              " Prediction(uid=466, iid=1079, r_ui=5.0, est=4.078665945723531, details={'was_impossible': False}),\n",
              " Prediction(uid=236, iid=296, r_ui=3.0, est=4.250294955355898, details={'was_impossible': False}),\n",
              " Prediction(uid=78, iid=4025, r_ui=5.0, est=3.8764030904060305, details={'was_impossible': False}),\n",
              " Prediction(uid=373, iid=1073, r_ui=4.0, est=3.6231532590501754, details={'was_impossible': False}),\n",
              " Prediction(uid=580, iid=74795, r_ui=3.5, est=3.24992873477224, details={'was_impossible': False}),\n",
              " Prediction(uid=75, iid=4226, r_ui=4.5, est=3.9850503521192784, details={'was_impossible': False}),\n",
              " Prediction(uid=262, iid=3949, r_ui=4.0, est=2.860471581267046, details={'was_impossible': False}),\n",
              " Prediction(uid=299, iid=56003, r_ui=4.0, est=3.8047376704741294, details={'was_impossible': False}),\n",
              " Prediction(uid=509, iid=1212, r_ui=4.0, est=3.6943212273647834, details={'was_impossible': False}),\n",
              " Prediction(uid=242, iid=2929, r_ui=5.0, est=4.36810676416693, details={'was_impossible': False}),\n",
              " Prediction(uid=213, iid=83349, r_ui=1.0, est=2.7723501136618878, details={'was_impossible': False}),\n",
              " Prediction(uid=243, iid=2174, r_ui=3.5, est=3.441128318079266, details={'was_impossible': False}),\n",
              " Prediction(uid=285, iid=296, r_ui=4.0, est=4.20171653075414, details={'was_impossible': False}),\n",
              " Prediction(uid=94, iid=4306, r_ui=5.0, est=3.608953894306586, details={'was_impossible': False}),\n",
              " Prediction(uid=68, iid=11, r_ui=3.5, est=3.5235550096120702, details={'was_impossible': False}),\n",
              " Prediction(uid=542, iid=2384, r_ui=1.5, est=3.404372320744574, details={'was_impossible': False}),\n",
              " Prediction(uid=472, iid=26425, r_ui=4.5, est=3.652388374941955, details={'was_impossible': False}),\n",
              " Prediction(uid=624, iid=539, r_ui=3.0, est=2.8214386509351717, details={'was_impossible': False}),\n",
              " Prediction(uid=499, iid=185, r_ui=1.0, est=3.5948069249261017, details={'was_impossible': False}),\n",
              " Prediction(uid=199, iid=59810, r_ui=3.5, est=3.7132731335667053, details={'was_impossible': False}),\n",
              " Prediction(uid=287, iid=71264, r_ui=4.5, est=4.7006057495104026, details={'was_impossible': False}),\n",
              " Prediction(uid=667, iid=350, r_ui=3.0, est=3.399902548649443, details={'was_impossible': False}),\n",
              " Prediction(uid=212, iid=509, r_ui=4.0, est=3.595542100162837, details={'was_impossible': False}),\n",
              " Prediction(uid=518, iid=2394, r_ui=4.0, est=3.898243824070559, details={'was_impossible': False}),\n",
              " Prediction(uid=311, iid=6423, r_ui=4.0, est=3.0026661184231367, details={'was_impossible': False}),\n",
              " Prediction(uid=306, iid=1186, r_ui=4.0, est=3.6058152592382986, details={'was_impossible': False}),\n",
              " Prediction(uid=105, iid=316, r_ui=3.0, est=3.324706806389953, details={'was_impossible': False}),\n",
              " Prediction(uid=562, iid=4720, r_ui=3.5, est=3.948309970272352, details={'was_impossible': False}),\n",
              " Prediction(uid=46, iid=3247, r_ui=4.0, est=4.348987169743789, details={'was_impossible': False}),\n",
              " Prediction(uid=520, iid=4974, r_ui=1.0, est=2.9972927098590736, details={'was_impossible': False}),\n",
              " Prediction(uid=145, iid=317, r_ui=5.0, est=3.7073806451076274, details={'was_impossible': False}),\n",
              " Prediction(uid=390, iid=1042, r_ui=4.0, est=3.3271779997417354, details={'was_impossible': False}),\n",
              " Prediction(uid=26, iid=67997, r_ui=3.5, est=3.618768504815863, details={'was_impossible': False}),\n",
              " Prediction(uid=320, iid=7438, r_ui=4.0, est=3.525733046364445, details={'was_impossible': False}),\n",
              " Prediction(uid=452, iid=1197, r_ui=3.0, est=3.896982672474453, details={'was_impossible': False}),\n",
              " Prediction(uid=624, iid=1425, r_ui=2.0, est=2.4984216640368464, details={'was_impossible': False}),\n",
              " Prediction(uid=328, iid=1203, r_ui=4.0, est=3.840564533681709, details={'was_impossible': False}),\n",
              " Prediction(uid=287, iid=106489, r_ui=5.0, est=4.638039592184865, details={'was_impossible': False}),\n",
              " Prediction(uid=528, iid=2178, r_ui=4.5, est=3.2556572260117447, details={'was_impossible': False}),\n",
              " Prediction(uid=488, iid=48774, r_ui=4.0, est=3.86723210944929, details={'was_impossible': False}),\n",
              " Prediction(uid=150, iid=3147, r_ui=4.0, est=3.596075485566475, details={'was_impossible': False}),\n",
              " Prediction(uid=537, iid=935, r_ui=4.0, est=3.7782419128073235, details={'was_impossible': False}),\n",
              " Prediction(uid=422, iid=2706, r_ui=4.0, est=3.532838173872997, details={'was_impossible': False}),\n",
              " Prediction(uid=17, iid=377, r_ui=0.5, est=3.214168558830747, details={'was_impossible': False}),\n",
              " Prediction(uid=212, iid=3072, r_ui=2.5, est=3.1941026723441706, details={'was_impossible': False}),\n",
              " Prediction(uid=533, iid=2445, r_ui=3.0, est=3.0635071034073973, details={'was_impossible': False}),\n",
              " Prediction(uid=273, iid=6377, r_ui=4.0, est=4.550617895823574, details={'was_impossible': False}),\n",
              " Prediction(uid=388, iid=7153, r_ui=4.0, est=3.9142323415176654, details={'was_impossible': False}),\n",
              " Prediction(uid=529, iid=3110, r_ui=3.0, est=3.439547947940766, details={'was_impossible': False}),\n",
              " Prediction(uid=30, iid=5745, r_ui=4.0, est=3.7298789464646855, details={'was_impossible': False}),\n",
              " Prediction(uid=236, iid=31437, r_ui=4.0, est=3.7678347025583965, details={'was_impossible': False}),\n",
              " Prediction(uid=88, iid=2302, r_ui=3.0, est=3.0734903949809693, details={'was_impossible': False}),\n",
              " Prediction(uid=655, iid=1198, r_ui=5.0, est=4.45795430242125, details={'was_impossible': False}),\n",
              " Prediction(uid=452, iid=360, r_ui=1.0, est=2.677622962314875, details={'was_impossible': False}),\n",
              " Prediction(uid=461, iid=6333, r_ui=3.5, est=3.2246241460618377, details={'was_impossible': False}),\n",
              " Prediction(uid=520, iid=2959, r_ui=4.5, est=4.065784060860444, details={'was_impossible': False}),\n",
              " Prediction(uid=516, iid=786, r_ui=4.0, est=3.2616267610453615, details={'was_impossible': False}),\n",
              " Prediction(uid=648, iid=555, r_ui=3.5, est=4.0778668379951455, details={'was_impossible': False}),\n",
              " Prediction(uid=380, iid=54272, r_ui=3.0, est=3.1627807465464546, details={'was_impossible': False}),\n",
              " Prediction(uid=564, iid=1989, r_ui=2.0, est=3.588103626563166, details={'was_impossible': False}),\n",
              " Prediction(uid=15, iid=296, r_ui=5.0, est=3.529042441732759, details={'was_impossible': False}),\n",
              " Prediction(uid=328, iid=1032, r_ui=3.0, est=3.2060826833213047, details={'was_impossible': False}),\n",
              " Prediction(uid=468, iid=778, r_ui=4.0, est=3.72887285319352, details={'was_impossible': False}),\n",
              " Prediction(uid=654, iid=3984, r_ui=3.5, est=4.222880224909357, details={'was_impossible': False}),\n",
              " Prediction(uid=615, iid=81845, r_ui=4.0, est=3.9520709812597286, details={'was_impossible': False}),\n",
              " Prediction(uid=381, iid=380, r_ui=2.0, est=3.3057881996205585, details={'was_impossible': False}),\n",
              " Prediction(uid=212, iid=1717, r_ui=1.5, est=3.1571562069687467, details={'was_impossible': False}),\n",
              " Prediction(uid=199, iid=2985, r_ui=4.0, est=3.7251843212240128, details={'was_impossible': False}),\n",
              " Prediction(uid=548, iid=340, r_ui=3.0, est=2.965746460542451, details={'was_impossible': False}),\n",
              " Prediction(uid=265, iid=898, r_ui=5.0, est=4.263386363815975, details={'was_impossible': False}),\n",
              " Prediction(uid=452, iid=2145, r_ui=3.0, est=3.4357198836323164, details={'was_impossible': False}),\n",
              " Prediction(uid=268, iid=54286, r_ui=4.5, est=3.8785739216227, details={'was_impossible': False}),\n",
              " Prediction(uid=294, iid=2259, r_ui=2.0, est=3.143409946119433, details={'was_impossible': False}),\n",
              " Prediction(uid=30, iid=1334, r_ui=4.0, est=3.4514201515164404, details={'was_impossible': False}),\n",
              " Prediction(uid=216, iid=2571, r_ui=4.5, est=4.661641250543703, details={'was_impossible': False}),\n",
              " Prediction(uid=522, iid=44191, r_ui=4.0, est=3.6315284350833057, details={'was_impossible': False}),\n",
              " Prediction(uid=198, iid=912, r_ui=5.0, est=4.119232894275029, details={'was_impossible': False}),\n",
              " Prediction(uid=15, iid=45666, r_ui=4.0, est=2.0666412685701108, details={'was_impossible': False}),\n",
              " Prediction(uid=408, iid=2006, r_ui=4.0, est=3.1596208129431447, details={'was_impossible': False}),\n",
              " Prediction(uid=519, iid=7361, r_ui=4.5, est=4.7315384167396655, details={'was_impossible': False}),\n",
              " Prediction(uid=519, iid=3671, r_ui=4.5, est=4.615219176399905, details={'was_impossible': False}),\n",
              " Prediction(uid=405, iid=509, r_ui=5.0, est=4.034933222593486, details={'was_impossible': False}),\n",
              " Prediction(uid=293, iid=1200, r_ui=4.5, est=3.67881714302653, details={'was_impossible': False}),\n",
              " Prediction(uid=57, iid=1200, r_ui=3.0, est=3.907912162116136, details={'was_impossible': False}),\n",
              " Prediction(uid=596, iid=1884, r_ui=4.5, est=3.947795064844672, details={'was_impossible': False}),\n",
              " Prediction(uid=433, iid=3578, r_ui=3.0, est=3.8941277176531806, details={'was_impossible': False}),\n",
              " Prediction(uid=57, iid=1892, r_ui=5.0, est=3.8027624957049313, details={'was_impossible': False}),\n",
              " Prediction(uid=222, iid=1032, r_ui=3.0, est=4.104717471024773, details={'was_impossible': False}),\n",
              " Prediction(uid=365, iid=8796, r_ui=3.5, est=4.058560672649471, details={'was_impossible': False}),\n",
              " Prediction(uid=541, iid=1193, r_ui=4.0, est=3.87339638020464, details={'was_impossible': False}),\n",
              " Prediction(uid=500, iid=2683, r_ui=3.5, est=2.7043961369799225, details={'was_impossible': False}),\n",
              " Prediction(uid=457, iid=5449, r_ui=2.0, est=2.502776417063098, details={'was_impossible': False}),\n",
              " Prediction(uid=176, iid=7147, r_ui=4.0, est=3.029451201807917, details={'was_impossible': False}),\n",
              " Prediction(uid=299, iid=2459, r_ui=4.5, est=3.940754789672471, details={'was_impossible': False}),\n",
              " Prediction(uid=480, iid=72998, r_ui=5.0, est=3.63724515326291, details={'was_impossible': False}),\n",
              " Prediction(uid=388, iid=1468, r_ui=2.0, est=3.3542113033079084, details={'was_impossible': False}),\n",
              " Prediction(uid=661, iid=1965, r_ui=4.0, est=4.157863449898335, details={'was_impossible': False}),\n",
              " Prediction(uid=478, iid=64957, r_ui=5.0, est=4.1628804377031425, details={'was_impossible': False}),\n",
              " Prediction(uid=165, iid=3033, r_ui=4.0, est=2.938752945971163, details={'was_impossible': False}),\n",
              " Prediction(uid=514, iid=1126, r_ui=3.0, est=3.138545954431903, details={'was_impossible': False}),\n",
              " Prediction(uid=564, iid=2255, r_ui=4.0, est=3.6997101376703427, details={'was_impossible': False}),\n",
              " Prediction(uid=198, iid=2858, r_ui=5.0, est=3.764461354905481, details={'was_impossible': False}),\n",
              " Prediction(uid=563, iid=107069, r_ui=4.0, est=3.62490970627417, details={'was_impossible': False}),\n",
              " Prediction(uid=431, iid=45722, r_ui=5.0, est=3.9538351940940593, details={'was_impossible': False}),\n",
              " Prediction(uid=130, iid=3911, r_ui=2.0, est=3.8359546962333373, details={'was_impossible': False}),\n",
              " Prediction(uid=105, iid=357, r_ui=4.0, est=3.5351295729223704, details={'was_impossible': False}),\n",
              " Prediction(uid=520, iid=296, r_ui=4.0, est=4.089348346493395, details={'was_impossible': False}),\n",
              " Prediction(uid=339, iid=73017, r_ui=4.0, est=3.8145295503744423, details={'was_impossible': False}),\n",
              " Prediction(uid=152, iid=76093, r_ui=3.5, est=3.9829493296493266, details={'was_impossible': False}),\n",
              " Prediction(uid=149, iid=1682, r_ui=3.5, est=3.505956353735421, details={'was_impossible': False}),\n",
              " Prediction(uid=603, iid=480, r_ui=5.0, est=3.915821558426668, details={'was_impossible': False}),\n",
              " Prediction(uid=254, iid=333, r_ui=3.0, est=3.3449174034071154, details={'was_impossible': False}),\n",
              " Prediction(uid=610, iid=38061, r_ui=3.5, est=3.672186624132546, details={'was_impossible': False}),\n",
              " Prediction(uid=385, iid=185, r_ui=3.0, est=3.081284142349095, details={'was_impossible': False}),\n",
              " Prediction(uid=212, iid=2657, r_ui=3.0, est=2.677923468947418, details={'was_impossible': False}),\n",
              " Prediction(uid=241, iid=196, r_ui=3.0, est=2.7564341455890817, details={'was_impossible': False}),\n",
              " Prediction(uid=312, iid=1616, r_ui=3.0, est=2.990337556161646, details={'was_impossible': False}),\n",
              " Prediction(uid=564, iid=345, r_ui=4.0, est=3.1496958090521643, details={'was_impossible': False}),\n",
              " Prediction(uid=532, iid=110, r_ui=3.5, est=3.755019318154356, details={'was_impossible': False}),\n",
              " Prediction(uid=625, iid=72998, r_ui=4.0, est=4.1709793472925085, details={'was_impossible': False}),\n",
              " Prediction(uid=466, iid=2355, r_ui=5.0, est=3.769309165639111, details={'was_impossible': False}),\n",
              " Prediction(uid=281, iid=7087, r_ui=5.0, est=3.927480725920548, details={'was_impossible': False}),\n",
              " Prediction(uid=150, iid=1909, r_ui=3.0, est=2.742093690892047, details={'was_impossible': False}),\n",
              " Prediction(uid=624, iid=94478, r_ui=2.0, est=2.797010935983027, details={'was_impossible': False}),\n",
              " Prediction(uid=289, iid=69757, r_ui=4.5, est=3.910834185728366, details={'was_impossible': False}),\n",
              " Prediction(uid=609, iid=4399, r_ui=1.0, est=2.0581012325155634, details={'was_impossible': False}),\n",
              " Prediction(uid=133, iid=85438, r_ui=2.5, est=2.271490786699018, details={'was_impossible': False}),\n",
              " Prediction(uid=384, iid=223, r_ui=3.0, est=3.6895147499436263, details={'was_impossible': False}),\n",
              " Prediction(uid=479, iid=1136, r_ui=5.0, est=4.525466355862641, details={'was_impossible': False}),\n",
              " Prediction(uid=235, iid=457, r_ui=5.0, est=4.366314395267639, details={'was_impossible': False}),\n",
              " Prediction(uid=182, iid=355, r_ui=3.0, est=2.6994516284308454, details={'was_impossible': False}),\n",
              " Prediction(uid=294, iid=1747, r_ui=4.0, est=3.6877319321469004, details={'was_impossible': False}),\n",
              " Prediction(uid=30, iid=1785, r_ui=4.0, est=4.243427174330237, details={'was_impossible': False}),\n",
              " Prediction(uid=294, iid=911, r_ui=4.5, est=4.150483525830158, details={'was_impossible': False}),\n",
              " Prediction(uid=520, iid=457, r_ui=3.5, est=3.4890643946476416, details={'was_impossible': False}),\n",
              " Prediction(uid=102, iid=147, r_ui=4.0, est=3.6142032476990775, details={'was_impossible': False}),\n",
              " Prediction(uid=348, iid=2858, r_ui=5.0, est=3.6206567291527456, details={'was_impossible': False}),\n",
              " Prediction(uid=406, iid=5971, r_ui=4.5, est=4.584169339291575, details={'was_impossible': False}),\n",
              " Prediction(uid=482, iid=1210, r_ui=4.0, est=4.36829274504512, details={'was_impossible': False}),\n",
              " Prediction(uid=615, iid=6807, r_ui=4.0, est=3.664393064745277, details={'was_impossible': False}),\n",
              " Prediction(uid=315, iid=953, r_ui=4.0, est=3.098927583320796, details={'was_impossible': False}),\n",
              " Prediction(uid=172, iid=296, r_ui=5.0, est=4.397798557355561, details={'was_impossible': False}),\n",
              " Prediction(uid=299, iid=5780, r_ui=4.5, est=4.065002191723546, details={'was_impossible': False}),\n",
              " Prediction(uid=599, iid=83349, r_ui=4.0, est=3.6210333668482555, details={'was_impossible': False}),\n",
              " Prediction(uid=564, iid=1193, r_ui=5.0, est=4.83627623829554, details={'was_impossible': False}),\n",
              " Prediction(uid=165, iid=1682, r_ui=3.0, est=3.2188476447327483, details={'was_impossible': False}),\n",
              " Prediction(uid=627, iid=5816, r_ui=4.0, est=3.377054425140439, details={'was_impossible': False}),\n",
              " Prediction(uid=587, iid=5418, r_ui=4.0, est=4.2182606696939455, details={'was_impossible': False}),\n",
              " Prediction(uid=514, iid=1261, r_ui=4.0, est=3.739390962309338, details={'was_impossible': False}),\n",
              " Prediction(uid=148, iid=2046, r_ui=4.5, est=3.894960906616791, details={'was_impossible': False}),\n",
              " Prediction(uid=575, iid=1928, r_ui=3.0, est=3.258925470966984, details={'was_impossible': False}),\n",
              " Prediction(uid=303, iid=3949, r_ui=4.0, est=3.6319810207272254, details={'was_impossible': False}),\n",
              " Prediction(uid=472, iid=4990, r_ui=3.0, est=3.5109725488111008, details={'was_impossible': False}),\n",
              " Prediction(uid=402, iid=98491, r_ui=5.0, est=3.882117560151773, details={'was_impossible': False}),\n",
              " Prediction(uid=68, iid=260, r_ui=3.0, est=4.153177590472675, details={'was_impossible': False}),\n",
              " Prediction(uid=656, iid=1957, r_ui=5.0, est=5, details={'was_impossible': False}),\n",
              " Prediction(uid=466, iid=1297, r_ui=2.0, est=3.7068918730404397, details={'was_impossible': False}),\n",
              " Prediction(uid=358, iid=2356, r_ui=4.0, est=2.8571169557349116, details={'was_impossible': False}),\n",
              " Prediction(uid=452, iid=2245, r_ui=4.0, est=3.206384911188043, details={'was_impossible': False}),\n",
              " Prediction(uid=623, iid=2762, r_ui=4.5, est=4.437628807511806, details={'was_impossible': False}),\n",
              " Prediction(uid=149, iid=908, r_ui=3.0, est=3.9252911580725542, details={'was_impossible': False}),\n",
              " Prediction(uid=8, iid=7153, r_ui=4.0, est=4.03466926162192, details={'was_impossible': False}),\n",
              " Prediction(uid=311, iid=1541, r_ui=0.5, est=2.6349252516013855, details={'was_impossible': False}),\n",
              " Prediction(uid=363, iid=2690, r_ui=4.0, est=3.9904674668273237, details={'was_impossible': False}),\n",
              " Prediction(uid=605, iid=234, r_ui=1.0, est=2.710255741151615, details={'was_impossible': False}),\n",
              " Prediction(uid=313, iid=7154, r_ui=4.0, est=3.3734608677673616, details={'was_impossible': False}),\n",
              " Prediction(uid=473, iid=2571, r_ui=5.0, est=4.934894752273111, details={'was_impossible': False}),\n",
              " Prediction(uid=267, iid=46976, r_ui=4.0, est=4.3478796794369226, details={'was_impossible': False}),\n",
              " Prediction(uid=654, iid=3101, r_ui=4.0, est=3.9482123110943563, details={'was_impossible': False}),\n",
              " Prediction(uid=285, iid=1380, r_ui=1.0, est=3.133905008356365, details={'was_impossible': False}),\n",
              " Prediction(uid=512, iid=74458, r_ui=5.0, est=3.9984651781908678, details={'was_impossible': False}),\n",
              " Prediction(uid=463, iid=2989, r_ui=4.0, est=3.5556190172416566, details={'was_impossible': False}),\n",
              " Prediction(uid=468, iid=67504, r_ui=5.0, est=2.9075147456384784, details={'was_impossible': False}),\n",
              " Prediction(uid=93, iid=595, r_ui=4.0, est=3.634701986984868, details={'was_impossible': False}),\n",
              " Prediction(uid=102, iid=905, r_ui=4.0, est=4.710570508946033, details={'was_impossible': False}),\n",
              " Prediction(uid=596, iid=1387, r_ui=4.5, est=4.090096742883695, details={'was_impossible': False}),\n",
              " Prediction(uid=564, iid=3946, r_ui=4.0, est=3.3227043335307735, details={'was_impossible': False}),\n",
              " Prediction(uid=148, iid=2174, r_ui=4.0, est=3.7457406970969798, details={'was_impossible': False}),\n",
              " Prediction(uid=528, iid=1206, r_ui=4.0, est=3.6984813029917745, details={'was_impossible': False}),\n",
              " Prediction(uid=494, iid=60069, r_ui=4.0, est=3.742509782392156, details={'was_impossible': False}),\n",
              " Prediction(uid=15, iid=1179, r_ui=4.0, est=3.4562207632058755, details={'was_impossible': False}),\n",
              " Prediction(uid=642, iid=1057, r_ui=4.0, est=3.700624309794077, details={'was_impossible': False}),\n",
              " Prediction(uid=612, iid=349, r_ui=3.0, est=3.6760072542840727, details={'was_impossible': False}),\n",
              " Prediction(uid=481, iid=57038, r_ui=5.0, est=3.924714066826331, details={'was_impossible': False}),\n",
              " Prediction(uid=624, iid=2474, r_ui=4.0, est=3.1196103951941563, details={'was_impossible': False}),\n",
              " Prediction(uid=599, iid=1270, r_ui=4.5, est=4.470026208763431, details={'was_impossible': False}),\n",
              " Prediction(uid=360, iid=2916, r_ui=3.0, est=3.473173348878791, details={'was_impossible': False}),\n",
              " Prediction(uid=534, iid=1876, r_ui=4.0, est=3.5074890127814817, details={'was_impossible': False}),\n",
              " Prediction(uid=547, iid=4098, r_ui=3.0, est=3.297043574068078, details={'was_impossible': False}),\n",
              " Prediction(uid=294, iid=235, r_ui=3.0, est=3.8524132430581735, details={'was_impossible': False}),\n",
              " Prediction(uid=311, iid=6431, r_ui=3.0, est=3.0026661184231367, details={'was_impossible': False}),\n",
              " Prediction(uid=111, iid=3210, r_ui=3.0, est=3.761823859959433, details={'was_impossible': False}),\n",
              " Prediction(uid=353, iid=485, r_ui=2.0, est=2.332203732962858, details={'was_impossible': False}),\n",
              " Prediction(uid=587, iid=6008, r_ui=4.0, est=3.712756039326589, details={'was_impossible': False}),\n",
              " Prediction(uid=468, iid=2398, r_ui=3.5, est=2.739299860736623, details={'was_impossible': False}),\n",
              " Prediction(uid=67, iid=16, r_ui=4.0, est=3.8592786721852246, details={'was_impossible': False}),\n",
              " Prediction(uid=79, iid=1580, r_ui=3.0, est=2.7129766763299576, details={'was_impossible': False}),\n",
              " Prediction(uid=508, iid=11, r_ui=3.0, est=3.976370794931884, details={'was_impossible': False}),\n",
              " Prediction(uid=405, iid=2312, r_ui=4.5, est=3.759236878304374, details={'was_impossible': False}),\n",
              " Prediction(uid=355, iid=1625, r_ui=4.5, est=4.018449442787942, details={'was_impossible': False}),\n",
              " ...]"
            ]
          },
          "metadata": {
            "tags": []
          },
          "execution_count": 62
        }
      ]
    },
    {
      "cell_type": "markdown",
      "metadata": {
        "id": "bjPHVvX5EjxA",
        "colab_type": "text"
      },
      "source": [
        "Here we have all the predictions of Test set"
      ]
    },
    {
      "cell_type": "code",
      "metadata": {
        "id": "3rGj5L5cGyCu",
        "colab_type": "code",
        "colab": {}
      },
      "source": [
        "prediction = pd.DataFrame(predictions, columns=['uid','iid','r_ui','est','details']).to_csv('Predictions.csv')"
      ],
      "execution_count": null,
      "outputs": []
    },
    {
      "cell_type": "code",
      "metadata": {
        "id": "Yru9bbXCQFpX",
        "colab_type": "code",
        "colab": {}
      },
      "source": [
        "prediction = pd.DataFrame(predictions, columns=['uid','iid','r_ui','est','details'])"
      ],
      "execution_count": null,
      "outputs": []
    },
    {
      "cell_type": "code",
      "metadata": {
        "id": "FwCYwzjJIP6C",
        "colab_type": "code",
        "colab": {
          "base_uri": "https://localhost:8080/",
          "height": 202
        },
        "outputId": "42550234-f810-4d13-9268-d8bea6293fab"
      },
      "source": [
        "prediction.head()"
      ],
      "execution_count": null,
      "outputs": [
        {
          "output_type": "execute_result",
          "data": {
            "text/html": [
              "<div>\n",
              "<style scoped>\n",
              "    .dataframe tbody tr th:only-of-type {\n",
              "        vertical-align: middle;\n",
              "    }\n",
              "\n",
              "    .dataframe tbody tr th {\n",
              "        vertical-align: top;\n",
              "    }\n",
              "\n",
              "    .dataframe thead th {\n",
              "        text-align: right;\n",
              "    }\n",
              "</style>\n",
              "<table border=\"1\" class=\"dataframe\">\n",
              "  <thead>\n",
              "    <tr style=\"text-align: right;\">\n",
              "      <th></th>\n",
              "      <th>uid</th>\n",
              "      <th>iid</th>\n",
              "      <th>r_ui</th>\n",
              "      <th>est</th>\n",
              "      <th>details</th>\n",
              "    </tr>\n",
              "  </thead>\n",
              "  <tbody>\n",
              "    <tr>\n",
              "      <th>0</th>\n",
              "      <td>416</td>\n",
              "      <td>150</td>\n",
              "      <td>3.0</td>\n",
              "      <td>3.786980</td>\n",
              "      <td>{'was_impossible': False}</td>\n",
              "    </tr>\n",
              "    <tr>\n",
              "      <th>1</th>\n",
              "      <td>264</td>\n",
              "      <td>2125</td>\n",
              "      <td>5.0</td>\n",
              "      <td>3.892936</td>\n",
              "      <td>{'was_impossible': False}</td>\n",
              "    </tr>\n",
              "    <tr>\n",
              "      <th>2</th>\n",
              "      <td>316</td>\n",
              "      <td>68157</td>\n",
              "      <td>4.0</td>\n",
              "      <td>4.115667</td>\n",
              "      <td>{'was_impossible': False}</td>\n",
              "    </tr>\n",
              "    <tr>\n",
              "      <th>3</th>\n",
              "      <td>102</td>\n",
              "      <td>3608</td>\n",
              "      <td>4.0</td>\n",
              "      <td>3.683864</td>\n",
              "      <td>{'was_impossible': False}</td>\n",
              "    </tr>\n",
              "    <tr>\n",
              "      <th>4</th>\n",
              "      <td>212</td>\n",
              "      <td>145</td>\n",
              "      <td>2.5</td>\n",
              "      <td>3.261195</td>\n",
              "      <td>{'was_impossible': False}</td>\n",
              "    </tr>\n",
              "  </tbody>\n",
              "</table>\n",
              "</div>"
            ],
            "text/plain": [
              "   uid    iid  r_ui       est                    details\n",
              "0  416    150   3.0  3.786980  {'was_impossible': False}\n",
              "1  264   2125   5.0  3.892936  {'was_impossible': False}\n",
              "2  316  68157   4.0  4.115667  {'was_impossible': False}\n",
              "3  102   3608   4.0  3.683864  {'was_impossible': False}\n",
              "4  212    145   2.5  3.261195  {'was_impossible': False}"
            ]
          },
          "metadata": {
            "tags": []
          },
          "execution_count": 68
        }
      ]
    },
    {
      "cell_type": "code",
      "metadata": {
        "id": "5vbNxvHxQAcz",
        "colab_type": "code",
        "colab": {}
      },
      "source": [
        ""
      ],
      "execution_count": null,
      "outputs": []
    }
  ]
}