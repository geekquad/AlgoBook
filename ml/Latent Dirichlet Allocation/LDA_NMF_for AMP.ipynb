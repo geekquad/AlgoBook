{
 "cells": [
  {
   "cell_type": "code",
   "execution_count": 92,
   "metadata": {},
   "outputs": [],
   "source": [
    "%matplotlib inline"
   ]
  },
  {
   "cell_type": "markdown",
   "metadata": {},
   "source": [
    "\n",
    "# Topic extraction with Non-negative Matrix Factorization and Latent Dirichlet Allocation\n",
    "\n",
    "\n",
    "This is an application of Latent Dirichilet Allocation and Non-negative Matrix Factorization on a corpus\n",
    "of documents and extract additive models of the topic structure of the\n",
    "corpus.\n",
    "\n",
    "Non-negative Matrix Factorization is applied with the objective\n",
    "function: the Frobenius norm.\n",
    "\n"
   ]
  },
  {
   "cell_type": "code",
   "execution_count": 1,
   "metadata": {},
   "outputs": [],
   "source": [
    "from time import time\n",
    "import numpy as np\n",
    "from sklearn.feature_extraction.text import TfidfVectorizer, CountVectorizer\n",
    "from sklearn.decomposition import NMF, LatentDirichletAllocation\n",
    "from sklearn.datasets import fetch_20newsgroups\n",
    "import pandas as pd\n",
    "\n",
    "n_samples = 2000\n",
    "n_features = 1000\n",
    "n_components = 10\n",
    "n_top_words = 20\n"
   ]
  },
  {
   "cell_type": "code",
   "execution_count": 2,
   "metadata": {},
   "outputs": [],
   "source": [
    "def print_top_words(model, feature_names, n_top_words):\n",
    "    for topic_idx, topic in enumerate(model.components_):\n",
    "        message = \"Topic #%d: \" % topic_idx\n",
    "        message += \" \".join([feature_names[i]\n",
    "                             for i in topic.argsort()[:-n_top_words - 1:-1]])\n",
    "        print(message)\n",
    "    print()\n",
    "\n",
    "def process(x):\n",
    "    x = pd.Series(x)\n",
    "    x = tfidf_vectorizer.transform(x)\n",
    "    return x\n",
    "\n",
    "def result(x):\n",
    "    x = lda.transform(x)\n",
    "    x = x.reshape(10,)\n",
    "    xd = {'Themes':themes,'Percent Probability': x} \n",
    "    xd = pd.DataFrame(xd)\n",
    "    print(xd)"
   ]
  },
  {
   "cell_type": "code",
   "execution_count": 3,
   "metadata": {},
   "outputs": [],
   "source": [
    "read = pd.read_csv('people_wiki.csv')\n",
    "data_samples = read.text"
   ]
  },
  {
   "cell_type": "code",
   "execution_count": 4,
   "metadata": {},
   "outputs": [
    {
     "data": {
      "text/html": [
       "<div>\n",
       "<style scoped>\n",
       "    .dataframe tbody tr th:only-of-type {\n",
       "        vertical-align: middle;\n",
       "    }\n",
       "\n",
       "    .dataframe tbody tr th {\n",
       "        vertical-align: top;\n",
       "    }\n",
       "\n",
       "    .dataframe thead th {\n",
       "        text-align: right;\n",
       "    }\n",
       "</style>\n",
       "<table border=\"1\" class=\"dataframe\">\n",
       "  <thead>\n",
       "    <tr style=\"text-align: right;\">\n",
       "      <th></th>\n",
       "      <th>URI</th>\n",
       "      <th>name</th>\n",
       "      <th>text</th>\n",
       "    </tr>\n",
       "  </thead>\n",
       "  <tbody>\n",
       "    <tr>\n",
       "      <th>0</th>\n",
       "      <td>&lt;http://dbpedia.org/resource/Digby_Morrell&gt;</td>\n",
       "      <td>Digby Morrell</td>\n",
       "      <td>digby morrell born 10 october 1979 is a former...</td>\n",
       "    </tr>\n",
       "    <tr>\n",
       "      <th>1</th>\n",
       "      <td>&lt;http://dbpedia.org/resource/Alfred_J._Lewy&gt;</td>\n",
       "      <td>Alfred J. Lewy</td>\n",
       "      <td>alfred j lewy aka sandy lewy graduated from un...</td>\n",
       "    </tr>\n",
       "    <tr>\n",
       "      <th>2</th>\n",
       "      <td>&lt;http://dbpedia.org/resource/Harpdog_Brown&gt;</td>\n",
       "      <td>Harpdog Brown</td>\n",
       "      <td>harpdog brown is a singer and harmonica player...</td>\n",
       "    </tr>\n",
       "    <tr>\n",
       "      <th>3</th>\n",
       "      <td>&lt;http://dbpedia.org/resource/Franz_Rottensteiner&gt;</td>\n",
       "      <td>Franz Rottensteiner</td>\n",
       "      <td>franz rottensteiner born in waidmannsfeld lowe...</td>\n",
       "    </tr>\n",
       "    <tr>\n",
       "      <th>4</th>\n",
       "      <td>&lt;http://dbpedia.org/resource/G-Enka&gt;</td>\n",
       "      <td>G-Enka</td>\n",
       "      <td>henry krvits born 30 december 1974 in tallinn ...</td>\n",
       "    </tr>\n",
       "    <tr>\n",
       "      <th>...</th>\n",
       "      <td>...</td>\n",
       "      <td>...</td>\n",
       "      <td>...</td>\n",
       "    </tr>\n",
       "    <tr>\n",
       "      <th>59066</th>\n",
       "      <td>&lt;http://dbpedia.org/resource/Olari_Elts&gt;</td>\n",
       "      <td>Olari Elts</td>\n",
       "      <td>olari elts born april 27 1971 in tallinn eston...</td>\n",
       "    </tr>\n",
       "    <tr>\n",
       "      <th>59067</th>\n",
       "      <td>&lt;http://dbpedia.org/resource/Scott_F._Crago&gt;</td>\n",
       "      <td>Scott F. Crago</td>\n",
       "      <td>scott francis crago born july 26 1963 twin bro...</td>\n",
       "    </tr>\n",
       "    <tr>\n",
       "      <th>59068</th>\n",
       "      <td>&lt;http://dbpedia.org/resource/David_Cass_(footb...</td>\n",
       "      <td>David Cass (footballer)</td>\n",
       "      <td>david william royce cass born 27 march 1962 in...</td>\n",
       "    </tr>\n",
       "    <tr>\n",
       "      <th>59069</th>\n",
       "      <td>&lt;http://dbpedia.org/resource/Keith_Elias&gt;</td>\n",
       "      <td>Keith Elias</td>\n",
       "      <td>keith hector elias born february 3 1972 in lac...</td>\n",
       "    </tr>\n",
       "    <tr>\n",
       "      <th>59070</th>\n",
       "      <td>&lt;http://dbpedia.org/resource/Fawaz_Damrah&gt;</td>\n",
       "      <td>Fawaz Damrah</td>\n",
       "      <td>fawaz mohammed damrah arabic fawwz damra was t...</td>\n",
       "    </tr>\n",
       "  </tbody>\n",
       "</table>\n",
       "<p>59071 rows × 3 columns</p>\n",
       "</div>"
      ],
      "text/plain": [
       "                                                     URI  \\\n",
       "0            <http://dbpedia.org/resource/Digby_Morrell>   \n",
       "1           <http://dbpedia.org/resource/Alfred_J._Lewy>   \n",
       "2            <http://dbpedia.org/resource/Harpdog_Brown>   \n",
       "3      <http://dbpedia.org/resource/Franz_Rottensteiner>   \n",
       "4                   <http://dbpedia.org/resource/G-Enka>   \n",
       "...                                                  ...   \n",
       "59066           <http://dbpedia.org/resource/Olari_Elts>   \n",
       "59067       <http://dbpedia.org/resource/Scott_F._Crago>   \n",
       "59068  <http://dbpedia.org/resource/David_Cass_(footb...   \n",
       "59069          <http://dbpedia.org/resource/Keith_Elias>   \n",
       "59070         <http://dbpedia.org/resource/Fawaz_Damrah>   \n",
       "\n",
       "                          name  \\\n",
       "0                Digby Morrell   \n",
       "1               Alfred J. Lewy   \n",
       "2                Harpdog Brown   \n",
       "3          Franz Rottensteiner   \n",
       "4                       G-Enka   \n",
       "...                        ...   \n",
       "59066               Olari Elts   \n",
       "59067           Scott F. Crago   \n",
       "59068  David Cass (footballer)   \n",
       "59069              Keith Elias   \n",
       "59070             Fawaz Damrah   \n",
       "\n",
       "                                                    text  \n",
       "0      digby morrell born 10 october 1979 is a former...  \n",
       "1      alfred j lewy aka sandy lewy graduated from un...  \n",
       "2      harpdog brown is a singer and harmonica player...  \n",
       "3      franz rottensteiner born in waidmannsfeld lowe...  \n",
       "4      henry krvits born 30 december 1974 in tallinn ...  \n",
       "...                                                  ...  \n",
       "59066  olari elts born april 27 1971 in tallinn eston...  \n",
       "59067  scott francis crago born july 26 1963 twin bro...  \n",
       "59068  david william royce cass born 27 march 1962 in...  \n",
       "59069  keith hector elias born february 3 1972 in lac...  \n",
       "59070  fawaz mohammed damrah arabic fawwz damra was t...  \n",
       "\n",
       "[59071 rows x 3 columns]"
      ]
     },
     "execution_count": 4,
     "metadata": {},
     "output_type": "execute_result"
    }
   ],
   "source": [
    "read"
   ]
  },
  {
   "cell_type": "code",
   "execution_count": 5,
   "metadata": {},
   "outputs": [],
   "source": [
    "tfidf_vectorizer = TfidfVectorizer(max_df=0.95, min_df=2,\n",
    "                                   max_features=n_features,\n",
    "                                   stop_words='english')\n",
    "tfidf = tfidf_vectorizer.fit_transform(data_samples)"
   ]
  },
  {
   "cell_type": "code",
   "execution_count": 6,
   "metadata": {},
   "outputs": [
    {
     "name": "stdout",
     "output_type": "stream",
     "text": [
      "done in 56.329s.\n",
      "\n",
      "Topics in LDA model:\n",
      "Topic #0: world won championships championship team tour racing olympics champion race olympic finished competed event title professional win medal time record\n",
      "Topic #1: party election minister elected member state served politician parliament democratic assembly committee candidate government republican house council district seat president\n",
      "Topic #2: league season football played team coach games club baseball player game career seasons basketball playing cup signed professional goals hockey\n",
      "Topic #3: business board president university company executive director chairman development international management served public member ceo chief global technology policy new\n",
      "Topic #4: court law united church states judge served military police prison general president army bishop district rights justice chief years appointed\n",
      "Topic #5: music album band released song songs records jazz albums singer rock recorded guitar solo recording new label single musician performed\n",
      "Topic #6: film television music theatre series films role radio opera festival award appeared actor orchestra tv directed best comedy director new\n",
      "Topic #7: rugby australian australia zealand sydney wales south hong melbourne kong cup played union match england new super club africa world\n",
      "Topic #8: university research professor science institute studies phd society sciences college theory fellow history department work american received faculty published school\n",
      "Topic #9: art book published work new books york museum magazine novel university poetry writer author writing works award arts artist american\n",
      "\n"
     ]
    }
   ],
   "source": [
    "lda = LatentDirichletAllocation(n_components=n_components, max_iter=5,\n",
    "                                learning_method='online',\n",
    "                                learning_offset=50.,\n",
    "                                random_state=0)\n",
    "t0 = time()\n",
    "lda.fit(tfidf)\n",
    "print(\"done in %0.3fs.\" % (time() - t0))\n",
    "\n",
    "print(\"\\nTopics in LDA model:\")\n",
    "tf_feature_names = tfidf_vectorizer.get_feature_names()\n",
    "print_top_words(lda, tf_feature_names, n_top_words)"
   ]
  },
  {
   "cell_type": "code",
   "execution_count": 7,
   "metadata": {},
   "outputs": [
    {
     "data": {
      "text/plain": [
       "array([[0.0154394 , 0.01544066, 0.86102581, ..., 0.01546194, 0.01543905,\n",
       "        0.01543824],\n",
       "       [0.01649907, 0.01649879, 0.01649867, ..., 0.01649605, 0.52282269,\n",
       "        0.01650284],\n",
       "       [0.01352432, 0.01352331, 0.01352514, ..., 0.01352253, 0.01352579,\n",
       "        0.01352455],\n",
       "       ...,\n",
       "       [0.01428888, 0.01428937, 0.87137404, ..., 0.01428816, 0.01429388,\n",
       "        0.0142924 ],\n",
       "       [0.01372446, 0.0137222 , 0.87649441, ..., 0.01372098, 0.01372296,\n",
       "        0.01372273],\n",
       "       [0.01540958, 0.01541149, 0.01540975, ..., 0.01540815, 0.01541295,\n",
       "        0.01541231]])"
      ]
     },
     "execution_count": 7,
     "metadata": {},
     "output_type": "execute_result"
    }
   ],
   "source": [
    "final = lda.transform(tfidf)\n",
    "final"
   ]
  },
  {
   "cell_type": "code",
   "execution_count": 9,
   "metadata": {},
   "outputs": [
    {
     "data": {
      "text/html": [
       "<div>\n",
       "<style scoped>\n",
       "    .dataframe tbody tr th:only-of-type {\n",
       "        vertical-align: middle;\n",
       "    }\n",
       "\n",
       "    .dataframe tbody tr th {\n",
       "        vertical-align: top;\n",
       "    }\n",
       "\n",
       "    .dataframe thead th {\n",
       "        text-align: right;\n",
       "    }\n",
       "</style>\n",
       "<table border=\"1\" class=\"dataframe\">\n",
       "  <thead>\n",
       "    <tr style=\"text-align: right;\">\n",
       "      <th></th>\n",
       "      <th>international athletics</th>\n",
       "      <th>politics</th>\n",
       "      <th>team sports</th>\n",
       "      <th>business</th>\n",
       "      <th>Millitary</th>\n",
       "      <th>general music</th>\n",
       "      <th>TV and film</th>\n",
       "      <th>Matches</th>\n",
       "      <th>science and research</th>\n",
       "      <th>art and publishing</th>\n",
       "    </tr>\n",
       "  </thead>\n",
       "  <tbody>\n",
       "    <tr>\n",
       "      <th>0</th>\n",
       "      <td>0.015439</td>\n",
       "      <td>0.015441</td>\n",
       "      <td>0.861026</td>\n",
       "      <td>0.015439</td>\n",
       "      <td>0.015440</td>\n",
       "      <td>0.015438</td>\n",
       "      <td>0.015438</td>\n",
       "      <td>0.015462</td>\n",
       "      <td>0.015439</td>\n",
       "      <td>0.015438</td>\n",
       "    </tr>\n",
       "    <tr>\n",
       "      <th>1</th>\n",
       "      <td>0.016499</td>\n",
       "      <td>0.016499</td>\n",
       "      <td>0.016499</td>\n",
       "      <td>0.345178</td>\n",
       "      <td>0.016501</td>\n",
       "      <td>0.016499</td>\n",
       "      <td>0.016503</td>\n",
       "      <td>0.016496</td>\n",
       "      <td>0.522823</td>\n",
       "      <td>0.016503</td>\n",
       "    </tr>\n",
       "    <tr>\n",
       "      <th>2</th>\n",
       "      <td>0.013524</td>\n",
       "      <td>0.013523</td>\n",
       "      <td>0.013525</td>\n",
       "      <td>0.013524</td>\n",
       "      <td>0.013524</td>\n",
       "      <td>0.878282</td>\n",
       "      <td>0.013525</td>\n",
       "      <td>0.013523</td>\n",
       "      <td>0.013526</td>\n",
       "      <td>0.013525</td>\n",
       "    </tr>\n",
       "    <tr>\n",
       "      <th>3</th>\n",
       "      <td>0.014588</td>\n",
       "      <td>0.014587</td>\n",
       "      <td>0.014588</td>\n",
       "      <td>0.014588</td>\n",
       "      <td>0.014587</td>\n",
       "      <td>0.014586</td>\n",
       "      <td>0.014587</td>\n",
       "      <td>0.014585</td>\n",
       "      <td>0.014590</td>\n",
       "      <td>0.868714</td>\n",
       "    </tr>\n",
       "    <tr>\n",
       "      <th>4</th>\n",
       "      <td>0.016797</td>\n",
       "      <td>0.016795</td>\n",
       "      <td>0.016796</td>\n",
       "      <td>0.016795</td>\n",
       "      <td>0.016795</td>\n",
       "      <td>0.848844</td>\n",
       "      <td>0.016795</td>\n",
       "      <td>0.016794</td>\n",
       "      <td>0.016794</td>\n",
       "      <td>0.016795</td>\n",
       "    </tr>\n",
       "    <tr>\n",
       "      <th>...</th>\n",
       "      <td>...</td>\n",
       "      <td>...</td>\n",
       "      <td>...</td>\n",
       "      <td>...</td>\n",
       "      <td>...</td>\n",
       "      <td>...</td>\n",
       "      <td>...</td>\n",
       "      <td>...</td>\n",
       "      <td>...</td>\n",
       "      <td>...</td>\n",
       "    </tr>\n",
       "    <tr>\n",
       "      <th>59066</th>\n",
       "      <td>0.018898</td>\n",
       "      <td>0.018900</td>\n",
       "      <td>0.018899</td>\n",
       "      <td>0.018900</td>\n",
       "      <td>0.018900</td>\n",
       "      <td>0.018898</td>\n",
       "      <td>0.829864</td>\n",
       "      <td>0.018943</td>\n",
       "      <td>0.018899</td>\n",
       "      <td>0.018898</td>\n",
       "    </tr>\n",
       "    <tr>\n",
       "      <th>59067</th>\n",
       "      <td>0.014199</td>\n",
       "      <td>0.014196</td>\n",
       "      <td>0.014199</td>\n",
       "      <td>0.014197</td>\n",
       "      <td>0.014197</td>\n",
       "      <td>0.872185</td>\n",
       "      <td>0.014197</td>\n",
       "      <td>0.014236</td>\n",
       "      <td>0.014197</td>\n",
       "      <td>0.014197</td>\n",
       "    </tr>\n",
       "    <tr>\n",
       "      <th>59068</th>\n",
       "      <td>0.014289</td>\n",
       "      <td>0.014289</td>\n",
       "      <td>0.871374</td>\n",
       "      <td>0.014300</td>\n",
       "      <td>0.014292</td>\n",
       "      <td>0.014291</td>\n",
       "      <td>0.014290</td>\n",
       "      <td>0.014288</td>\n",
       "      <td>0.014294</td>\n",
       "      <td>0.014292</td>\n",
       "    </tr>\n",
       "    <tr>\n",
       "      <th>59069</th>\n",
       "      <td>0.013724</td>\n",
       "      <td>0.013722</td>\n",
       "      <td>0.876494</td>\n",
       "      <td>0.013723</td>\n",
       "      <td>0.013722</td>\n",
       "      <td>0.013724</td>\n",
       "      <td>0.013723</td>\n",
       "      <td>0.013721</td>\n",
       "      <td>0.013723</td>\n",
       "      <td>0.013723</td>\n",
       "    </tr>\n",
       "    <tr>\n",
       "      <th>59070</th>\n",
       "      <td>0.015410</td>\n",
       "      <td>0.015411</td>\n",
       "      <td>0.015410</td>\n",
       "      <td>0.015415</td>\n",
       "      <td>0.861296</td>\n",
       "      <td>0.015413</td>\n",
       "      <td>0.015412</td>\n",
       "      <td>0.015408</td>\n",
       "      <td>0.015413</td>\n",
       "      <td>0.015412</td>\n",
       "    </tr>\n",
       "  </tbody>\n",
       "</table>\n",
       "<p>59071 rows × 10 columns</p>\n",
       "</div>"
      ],
      "text/plain": [
       "       international athletics  politics  team sports  business  Millitary  \\\n",
       "0                     0.015439  0.015441     0.861026  0.015439   0.015440   \n",
       "1                     0.016499  0.016499     0.016499  0.345178   0.016501   \n",
       "2                     0.013524  0.013523     0.013525  0.013524   0.013524   \n",
       "3                     0.014588  0.014587     0.014588  0.014588   0.014587   \n",
       "4                     0.016797  0.016795     0.016796  0.016795   0.016795   \n",
       "...                        ...       ...          ...       ...        ...   \n",
       "59066                 0.018898  0.018900     0.018899  0.018900   0.018900   \n",
       "59067                 0.014199  0.014196     0.014199  0.014197   0.014197   \n",
       "59068                 0.014289  0.014289     0.871374  0.014300   0.014292   \n",
       "59069                 0.013724  0.013722     0.876494  0.013723   0.013722   \n",
       "59070                 0.015410  0.015411     0.015410  0.015415   0.861296   \n",
       "\n",
       "       general music  TV and film   Matches  science and research  \\\n",
       "0           0.015438     0.015438  0.015462              0.015439   \n",
       "1           0.016499     0.016503  0.016496              0.522823   \n",
       "2           0.878282     0.013525  0.013523              0.013526   \n",
       "3           0.014586     0.014587  0.014585              0.014590   \n",
       "4           0.848844     0.016795  0.016794              0.016794   \n",
       "...              ...          ...       ...                   ...   \n",
       "59066       0.018898     0.829864  0.018943              0.018899   \n",
       "59067       0.872185     0.014197  0.014236              0.014197   \n",
       "59068       0.014291     0.014290  0.014288              0.014294   \n",
       "59069       0.013724     0.013723  0.013721              0.013723   \n",
       "59070       0.015413     0.015412  0.015408              0.015413   \n",
       "\n",
       "       art and publishing  \n",
       "0                0.015438  \n",
       "1                0.016503  \n",
       "2                0.013525  \n",
       "3                0.868714  \n",
       "4                0.016795  \n",
       "...                   ...  \n",
       "59066            0.018898  \n",
       "59067            0.014197  \n",
       "59068            0.014292  \n",
       "59069            0.013723  \n",
       "59070            0.015412  \n",
       "\n",
       "[59071 rows x 10 columns]"
      ]
     },
     "execution_count": 9,
     "metadata": {},
     "output_type": "execute_result"
    }
   ],
   "source": [
    "res = pd.DataFrame(data= final,columns=themes)\n",
    "res"
   ]
  },
  {
   "cell_type": "code",
   "execution_count": 8,
   "metadata": {},
   "outputs": [],
   "source": [
    "themes = [ \n",
    "          'international athletics', \n",
    "          'politics',\n",
    "          'team sports',\n",
    "          'business',\n",
    "          'Millitary',\n",
    "          'general music',\n",
    "          'TV and film',\n",
    "          'Matches',\n",
    "          'science and research',\n",
    "          'art and publishing'  \n",
    "        ]"
   ]
  },
  {
   "cell_type": "code",
   "execution_count": 100,
   "metadata": {},
   "outputs": [
    {
     "data": {
      "text/plain": [
       "2    harpdog brown is a singer and harmonica player...\n",
       "Name: text, dtype: object"
      ]
     },
     "execution_count": 100,
     "metadata": {},
     "output_type": "execute_result"
    }
   ],
   "source": [
    "read.text[2:3]"
   ]
  },
  {
   "cell_type": "code",
   "execution_count": 105,
   "metadata": {},
   "outputs": [
    {
     "name": "stdout",
     "output_type": "stream",
     "text": [
      "                    Themes  Percent Probability\n",
      "0  international athletics             0.013524\n",
      "1                 politics             0.013523\n",
      "2              team sports             0.013525\n",
      "3                 business             0.013524\n",
      "4                Millitary             0.013524\n",
      "5            general music             0.878282\n",
      "6              TV and film             0.013525\n",
      "7                  Matches             0.013523\n",
      "8     science and research             0.013526\n",
      "9       art and publishing             0.013525\n"
     ]
    }
   ],
   "source": [
    "test = process(read.text[2:3])\n",
    "result(test)"
   ]
  },
  {
   "cell_type": "code",
   "execution_count": 46,
   "metadata": {},
   "outputs": [],
   "source": [
    "s = [\"At cricket he was equally good as a bat and as a wicket-keeper. Here is the Sussex county cricket ground. The company owns a park with football and cricket grounds.\"]"
   ]
  },
  {
   "cell_type": "code",
   "execution_count": 107,
   "metadata": {},
   "outputs": [
    {
     "name": "stdout",
     "output_type": "stream",
     "text": [
      "                    Themes  Percent Probability\n",
      "0  international athletics             0.031009\n",
      "1                 politics             0.031015\n",
      "2              team sports             0.629184\n",
      "3                 business             0.122733\n",
      "4                Millitary             0.031011\n",
      "5            general music             0.031011\n",
      "6              TV and film             0.031018\n",
      "7                  Matches             0.031003\n",
      "8     science and research             0.031005\n",
      "9       art and publishing             0.031011\n"
     ]
    }
   ],
   "source": [
    "test = process(s)\n",
    "result(test)"
   ]
  },
  {
   "cell_type": "code",
   "execution_count": 69,
   "metadata": {},
   "outputs": [
    {
     "data": {
      "text/plain": [
       "Pipeline(memory=None,\n",
       "         steps=[('tfidf',\n",
       "                 TfidfVectorizer(analyzer='word', binary=False,\n",
       "                                 decode_error='strict',\n",
       "                                 dtype=<class 'numpy.float64'>,\n",
       "                                 encoding='utf-8', input='content',\n",
       "                                 lowercase=True, max_df=0.95, max_features=1000,\n",
       "                                 min_df=2, ngram_range=(1, 1), norm='l2',\n",
       "                                 preprocessor=None, smooth_idf=True,\n",
       "                                 stop_words='english', strip_accents=None,\n",
       "                                 sublinear_tf=False,\n",
       "                                 token_pat...\n",
       "                                 vocabulary=None)),\n",
       "                ('lda',\n",
       "                 LatentDirichletAllocation(batch_size=128, doc_topic_prior=None,\n",
       "                                           evaluate_every=-1,\n",
       "                                           learning_decay=0.7,\n",
       "                                           learning_method='online',\n",
       "                                           learning_offset=50.0,\n",
       "                                           max_doc_update_iter=100, max_iter=5,\n",
       "                                           mean_change_tol=0.001,\n",
       "                                           n_components=10, n_jobs=None,\n",
       "                                           perp_tol=0.1, random_state=0,\n",
       "                                           topic_word_prior=None,\n",
       "                                           total_samples=1000000.0,\n",
       "                                           verbose=0))],\n",
       "         verbose=False)"
      ]
     },
     "execution_count": 69,
     "metadata": {},
     "output_type": "execute_result"
    }
   ],
   "source": [
    "from sklearn.pipeline import Pipeline\n",
    "pipeline = Pipeline(steps=[\n",
    "                          ('tfidf',tfidf_vectorizer),\n",
    "                          ('lda',lda)])\n",
    "pipeline.fit(data_samples)"
   ]
  },
  {
   "cell_type": "code",
   "execution_count": 50,
   "metadata": {},
   "outputs": [],
   "source": [
    "import math\n",
    "def recommend(x):\n",
    "    m = np.argmax(x['Percent Probability'])\n",
    "    am = np.max(x['Percent Probability']) \n",
    "    high = 10\n",
    "    for i,j in enumerate(res[res.columns[0]].values):\n",
    "        if abs(j-am) < high:\n",
    "            high = i\n",
    "    most = read.URI[high]\n",
    "    s = \"\"\n",
    "    for i in most:\n",
    "        if i not in \"<>\":\n",
    "            s += i\n",
    "    return s"
   ]
  },
  {
   "cell_type": "code",
   "execution_count": 45,
   "metadata": {},
   "outputs": [],
   "source": [
    "import joblib\n",
    "joblib.dump(pipeline,filename=\"Text_Classification1.joblib\")"
   ]
  },
  {
   "cell_type": "code",
   "execution_count": 19,
   "metadata": {},
   "outputs": [
    {
     "name": "stderr",
     "output_type": "stream",
     "text": [
      "C:\\Users\\tusha\\anaconda3\\lib\\site-packages\\sklearn\\base.py:334: UserWarning: Trying to unpickle estimator TfidfTransformer from version 0.22.1 when using version 0.23.2. This might lead to breaking code or invalid results. Use at your own risk.\n",
      "  UserWarning)\n",
      "C:\\Users\\tusha\\anaconda3\\lib\\site-packages\\sklearn\\base.py:334: UserWarning: Trying to unpickle estimator TfidfVectorizer from version 0.22.1 when using version 0.23.2. This might lead to breaking code or invalid results. Use at your own risk.\n",
      "  UserWarning)\n",
      "C:\\Users\\tusha\\anaconda3\\lib\\site-packages\\sklearn\\base.py:334: UserWarning: Trying to unpickle estimator LatentDirichletAllocation from version 0.22.1 when using version 0.23.2. This might lead to breaking code or invalid results. Use at your own risk.\n",
      "  UserWarning)\n",
      "C:\\Users\\tusha\\anaconda3\\lib\\site-packages\\sklearn\\base.py:334: UserWarning: Trying to unpickle estimator Pipeline from version 0.22.1 when using version 0.23.2. This might lead to breaking code or invalid results. Use at your own risk.\n",
      "  UserWarning)\n"
     ]
    }
   ],
   "source": [
    "x = joblib.load(\"Text_Classification.joblib\")"
   ]
  },
  {
   "cell_type": "code",
   "execution_count": 51,
   "metadata": {},
   "outputs": [],
   "source": [
    "def result_pipeline(x):\n",
    "    x = x.reshape(10,)\n",
    "    xd = {'Themes':themes,'Percent Probability': x} \n",
    "    xd = pd.DataFrame(xd)\n",
    "    print(xd)\n",
    "    return xd"
   ]
  },
  {
   "cell_type": "code",
   "execution_count": 48,
   "metadata": {},
   "outputs": [
    {
     "name": "stdout",
     "output_type": "stream",
     "text": [
      "                    Themes  Percent Probability\n",
      "0  international athletics             0.031009\n",
      "1                 politics             0.031015\n",
      "2              team sports             0.629184\n",
      "3                 business             0.122733\n",
      "4                Millitary             0.031011\n",
      "5            general music             0.031011\n",
      "6              TV and film             0.031018\n",
      "7                  Matches             0.031003\n",
      "8     science and research             0.031005\n",
      "9       art and publishing             0.031011\n"
     ]
    }
   ],
   "source": [
    "r1 = result_pipeline(x.transform(s))"
   ]
  },
  {
   "cell_type": "code",
   "execution_count": 49,
   "metadata": {},
   "outputs": [
    {
     "name": "stdout",
     "output_type": "stream",
     "text": [
      "0.015409577023628463\n",
      "http://dbpedia.org/resource/Digby_Morrell\n"
     ]
    }
   ],
   "source": [
    "print(recommend(r1))"
   ]
  },
  {
   "cell_type": "code",
   "execution_count": null,
   "metadata": {},
   "outputs": [],
   "source": []
  },
  {
   "cell_type": "code",
   "execution_count": null,
   "metadata": {},
   "outputs": [],
   "source": []
  }
 ],
 "metadata": {
  "kernelspec": {
   "display_name": "Python 3",
   "language": "python",
   "name": "python3"
  },
  "language_info": {
   "codemirror_mode": {
    "name": "ipython",
    "version": 3
   },
   "file_extension": ".py",
   "mimetype": "text/x-python",
   "name": "python",
   "nbconvert_exporter": "python",
   "pygments_lexer": "ipython3",
   "version": "3.7.6"
  }
 },
 "nbformat": 4,
 "nbformat_minor": 1
}
